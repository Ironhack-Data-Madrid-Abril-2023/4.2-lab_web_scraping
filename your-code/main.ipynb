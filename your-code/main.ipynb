{
 "cells": [
  {
   "cell_type": "markdown",
   "metadata": {},
   "source": [
    "# Web Scraping Lab\n",
    "\n",
    "You will find in this notebook some scrapy exercises to practise your scraping skills.\n",
    "\n",
    "**Tips:**\n",
    "\n",
    "- Check the response status code for each request to ensure you have obtained the intended contennt.\n",
    "- Print the response text in each request to understand the kind of info you are getting and its format.\n",
    "- Check for patterns in the response text to extract the data/info requested in each question.\n",
    "- Visit each url and take a look at its source through Chrome DevTools. You'll need to identify the html tags, special class names etc. used for the html content you are expected to extract."
   ]
  },
  {
   "cell_type": "markdown",
   "metadata": {},
   "source": [
    "- [Requests library](http://docs.python-requests.org/en/master/#the-user-guide) documentation \n",
    "- [Beautiful Soup Doc](https://www.crummy.com/software/BeautifulSoup/bs4/doc/)\n",
    "- [Urllib](https://docs.python.org/3/library/urllib.html#module-urllib)\n",
    "- [re lib](https://docs.python.org/3/library/re.html)\n",
    "- [lxml lib](https://lxml.de/)\n",
    "- [Scrapy](https://scrapy.org/)\n",
    "- [List of HTTP status codes](https://en.wikipedia.org/wiki/List_of_HTTP_status_codes)\n",
    "- [HTML basics](http://www.simplehtmlguide.com/cheatsheet.php)\n",
    "- [CSS basics](https://www.cssbasics.com/#page_start)"
   ]
  },
  {
   "cell_type": "markdown",
   "metadata": {},
   "source": [
    "#### Below are the libraries and modules you may need. `requests`,  `BeautifulSoup` and `pandas` are imported for you. If you prefer to use additional libraries feel free to uncomment them."
   ]
  },
  {
   "cell_type": "code",
   "execution_count": 63,
   "metadata": {},
   "outputs": [],
   "source": [
    "import requests\n",
    "from bs4 import BeautifulSoup\n",
    "import pandas as pd\n",
    "import requests as req\n",
    "# from pprint import pprint\n",
    "# from lxml import html\n",
    "# from lxml.html import fromstring\n",
    "# import urllib.request\n",
    "# from urllib.request import urlopen\n",
    "# import random\n",
    "# import re\n",
    "# import scrapy"
   ]
  },
  {
   "cell_type": "markdown",
   "metadata": {},
   "source": [
    "#### Download, parse (using BeautifulSoup), and print the content from the Trending Developers page from GitHub:"
   ]
  },
  {
   "cell_type": "code",
   "execution_count": 64,
   "metadata": {},
   "outputs": [
    {
     "name": "stdout",
     "output_type": "stream",
     "text": [
      "['Mattias Wadman', 'lllyasviel', 'Lianmin Zheng', 'Jerry Liu', 'Henrik Rydgård', 'Harrison Chase', 'Fons van der Plas', 'Steven Tey', 'Andreas Thomas', 'pilcrowOnPaper', 'Laurent Mazare', 'yetone', 'Tom Payne', 'Raphaël Benitte', 'Dillon Nys', 'Will McGugan', 'Luca Palmieri', 'Payton Swick', 'Martí Climent', 'dgtlmoon', 'Jelle Zijlstra', 'J. Nick Koston', 'Nuno Campos', 'Juliette', 'Lee Robinson']\n"
     ]
    }
   ],
   "source": [
    "#your code\n",
    "# This is the url you will scrape in this exercise\n",
    "url = 'https://github.com/trending/developers'\n",
    "html = req.get(url).content\n",
    "sopa = BeautifulSoup(html, \"html.parser\")\n",
    "cosa = sopa.find_all(\"h1\", {\"class\" : \"h3 lh-condensed\"})\n",
    "\n",
    "tren = [i.text.strip() for i in cosa] #ya sabemos los nombres, cómo sacar los nicks\n",
    "print(tren)"
   ]
  },
  {
   "cell_type": "markdown",
   "metadata": {},
   "source": [
    "#### Display the names of the trending developers retrieved in the previous step.\n",
    "\n",
    "Your output should be a Python list of developer names. Each name should not contain any html tag.\n",
    "\n",
    "**Instructions:**\n",
    "\n",
    "1. Find out the html tag and class names used for the developer names. You can achieve this using Chrome DevTools.\n",
    "\n",
    "1. Use BeautifulSoup to extract all the html elements that contain the developer names.\n",
    "\n",
    "1. Use string manipulation techniques to replace whitespaces and linebreaks (i.e. `\\n`) in the *text* of each html element. Use a list to store the clean names.\n",
    "\n",
    "1. Print the list of names.\n",
    "\n",
    "Your output should look like below:\n",
    "\n",
    "```\n",
    "['trimstray (@trimstray)',\n",
    " 'joewalnes (JoeWalnes)',\n",
    " 'charlax (Charles-AxelDein)',\n",
    " 'ForrestKnight (ForrestKnight)',\n",
    " 'revery-ui (revery-ui)',\n",
    " 'alibaba (Alibaba)',\n",
    " 'Microsoft (Microsoft)',\n",
    " 'github (GitHub)',\n",
    " 'facebook (Facebook)',\n",
    " 'boazsegev (Bo)',\n",
    " 'google (Google)',\n",
    " 'cloudfetch',\n",
    " 'sindresorhus (SindreSorhus)',\n",
    " 'tensorflow',\n",
    " 'apache (TheApacheSoftwareFoundation)',\n",
    " 'DevonCrawford (DevonCrawford)',\n",
    " 'ARMmbed (ArmMbed)',\n",
    " 'vuejs (vuejs)',\n",
    " 'fastai (fast.ai)',\n",
    " 'QiShaoXuan (Qi)',\n",
    " 'joelparkerhenderson (JoelParkerHenderson)',\n",
    " 'torvalds (LinusTorvalds)',\n",
    " 'CyC2018',\n",
    " 'komeiji-satori (神楽坂覚々)',\n",
    " 'script-8']\n",
    " ```"
   ]
  },
  {
   "cell_type": "code",
   "execution_count": 65,
   "metadata": {},
   "outputs": [
    {
     "name": "stdout",
     "output_type": "stream",
     "text": [
      "['Mattias Wadman (wader)', 'lllyasviel (lllyasviel)', 'Lianmin Zheng (merrymercy)', 'Jerry Liu (jerryjliu)', 'Henrik Rydgård (hrydgard)', 'Harrison Chase (hwchase17)', 'Fons van der Plas (fonsp)', 'Steven Tey (steven-tey)', 'Andreas Thomas (chronark)', 'pilcrowOnPaper (pilcrowOnPaper)', 'Laurent Mazare (LaurentMazare)', 'yetone (yetone)', 'Tom Payne (twpayne)', 'Raphaël Benitte (plouc)', 'Dillon Nys (dnys1)', 'Will McGugan (willmcgugan)', 'Luca Palmieri (LukeMathWalker)', 'Payton Swick (sirbrillig)', 'Martí Climent (marticliment)', 'dgtlmoon (dgtlmoon)', 'Jelle Zijlstra (JelleZijlstra)', 'J. Nick Koston (bdraco)', 'Nuno Campos (nfcampos)', 'Juliette (jrfnl)', 'Lee Robinson (leerob)']\n"
     ]
    }
   ],
   "source": [
    "url = 'https://github.com/trending/developers'\n",
    "respuesta = requests.get(url)\n",
    "\n",
    "sopa = BeautifulSoup(respuesta.text, 'html.parser')\n",
    "\n",
    "name_tags = sopa.find_all(['h1', 'h3'], {'class': 'h3 lh-condensed'})\n",
    "\n",
    "names = []\n",
    "for tag in name_tags:\n",
    "    name = tag.text.replace('\\n', '').strip()\n",
    "    username = tag.find('a')['href'][1:]\n",
    "    names.append(f\"{name} ({username})\") \n",
    "print(names)"
   ]
  },
  {
   "cell_type": "markdown",
   "metadata": {},
   "source": [
    "#### Display the trending Python repositories in GitHub\n",
    "\n",
    "The steps to solve this problem is similar to the previous one except that you need to find out the repository names instead of developer names."
   ]
  },
  {
   "cell_type": "code",
   "execution_count": 66,
   "metadata": {},
   "outputs": [],
   "source": [
    "# This is the url you will scrape in this exercise\n",
    "url = 'https://github.com/trending/python?since=daily'"
   ]
  },
  {
   "cell_type": "code",
   "execution_count": 67,
   "metadata": {},
   "outputs": [
    {
     "data": {
      "text/plain": [
       "['mlc-ai/mlc-llm',\n",
       " 'AIGC-Audio/AudioGPT',\n",
       " 'gventuri/pandas-ai',\n",
       " 'xtekky/gpt4free',\n",
       " 'irgolic/AutoPR',\n",
       " 'lamini-ai/lamini',\n",
       " 'deep-floyd/IF',\n",
       " 'deforum-art/deforum-stable-diffusion',\n",
       " 'home-assistant/core',\n",
       " 'cirediatpl/FigmaChain',\n",
       " 'IntelligenzaArtificiale/Free-AUTO-GPT-with-NO-API',\n",
       " 'mlc-ai/web-llm',\n",
       " 'AUTOMATIC1111/stable-diffusion-webui',\n",
       " 'ddPn08/Radiata',\n",
       " 'deforum-art/deforum-for-automatic1111-webui',\n",
       " 'ZrrSkywalker/LLaMA-Adapter',\n",
       " 'yt-dlp/yt-dlp',\n",
       " 'nlpxucan/WizardLM',\n",
       " 'GitHubDaily/ChatGPT-Prompt-Engineering-for-Developers-in-Chinese',\n",
       " 'georgia-tech-db/eva',\n",
       " 'xtekky/chatgpt-clone',\n",
       " 'mahdibland/V2RayAggregator',\n",
       " 'KurtBestor/Hitomi-Downloader',\n",
       " 'jaywalnut310/vits',\n",
       " 'isaiahbjork/Auto-GPT-Crypto-Plugin']"
      ]
     },
     "execution_count": 67,
     "metadata": {},
     "output_type": "execute_result"
    }
   ],
   "source": [
    "#your code\n",
    "respuesta = requests.get(url)\n",
    "sopa = BeautifulSoup(respuesta.text, \"html.parser\")\n",
    "x = sopa.find_all(\"h2\", {\"class\": \"h3 lh-condensed\"})\n",
    "\n",
    "repos = []\n",
    "for r in x: \n",
    "    repo = r.find(\"a\")[\"href\"][1:]\n",
    "    repos.append(repo) \n",
    "repos"
   ]
  },
  {
   "cell_type": "markdown",
   "metadata": {},
   "source": [
    "#### Display all the image links from Walt Disney wikipedia page"
   ]
  },
  {
   "cell_type": "code",
   "execution_count": 68,
   "metadata": {},
   "outputs": [],
   "source": [
    "# This is the url you will scrape in this exercise\n",
    "url = 'https://en.wikipedia.org/wiki/Walt_Disney'"
   ]
  },
  {
   "cell_type": "code",
   "execution_count": 69,
   "metadata": {},
   "outputs": [
    {
     "name": "stdout",
     "output_type": "stream",
     "text": [
      "/static/images/icons/wikipedia.png\n",
      "/static/images/mobile/copyright/wikipedia-wordmark-en.svg\n",
      "/static/images/mobile/copyright/wikipedia-tagline-en.svg\n",
      "//upload.wikimedia.org/wikipedia/en/thumb/e/e7/Cscr-featured.svg/20px-Cscr-featured.svg.png\n",
      "//upload.wikimedia.org/wikipedia/en/thumb/8/8c/Extended-protection-shackle.svg/20px-Extended-protection-shackle.svg.png\n",
      "//upload.wikimedia.org/wikipedia/commons/thumb/d/df/Walt_Disney_1946.JPG/220px-Walt_Disney_1946.JPG\n",
      "//upload.wikimedia.org/wikipedia/commons/thumb/8/87/Walt_Disney_1942_signature.svg/150px-Walt_Disney_1942_signature.svg.png\n",
      "//upload.wikimedia.org/wikipedia/commons/thumb/3/3a/Walt_Disney_Birthplace_Exterior_Hermosa_Chicago_Illinois.jpg/220px-Walt_Disney_Birthplace_Exterior_Hermosa_Chicago_Illinois.jpg\n",
      "//upload.wikimedia.org/wikipedia/commons/thumb/c/c4/Walt_Disney_envelope_ca._1921.jpg/220px-Walt_Disney_envelope_ca._1921.jpg\n",
      "//upload.wikimedia.org/wikipedia/commons/thumb/0/0d/Trolley_Troubles_poster.jpg/170px-Trolley_Troubles_poster.jpg\n",
      "//upload.wikimedia.org/wikipedia/en/thumb/4/4e/Steamboat-willie.jpg/170px-Steamboat-willie.jpg\n",
      "//upload.wikimedia.org/wikipedia/commons/thumb/5/57/Walt_Disney_1935.jpg/170px-Walt_Disney_1935.jpg\n",
      "//upload.wikimedia.org/wikipedia/commons/thumb/c/cd/Walt_Disney_Snow_white_1937_trailer_screenshot_%2813%29.jpg/220px-Walt_Disney_Snow_white_1937_trailer_screenshot_%2813%29.jpg\n",
      "//upload.wikimedia.org/wikipedia/commons/thumb/1/15/Disney_drawing_goofy.jpg/170px-Disney_drawing_goofy.jpg\n",
      "//upload.wikimedia.org/wikipedia/commons/thumb/8/8c/WaltDisneyplansDisneylandDec1954.jpg/220px-WaltDisneyplansDisneylandDec1954.jpg\n",
      "//upload.wikimedia.org/wikipedia/commons/thumb/f/ff/Walt_disney_portrait_right.jpg/170px-Walt_disney_portrait_right.jpg\n",
      "//upload.wikimedia.org/wikipedia/commons/thumb/1/1a/Walt_Disney_Grave.JPG/170px-Walt_Disney_Grave.JPG\n",
      "//upload.wikimedia.org/wikipedia/commons/thumb/2/2d/Roy_O._Disney_with_Company_at_Press_Conference.jpg/170px-Roy_O._Disney_with_Company_at_Press_Conference.jpg\n",
      "//upload.wikimedia.org/wikipedia/commons/thumb/1/13/DisneySchiphol1951.jpg/220px-DisneySchiphol1951.jpg\n",
      "//upload.wikimedia.org/wikipedia/commons/thumb/6/6c/Disney1968.jpg/170px-Disney1968.jpg\n",
      "//upload.wikimedia.org/wikipedia/commons/thumb/b/b0/Disney_Oscar_1953_%28cropped%29.jpg/170px-Disney_Oscar_1953_%28cropped%29.jpg\n",
      "//upload.wikimedia.org/wikipedia/en/thumb/4/4a/Commons-logo.svg/30px-Commons-logo.svg.png\n",
      "//upload.wikimedia.org/wikipedia/commons/thumb/4/4c/Wikisource-logo.svg/38px-Wikisource-logo.svg.png\n",
      "//upload.wikimedia.org/wikipedia/commons/thumb/f/fa/Wikiquote-logo.svg/34px-Wikiquote-logo.svg.png\n",
      "//upload.wikimedia.org/wikipedia/en/thumb/8/8a/OOjs_UI_icon_edit-ltr-progressive.svg/10px-OOjs_UI_icon_edit-ltr-progressive.svg.png\n",
      "//upload.wikimedia.org/wikipedia/en/thumb/8/8a/OOjs_UI_icon_edit-ltr-progressive.svg/10px-OOjs_UI_icon_edit-ltr-progressive.svg.png\n",
      "//upload.wikimedia.org/wikipedia/commons/thumb/e/e3/Disneyland_Resort_logo.svg/135px-Disneyland_Resort_logo.svg.png\n",
      "//upload.wikimedia.org/wikipedia/commons/thumb/d/da/Animation_disc.svg/20px-Animation_disc.svg.png\n",
      "//upload.wikimedia.org/wikipedia/en/thumb/6/69/P_vip.svg/19px-P_vip.svg.png\n",
      "//upload.wikimedia.org/wikipedia/commons/thumb/1/1a/Magic_Kingdom_castle.jpg/15px-Magic_Kingdom_castle.jpg\n",
      "//upload.wikimedia.org/wikipedia/en/thumb/e/e7/Video-x-generic.svg/19px-Video-x-generic.svg.png\n",
      "//upload.wikimedia.org/wikipedia/commons/thumb/a/a3/Flag_of_Los_Angeles_County%2C_California.svg/21px-Flag_of_Los_Angeles_County%2C_California.svg.png\n",
      "//upload.wikimedia.org/wikipedia/commons/thumb/8/8c/Blank_television_set.svg/21px-Blank_television_set.svg.png\n",
      "//upload.wikimedia.org/wikipedia/en/thumb/a/a4/Flag_of_the_United_States.svg/21px-Flag_of_the_United_States.svg.png\n",
      "//upload.wikimedia.org/wikipedia/en/thumb/4/4a/Commons-logo.svg/14px-Commons-logo.svg.png\n",
      "//upload.wikimedia.org/wikipedia/commons/thumb/f/fa/Wikiquote-logo.svg/16px-Wikiquote-logo.svg.png\n",
      "//upload.wikimedia.org/wikipedia/commons/thumb/4/4c/Wikisource-logo.svg/18px-Wikisource-logo.svg.png\n",
      "//upload.wikimedia.org/wikipedia/commons/thumb/f/ff/Wikidata-logo.svg/21px-Wikidata-logo.svg.png\n",
      "//upload.wikimedia.org/wikipedia/en/thumb/8/8a/OOjs_UI_icon_edit-ltr-progressive.svg/10px-OOjs_UI_icon_edit-ltr-progressive.svg.png\n",
      "//en.wikipedia.org/wiki/Special:CentralAutoLogin/start?type=1x1\n",
      "/static/images/footer/wikimedia-button.png\n",
      "/static/images/footer/poweredby_mediawiki_88x31.png\n"
     ]
    }
   ],
   "source": [
    "url = 'https://en.wikipedia.org/wiki/Walt_Disney'\n",
    "\n",
    "response = requests.get(url)\n",
    "soup = BeautifulSoup(response.text, 'html.parser')\n",
    "\n",
    "for img in soup.find_all('img'):\n",
    "    print(img.get('src'))"
   ]
  },
  {
   "cell_type": "markdown",
   "metadata": {},
   "source": [
    "#### Retrieve an arbitary Wikipedia page of \"Python\" and create a list of links on that page"
   ]
  },
  {
   "cell_type": "code",
   "execution_count": 70,
   "metadata": {},
   "outputs": [],
   "source": [
    "# This is the url you will scrape in this exercise\n",
    "url ='https://en.wikipedia.org/wiki/Python' "
   ]
  },
  {
   "cell_type": "code",
   "execution_count": 97,
   "metadata": {},
   "outputs": [
    {
     "name": "stdout",
     "output_type": "stream",
     "text": [
      "['//en.wikipedia.org/', '//ru.wikipedia.org/', '//ja.wikipedia.org/', '//de.wikipedia.org/', '//es.wikipedia.org/', '//fr.wikipedia.org/', '//it.wikipedia.org/', '//zh.wikipedia.org/', '//fa.wikipedia.org/', '//pt.wikipedia.org/', '//pl.wikipedia.org/', '//ar.wikipedia.org/', '//de.wikipedia.org/', '//en.wikipedia.org/', '//es.wikipedia.org/', '//fr.wikipedia.org/', '//it.wikipedia.org/', '//arz.wikipedia.org/', '//nl.wikipedia.org/', '//ja.wikipedia.org/', '//pt.wikipedia.org/', '//ceb.wikipedia.org/', '//sv.wikipedia.org/', '//uk.wikipedia.org/', '//vi.wikipedia.org/', '//war.wikipedia.org/', '//zh.wikipedia.org/', '//ru.wikipedia.org/', '//af.wikipedia.org/', '//ast.wikipedia.org/', '//az.wikipedia.org/', '//bg.wikipedia.org/', '//zh-min-nan.wikipedia.org/', '//bn.wikipedia.org/', '//be.wikipedia.org/', '//ca.wikipedia.org/', '//cs.wikipedia.org/', '//cy.wikipedia.org/', '//da.wikipedia.org/', '//et.wikipedia.org/', '//el.wikipedia.org/', '//eo.wikipedia.org/', '//eu.wikipedia.org/', '//fa.wikipedia.org/', '//gl.wikipedia.org/', '//ko.wikipedia.org/', '//hi.wikipedia.org/', '//hr.wikipedia.org/', '//id.wikipedia.org/', '//he.wikipedia.org/', '//ka.wikipedia.org/', '//la.wikipedia.org/', '//lv.wikipedia.org/', '//lt.wikipedia.org/', '//hu.wikipedia.org/', '//mk.wikipedia.org/', '//ms.wikipedia.org/', '//min.wikipedia.org/', '//no.wikipedia.org/', '//nn.wikipedia.org/', '//ce.wikipedia.org/', '//uz.wikipedia.org/', '//kk.wikipedia.org/', '//ro.wikipedia.org/', '//simple.wikipedia.org/', '//sk.wikipedia.org/', '//sl.wikipedia.org/', '//sr.wikipedia.org/', '//sh.wikipedia.org/', '//fi.wikipedia.org/', '//ta.wikipedia.org/', '//tt.wikipedia.org/', '//th.wikipedia.org/', '//tg.wikipedia.org/', '//azb.wikipedia.org/', '//tr.wikipedia.org/', '//ur.wikipedia.org/', '//zh-yue.wikipedia.org/', '//hy.wikipedia.org/', '//my.wikipedia.org/', '//ace.wikipedia.org/', '//als.wikipedia.org/', '//am.wikipedia.org/', '//an.wikipedia.org/', '//hyw.wikipedia.org/', '//ban.wikipedia.org/', '//bjn.wikipedia.org/', '//map-bms.wikipedia.org/', '//ba.wikipedia.org/', '//be-tarask.wikipedia.org/', '//bcl.wikipedia.org/', '//bpy.wikipedia.org/', '//bar.wikipedia.org/', '//bs.wikipedia.org/', '//br.wikipedia.org/', '//cv.wikipedia.org/', '//nv.wikipedia.org/', '//eml.wikipedia.org/', '//hif.wikipedia.org/', '//fo.wikipedia.org/', '//fy.wikipedia.org/', '//ga.wikipedia.org/', '//gd.wikipedia.org/', '//gu.wikipedia.org/', '//hak.wikipedia.org/', '//ha.wikipedia.org/', '//hsb.wikipedia.org/', '//io.wikipedia.org/', '//ig.wikipedia.org/', '//ilo.wikipedia.org/', '//ia.wikipedia.org/', '//ie.wikipedia.org/', '//os.wikipedia.org/', '//is.wikipedia.org/', '//jv.wikipedia.org/', '//kn.wikipedia.org/', '//km.wikipedia.org/', '//ht.wikipedia.org/', '//ku.wikipedia.org/', '//ckb.wikipedia.org/', '//ky.wikipedia.org/', '//mrj.wikipedia.org/', '//lb.wikipedia.org/', '//lij.wikipedia.org/', '//li.wikipedia.org/', '//lmo.wikipedia.org/', '//mai.wikipedia.org/', '//mg.wikipedia.org/', '//ml.wikipedia.org/', '//zh-classical.wikipedia.org/', '//mr.wikipedia.org/', '//xmf.wikipedia.org/', '//mzn.wikipedia.org/', '//cdo.wikipedia.org/', '//mn.wikipedia.org/', '//nap.wikipedia.org/', '//new.wikipedia.org/', '//ne.wikipedia.org/', '//frr.wikipedia.org/', '//oc.wikipedia.org/', '//mhr.wikipedia.org/', '//or.wikipedia.org/', '//as.wikipedia.org/', '//pa.wikipedia.org/', '//pnb.wikipedia.org/', '//ps.wikipedia.org/', '//pms.wikipedia.org/', '//nds.wikipedia.org/', '//crh.wikipedia.org/', '//qu.wikipedia.org/', '//sa.wikipedia.org/', '//sah.wikipedia.org/', '//sco.wikipedia.org/', '//sn.wikipedia.org/', '//sq.wikipedia.org/', '//scn.wikipedia.org/', '//si.wikipedia.org/', '//sd.wikipedia.org/', '//szl.wikipedia.org/', '//su.wikipedia.org/', '//sw.wikipedia.org/', '//tl.wikipedia.org/', '//shn.wikipedia.org/', '//te.wikipedia.org/', '//tum.wikipedia.org/', '//bug.wikipedia.org/', '//vec.wikipedia.org/', '//vo.wikipedia.org/', '//wa.wikipedia.org/', '//wuu.wikipedia.org/', '//yi.wikipedia.org/', '//yo.wikipedia.org/', '//diq.wikipedia.org/', '//bat-smg.wikipedia.org/', '//zu.wikipedia.org/', '//lad.wikipedia.org/', '//kbd.wikipedia.org/', '//ang.wikipedia.org/', '//smn.wikipedia.org/', '//anp.wikipedia.org/', '//ab.wikipedia.org/', '//roa-rup.wikipedia.org/', '//frp.wikipedia.org/', '//arc.wikipedia.org/', '//gn.wikipedia.org/', '//av.wikipedia.org/', '//ay.wikipedia.org/', '//bh.wikipedia.org/', '//bi.wikipedia.org/', '//bo.wikipedia.org/', '//bxr.wikipedia.org/', '//cbk-zam.wikipedia.org/', '//ny.wikipedia.org/', '//co.wikipedia.org/', '//za.wikipedia.org/', '//dag.wikipedia.org/', '//ary.wikipedia.org/', '//se.wikipedia.org/', '//pdc.wikipedia.org/', '//dv.wikipedia.org/', '//dsb.wikipedia.org/', '//myv.wikipedia.org/', '//ext.wikipedia.org/', '//fur.wikipedia.org/', '//gv.wikipedia.org/', '//gag.wikipedia.org/', '//inh.wikipedia.org/', '//ki.wikipedia.org/', '//glk.wikipedia.org/', '//gan.wikipedia.org/', '//guw.wikipedia.org/', '//xal.wikipedia.org/', '//haw.wikipedia.org/', '//rw.wikipedia.org/', '//kbp.wikipedia.org/', '//pam.wikipedia.org/', '//csb.wikipedia.org/', '//kw.wikipedia.org/', '//kv.wikipedia.org/', '//koi.wikipedia.org/', '//kg.wikipedia.org/', '//gom.wikipedia.org/', '//ks.wikipedia.org/', '//gcr.wikipedia.org/', '//lo.wikipedia.org/', '//lbe.wikipedia.org/', '//ltg.wikipedia.org/', '//lez.wikipedia.org/', '//nia.wikipedia.org/', '//ln.wikipedia.org/', '//jbo.wikipedia.org/', '//lg.wikipedia.org/', '//mad.wikipedia.org/', '//mt.wikipedia.org/', '//mi.wikipedia.org/', '//tw.wikipedia.org/', '//mwl.wikipedia.org/', '//mdf.wikipedia.org/', '//mnw.wikipedia.org/', '//nqo.wikipedia.org/', '//fj.wikipedia.org/', '//nah.wikipedia.org/', '//na.wikipedia.org/', '//nds-nl.wikipedia.org/', '//nrm.wikipedia.org/', '//nov.wikipedia.org/', '//om.wikipedia.org/', '//blk.wikipedia.org/', '//pi.wikipedia.org/', '//pag.wikipedia.org/', '//pap.wikipedia.org/', '//pfl.wikipedia.org/', '//pcd.wikipedia.org/', '//krc.wikipedia.org/', '//kaa.wikipedia.org/', '//ksh.wikipedia.org/', '//rm.wikipedia.org/', '//rue.wikipedia.org/', '//sm.wikipedia.org/', '//sat.wikipedia.org/', '//skr.wikipedia.org/', '//sc.wikipedia.org/', '//trv.wikipedia.org/', '//stq.wikipedia.org/', '//nso.wikipedia.org/', '//tn.wikipedia.org/', '//cu.wikipedia.org/', '//so.wikipedia.org/', '//srn.wikipedia.org/', '//kab.wikipedia.org/', '//roa-tara.wikipedia.org/', '//tet.wikipedia.org/', '//tpi.wikipedia.org/', '//to.wikipedia.org/', '//chr.wikipedia.org/', '//tk.wikipedia.org/', '//tyv.wikipedia.org/', '//udm.wikipedia.org/', '//ug.wikipedia.org/', '//vep.wikipedia.org/', '//fiu-vro.wikipedia.org/', '//vls.wikipedia.org/', '//wo.wikipedia.org/', '//xh.wikipedia.org/', '//zea.wikipedia.org/', '//ty.wikipedia.org/', '//ak.wikipedia.org/', '//bm.wikipedia.org/', '//ch.wikipedia.org/', '//ee.wikipedia.org/', '//gur.wikipedia.org/', '//ff.wikipedia.org/', '//got.wikipedia.org/', '//iu.wikipedia.org/', '//ik.wikipedia.org/', '//kl.wikipedia.org/', '//cr.wikipedia.org/', '//pih.wikipedia.org/', '//ami.wikipedia.org/', '//pwn.wikipedia.org/', '//pnt.wikipedia.org/', '//dz.wikipedia.org/', '//rmy.wikipedia.org/', '//rn.wikipedia.org/', '//sg.wikipedia.org/', '//st.wikipedia.org/', '//ss.wikipedia.org/', '//ti.wikipedia.org/', '//din.wikipedia.org/', '//chy.wikipedia.org/', '//ts.wikipedia.org/', '//kcg.wikipedia.org/', '//ve.wikipedia.org/', '//guc.wikipedia.org/', 'https://meta.wikimedia.org/wiki/Special:MyLanguage/List_of_Wikipedias', 'https://donate.wikimedia.org/?utm_medium=portal&utm_campaign=portalFooter&utm_source=portalFooter', 'https://en.wikipedia.org/wiki/List_of_Wikipedia_mobile_applications', 'https://play.google.com/store/apps/details?id=org.wikipedia&referrer=utm_source%3Dportal%26utm_medium%3Dbutton%26anid%3Dadmob', 'https://itunes.apple.com/app/apple-store/id324715238?pt=208305&ct=portal&mt=8', '//commons.wikimedia.org/', '//www.wikivoyage.org/', '//www.wiktionary.org/', '//www.wikibooks.org/', '//www.wikinews.org/', '//www.wikidata.org/', '//www.wikiversity.org/', '//www.wikiquote.org/', '//www.mediawiki.org/', '//www.wikisource.org/', '//species.wikimedia.org/', '//meta.wikimedia.org/', 'https://creativecommons.org/licenses/by-sa/3.0/', 'https://meta.wikimedia.org/wiki/Terms_of_use', 'https://meta.wikimedia.org/wiki/Privacy_policy']\n"
     ]
    }
   ],
   "source": [
    "#your code\n",
    "res = requests.get(url)\n",
    "soup = BeautifulSoup(res.text, \"html.parser\")\n",
    "\n",
    "links = []\n",
    "\n",
    "for link in soup.find_all(\"a\"):\n",
    "    l = link.get(\"href\")\n",
    "    links.append(l)\n",
    "print(links)"
   ]
  },
  {
   "cell_type": "markdown",
   "metadata": {},
   "source": [
    "#### Number of Titles that have changed in the United States Code since its last release point "
   ]
  },
  {
   "cell_type": "code",
   "execution_count": 72,
   "metadata": {},
   "outputs": [],
   "source": [
    "# This is the url you will scrape in this exercise\n",
    "url = 'http://uscode.house.gov/download/download.shtml' #odio a los gringos, no entiendo esta página"
   ]
  },
  {
   "cell_type": "code",
   "execution_count": 73,
   "metadata": {},
   "outputs": [],
   "source": [
    "#your code\n",
    "\n"
   ]
  },
  {
   "cell_type": "markdown",
   "metadata": {},
   "source": [
    "#### A Python list with the top ten FBI's Most Wanted names "
   ]
  },
  {
   "cell_type": "code",
   "execution_count": 74,
   "metadata": {},
   "outputs": [],
   "source": [
    "# This is the url you will scrape in this exercise\n",
    "url = 'https://www.fbi.gov/wanted/topten'"
   ]
  },
  {
   "cell_type": "code",
   "execution_count": 75,
   "metadata": {},
   "outputs": [
    {
     "data": {
      "text/plain": [
       "['BHADRESHKUMAR CHETANBHAI PATEL',\n",
       " 'WILVER VILLEGAS-PALOMINO',\n",
       " 'ALEJANDRO ROSALES CASTILLO',\n",
       " 'RUJA IGNATOVA',\n",
       " 'ARNOLDO JIMENEZ',\n",
       " 'OMAR ALEXANDER CARDENAS',\n",
       " 'ALEXIS FLORES',\n",
       " 'YULAN ADONAY ARCHAGA CARIAS',\n",
       " 'MICHAEL JAMES PRATT',\n",
       " 'JOSE RODOLFO VILLARREAL-HERNANDEZ']"
      ]
     },
     "execution_count": 75,
     "metadata": {},
     "output_type": "execute_result"
    }
   ],
   "source": [
    "#your code \n",
    "url = 'https://www.fbi.gov/wanted/topten'\n",
    "\n",
    "response = requests.get(url)\n",
    "soup = BeautifulSoup(response.text, 'html.parser')\n",
    "wanted = soup.find_all(\"h3\", {\"class\":\"title\"})\n",
    "names = [tag.a.text for tag in wanted] #no entiendo muy bien qué estoy haciendo con esto \".a.text\"\n",
    "\n",
    "names\n"
   ]
  },
  {
   "cell_type": "markdown",
   "metadata": {},
   "source": [
    "####  20 latest earthquakes info (date, time, latitude, longitude and region name) by the EMSC as a pandas dataframe"
   ]
  },
  {
   "cell_type": "code",
   "execution_count": 76,
   "metadata": {},
   "outputs": [],
   "source": [
    "# This is the url you will scrape in this exercise\n",
    "url = 'https://www.emsc-csem.org/Earthquake/'"
   ]
  },
  {
   "cell_type": "code",
   "execution_count": 77,
   "metadata": {},
   "outputs": [],
   "source": [
    "#your code\n",
    "response = requests.get(url)\n",
    "soup = BeautifulSoup(response.text, 'html.parser')"
   ]
  },
  {
   "cell_type": "markdown",
   "metadata": {},
   "source": [
    "#### Display the date, days, title, city, country of next 25 hackathon events as a Pandas dataframe table"
   ]
  },
  {
   "cell_type": "code",
   "execution_count": 78,
   "metadata": {},
   "outputs": [],
   "source": [
    "# This is the url you will scrape in this exercise\n",
    "url ='https://hackevents.co/hackathons'"
   ]
  },
  {
   "cell_type": "code",
   "execution_count": 79,
   "metadata": {},
   "outputs": [],
   "source": [
    "#your code"
   ]
  },
  {
   "cell_type": "markdown",
   "metadata": {},
   "source": [
    "#### Count number of tweets by a given Twitter account."
   ]
  },
  {
   "cell_type": "markdown",
   "metadata": {},
   "source": [
    "You will need to include a ***try/except block*** for account names not found. \n",
    "<br>***Hint:*** the program should count the number of tweets for any provided account"
   ]
  },
  {
   "cell_type": "code",
   "execution_count": 80,
   "metadata": {},
   "outputs": [],
   "source": [
    "# This is the url you will scrape in this exercise \n",
    "# You will need to add the account credentials to this url\n",
    "url = 'https://twitter.com/'"
   ]
  },
  {
   "cell_type": "code",
   "execution_count": 81,
   "metadata": {},
   "outputs": [],
   "source": [
    "#your code"
   ]
  },
  {
   "cell_type": "markdown",
   "metadata": {},
   "source": [
    "#### Number of followers of a given twitter account"
   ]
  },
  {
   "cell_type": "markdown",
   "metadata": {},
   "source": [
    "You will need to include a ***try/except block*** in case account/s name not found. \n",
    "<br>***Hint:*** the program should count the followers for any provided account"
   ]
  },
  {
   "cell_type": "code",
   "execution_count": 82,
   "metadata": {},
   "outputs": [],
   "source": [
    "# This is the url you will scrape in this exercise \n",
    "# You will need to add the account credentials to this url\n",
    "url = 'https://twitter.com/'"
   ]
  },
  {
   "cell_type": "code",
   "execution_count": 83,
   "metadata": {},
   "outputs": [],
   "source": [
    "#your code"
   ]
  },
  {
   "cell_type": "markdown",
   "metadata": {},
   "source": [
    "#### List all language names and number of related articles in the order they appear in wikipedia.org"
   ]
  },
  {
   "cell_type": "code",
   "execution_count": 102,
   "metadata": {},
   "outputs": [
    {
     "name": "stdout",
     "output_type": "stream",
     "text": [
      "{'The Free Encyclopedia': '6\\xa0644\\xa0000+', 'English': '1\\xa0909\\xa0000+', 'Ð\\xa0Ñ\\x83Ñ\\x81Ñ\\x81ÐºÐ¸Ð¹': '1\\xa0370\\xa0000+', 'æ\\x97¥æ\\x9c¬èª\\x9e': '2\\xa0792\\xa0000+', 'Deutsch': '1\\xa0854\\xa0000+', 'EspaÃ±ol': '2\\xa0514\\xa0000+', 'FranÃ§ais': '1\\xa0806\\xa0000+', 'Italiano': '1\\xa0347\\xa0000+', 'ä¸\\xadæ\\x96\\x87': 'Ù\\x81Ø§Ø±Ø³Û\\x8c', 'Ù\\x81Ø§Ø±Ø³Û\\x8c': '959\\xa0000+', 'PortuguÃªs': '1\\xa0101\\xa0000+', '\\n\\nDownload Wikipedia for Android or iOS\\n\\n': '\\n1\\xa0000\\xa0000+\\n'}\n"
     ]
    }
   ],
   "source": [
    "# This is the url you will scrape in this exercise\n",
    "url = 'https://www.wikipedia.org/'\n",
    "response = requests.get(url)\n",
    "soup = BeautifulSoup(response.text, \"html.parser\")\n",
    "w = [i.text for i in soup.find_all(\"strong\")]\n",
    "t = [i.text for i in soup.find_all(\"bdi\")]\n",
    "\n",
    "dictio = {}\n",
    "\n",
    "for i in range(len(w)):\n",
    "    dictio[w[i]] = t[i]\n",
    "\n",
    "print(dictio)\n"
   ]
  },
  {
   "cell_type": "code",
   "execution_count": 103,
   "metadata": {},
   "outputs": [
    {
     "data": {
      "text/plain": [
       "['6\\xa0644\\xa0000+',\n",
       " '1\\xa0909\\xa0000+',\n",
       " '1\\xa0370\\xa0000+',\n",
       " '2\\xa0792\\xa0000+',\n",
       " '1\\xa0854\\xa0000+',\n",
       " '2\\xa0514\\xa0000+',\n",
       " '1\\xa0806\\xa0000+',\n",
       " '1\\xa0347\\xa0000+',\n",
       " 'Ù\\x81Ø§Ø±Ø³Û\\x8c',\n",
       " '959\\xa0000+',\n",
       " '1\\xa0101\\xa0000+',\n",
       " '\\n1\\xa0000\\xa0000+\\n',\n",
       " 'Ø§Ù\\x84Ø¹Ø±Ø¨Ù\\x8aØ©',\n",
       " 'Ù\\x85ØµØ±Ù\\x89',\n",
       " '\\n100\\xa0000+\\n',\n",
       " 'Ù\\x81Ø§Ø±Ø³Û\\x8c',\n",
       " '×¢×\\x91×¨×\\x99×ª',\n",
       " 'Ù\\x82Ø§Ø²Ø§Ù\\x82Ø´Ø§',\n",
       " 'ØªÛ\\x86Ø±Ú©Ø¬Ù\\x87',\n",
       " 'Ø§Ø±Ø¯Ù\\x88',\n",
       " '\\n10\\xa0000+\\n',\n",
       " 'Ù\\x83Ù\\x88Ø±Ø¯Û\\x8c',\n",
       " 'Ú©Ù\\x88Ø±Ø¯Û\\x8cÛ\\x8c Ù\\x86Ø§Ù\\x88Û\\x95Ù\\x86Ø¯Û\\x8c',\n",
       " 'Ù\\x85Ø§Ø²Ù\\x90Ø±Ù\\x88Ù\\x86Û\\x8c',\n",
       " 'Ù¾Ù\\x86Ø¬Ø§Ø¨Û\\x8c (Ø´Ø§Û\\x81 Ù\\x85Ú©Ú¾Û\\x8c)',\n",
       " 'Ù¾Ú\\x9aØªÙ\\x88',\n",
       " 'Ø³Ù\\x86Ú\\x8cÙ\\x8a',\n",
       " '×\\x99×\\x99Ö´×\\x93×\\x99×©',\n",
       " '\\n1\\xa0000+\\n',\n",
       " '×\\x9c×\\x90×\\x93×\\x99×\\xa0×\\x95',\n",
       " 'Ü\\x90Ü¬Ü\\x98ÜªÜ\\x9dÜ\\x90',\n",
       " 'Ø§Ù\\x84Ø¯Ø§Ø±Ø¬Ø©',\n",
       " 'Þ\\x8bÞ¨Þ\\x88Þ¬Þ\\x80Þ¨Þ\\x84Þ¦Þ\\x90Þ°',\n",
       " 'Ú¯Û\\x8cÙ\\x84Ú©Û\\x8c',\n",
       " 'Ù\\x83Ù²Ø´Ù\\x8fØ±',\n",
       " 'Ø¦Û\\x87Ù\\x8aØºÛ\\x87Ø±Ú\\x86Ù\\x87',\n",
       " '\\n100+\\n']"
      ]
     },
     "execution_count": 103,
     "metadata": {},
     "output_type": "execute_result"
    }
   ],
   "source": [
    "#your code\n"
   ]
  },
  {
   "cell_type": "markdown",
   "metadata": {},
   "source": [
    "#### A list with the different kind of datasets available in data.gov.uk "
   ]
  },
  {
   "cell_type": "code",
   "execution_count": null,
   "metadata": {},
   "outputs": [
    {
     "data": {
      "text/plain": [
       "['Business and economy',\n",
       " 'Crime and justice',\n",
       " 'Defence',\n",
       " 'Education',\n",
       " 'Environment',\n",
       " 'Government',\n",
       " 'Government spending',\n",
       " 'Health',\n",
       " 'Mapping',\n",
       " 'Society',\n",
       " 'Towns and cities',\n",
       " 'Transport',\n",
       " 'Digital service performance',\n",
       " 'Government reference data']"
      ]
     },
     "execution_count": 57,
     "metadata": {},
     "output_type": "execute_result"
    }
   ],
   "source": [
    "# This is the url you will scrape in this exercise\n",
    "url = 'https://data.gov.uk/'\n",
    "response = requests.get(url)\n",
    "soup = BeautifulSoup(response.content, 'html.parser')\n",
    "x =  soup.find_all(\"h3\", {\"class\": \"govuk-heading-s dgu-topics__heading\"})\n",
    "areas = [i.a.text for i in x]\n",
    "areas\n"
   ]
  },
  {
   "cell_type": "markdown",
   "metadata": {},
   "source": [
    "#### Top 10 languages by number of native speakers stored in a Pandas Dataframe"
   ]
  },
  {
   "cell_type": "code",
   "execution_count": null,
   "metadata": {},
   "outputs": [],
   "source": [
    "# This is the url you will scrape in this exercise\n",
    "url = 'https://en.wikipedia.org/wiki/List_of_languages_by_number_of_native_speakers'"
   ]
  },
  {
   "cell_type": "code",
   "execution_count": null,
   "metadata": {},
   "outputs": [
    {
     "name": "stdout",
     "output_type": "stream",
     "text": [
      "           Language Native speakers\n",
      "0  Mandarin Chinese           12.3%\n",
      "1           Spanish            6.0%\n",
      "2           English            5.1%\n",
      "3            Arabic            5.1%\n",
      "4             Hindi            3.5%\n",
      "5           Bengali            3.3%\n",
      "6        Portuguese            3.0%\n",
      "7           Russian            2.1%\n",
      "8          Japanese            1.7%\n",
      "9   Western Punjabi            1.3%\n"
     ]
    }
   ],
   "source": [
    "#your code\n",
    "response = requests.get(url)\n",
    "soup = BeautifulSoup(response.content, 'html.parser')\n",
    "\n",
    "table = soup.find('table', {'class': 'wikitable sortable'})\n",
    "\n",
    "rows = table.find_all('tr')[1:11]\n",
    "data = []\n",
    "\n",
    "for row in rows:\n",
    "    cols = row.find_all('td')\n",
    "    name = cols[1].text.strip()\n",
    "    native_speakers = cols[2].text.strip()\n",
    "    data.append([name, native_speakers])\n",
    "\n",
    "df = pd.DataFrame(data, columns=['Language', 'Native speakers'])\n",
    "print(df)\n",
    "\n"
   ]
  },
  {
   "cell_type": "markdown",
   "metadata": {},
   "source": [
    "### BONUS QUESTIONS"
   ]
  },
  {
   "cell_type": "markdown",
   "metadata": {},
   "source": [
    "#### Scrape a certain number of tweets of a given Twitter account."
   ]
  },
  {
   "cell_type": "code",
   "execution_count": null,
   "metadata": {},
   "outputs": [],
   "source": [
    "# This is the url you will scrape in this exercise \n",
    "# You will need to add the account credentials to this url\n",
    "url = 'https://twitter.com/'"
   ]
  },
  {
   "cell_type": "code",
   "execution_count": null,
   "metadata": {},
   "outputs": [],
   "source": [
    "# your code"
   ]
  },
  {
   "cell_type": "markdown",
   "metadata": {},
   "source": [
    "#### IMDB's Top 250 data (movie name, Initial release, director name and stars) as a pandas dataframe"
   ]
  },
  {
   "cell_type": "code",
   "execution_count": null,
   "metadata": {},
   "outputs": [],
   "source": [
    "# This is the url you will scrape in this exercise \n",
    "url = 'https://www.imdb.com/chart/top'"
   ]
  },
  {
   "cell_type": "code",
   "execution_count": null,
   "metadata": {},
   "outputs": [],
   "source": [
    "# your code"
   ]
  },
  {
   "cell_type": "markdown",
   "metadata": {},
   "source": [
    "#### Movie name, year and a brief summary of the top 10 random movies (IMDB) as a pandas dataframe."
   ]
  },
  {
   "cell_type": "code",
   "execution_count": null,
   "metadata": {},
   "outputs": [],
   "source": [
    "#This is the url you will scrape in this exercise\n",
    "url = 'http://www.imdb.com/chart/top'"
   ]
  },
  {
   "cell_type": "code",
   "execution_count": null,
   "metadata": {},
   "outputs": [],
   "source": [
    "#your code"
   ]
  },
  {
   "cell_type": "markdown",
   "metadata": {},
   "source": [
    "#### Find the live weather report (temperature, wind speed, description and weather) of a given city."
   ]
  },
  {
   "cell_type": "code",
   "execution_count": null,
   "metadata": {},
   "outputs": [],
   "source": [
    "#https://openweathermap.org/current\n",
    "city = city=input('Enter the city:')\n",
    "url = 'http://api.openweathermap.org/data/2.5/weather?'+'q='+city+'&APPID=b35975e18dc93725acb092f7272cc6b8&units=metric'"
   ]
  },
  {
   "cell_type": "code",
   "execution_count": null,
   "metadata": {},
   "outputs": [],
   "source": [
    "# your code"
   ]
  },
  {
   "cell_type": "markdown",
   "metadata": {},
   "source": [
    "#### Book name,price and stock availability as a pandas dataframe."
   ]
  },
  {
   "cell_type": "code",
   "execution_count": null,
   "metadata": {},
   "outputs": [],
   "source": [
    "# This is the url you will scrape in this exercise. \n",
    "# It is a fictional bookstore created to be scraped. \n",
    "url = 'http://books.toscrape.com/'"
   ]
  },
  {
   "cell_type": "code",
   "execution_count": null,
   "metadata": {},
   "outputs": [],
   "source": [
    "#your code"
   ]
  }
 ],
 "metadata": {
  "kernelspec": {
   "display_name": "Python 3",
   "language": "python",
   "name": "python3"
  },
  "language_info": {
   "codemirror_mode": {
    "name": "ipython",
    "version": 3
   },
   "file_extension": ".py",
   "mimetype": "text/x-python",
   "name": "python",
   "nbconvert_exporter": "python",
   "pygments_lexer": "ipython3",
   "version": "3.9.13"
  }
 },
 "nbformat": 4,
 "nbformat_minor": 2
}
