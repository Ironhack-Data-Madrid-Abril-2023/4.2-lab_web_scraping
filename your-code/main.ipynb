{
 "cells": [
  {
   "attachments": {},
   "cell_type": "markdown",
   "metadata": {},
   "source": [
    "# Web Scraping Lab\n",
    "\n",
    "You will find in this notebook some scrapy exercises to practise your scraping skills.\n",
    "\n",
    "**Tips:**\n",
    "\n",
    "- Check the response status code for each request to ensure you have obtained the intended contennt.\n",
    "- Print the response text in each request to understand the kind of info you are getting and its format.\n",
    "- Check for patterns in the response text to extract the data/info requested in each question.\n",
    "- Visit each url and take a look at its source through Chrome DevTools. You'll need to identify the html tags, special class names etc. used for the html content you are expected to extract."
   ]
  },
  {
   "attachments": {},
   "cell_type": "markdown",
   "metadata": {},
   "source": [
    "- [Requests library](http://docs.python-requests.org/en/master/#the-user-guide) documentation \n",
    "- [Beautiful Soup Doc](https://www.crummy.com/software/BeautifulSoup/bs4/doc/)\n",
    "- [Urllib](https://docs.python.org/3/library/urllib.html#module-urllib)\n",
    "- [re lib](https://docs.python.org/3/library/re.html)\n",
    "- [lxml lib](https://lxml.de/)\n",
    "- [Scrapy](https://scrapy.org/)\n",
    "- [List of HTTP status codes](https://en.wikipedia.org/wiki/List_of_HTTP_status_codes)\n",
    "- [HTML basics](http://www.simplehtmlguide.com/cheatsheet.php)\n",
    "- [CSS basics](https://www.cssbasics.com/#page_start)"
   ]
  },
  {
   "attachments": {},
   "cell_type": "markdown",
   "metadata": {},
   "source": [
    "#### Below are the libraries and modules you may need. `requests`,  `BeautifulSoup` and `pandas` are imported for you. If you prefer to use additional libraries feel free to uncomment them."
   ]
  },
  {
   "cell_type": "code",
   "execution_count": 1,
   "metadata": {},
   "outputs": [],
   "source": [
    "import requests as req\n",
    "from bs4 import BeautifulSoup as bs\n",
    "import pandas as pd\n",
    "import lxml\n",
    "# from pprint import pprint\n",
    "from lxml import html\n",
    "from lxml.html import fromstring\n",
    "# import urllib.request\n",
    "# from urllib.request import urlopen\n",
    "# import random\n",
    "# import re\n",
    "# import scrapy"
   ]
  },
  {
   "attachments": {},
   "cell_type": "markdown",
   "metadata": {},
   "source": [
    "#### Download, parse (using BeautifulSoup), and print the content from the Trending Developers page from GitHub:"
   ]
  },
  {
   "cell_type": "code",
   "execution_count": 5,
   "metadata": {},
   "outputs": [],
   "source": [
    "# This is the url you will scrape in this exercise\n",
    "url = 'https://github.com/trending/developers'"
   ]
  },
  {
   "cell_type": "code",
   "execution_count": 8,
   "metadata": {},
   "outputs": [],
   "source": [
    "html=req.get(url).content"
   ]
  },
  {
   "cell_type": "code",
   "execution_count": 12,
   "metadata": {},
   "outputs": [],
   "source": [
    "soup=bs(html, 'html.parser')"
   ]
  },
  {
   "cell_type": "code",
   "execution_count": 16,
   "metadata": {},
   "outputs": [
    {
     "data": {
      "text/plain": [
       "['Mattias Wadman',\n",
       " 'lllyasviel',\n",
       " 'Lianmin Zheng',\n",
       " 'Jerry Liu',\n",
       " 'Henrik Rydgård',\n",
       " 'Harrison Chase',\n",
       " 'Fons van der Plas',\n",
       " 'Steven Tey',\n",
       " 'Andreas Thomas',\n",
       " 'pilcrowOnPaper',\n",
       " 'Laurent Mazare',\n",
       " 'yetone',\n",
       " 'Tom Payne',\n",
       " 'Raphaël Benitte',\n",
       " 'Dillon Nys',\n",
       " 'Will McGugan',\n",
       " 'Luca Palmieri',\n",
       " 'Payton Swick',\n",
       " 'Martí Climent',\n",
       " 'dgtlmoon',\n",
       " 'Jelle Zijlstra',\n",
       " 'J. Nick Koston',\n",
       " 'Nuno Campos',\n",
       " 'Juliette',\n",
       " 'Lee Robinson']"
      ]
     },
     "execution_count": 16,
     "metadata": {},
     "output_type": "execute_result"
    }
   ],
   "source": [
    "sol=[e.text.strip() for e in soup.find_all('h1',{'class':'h3 lh-condensed'})]\n",
    "sol"
   ]
  },
  {
   "cell_type": "code",
   "execution_count": null,
   "metadata": {},
   "outputs": [],
   "source": [
    "#your code"
   ]
  },
  {
   "attachments": {},
   "cell_type": "markdown",
   "metadata": {},
   "source": [
    "#### Display the names of the trending developers retrieved in the previous step.\n",
    "\n",
    "Your output should be a Python list of developer names. Each name should not contain any html tag.\n",
    "\n",
    "**Instructions:**\n",
    "\n",
    "1. Find out the html tag and class names used for the developer names. You can achieve this using Chrome DevTools.\n",
    "\n",
    "1. Use BeautifulSoup to extract all the html elements that contain the developer names.\n",
    "\n",
    "1. Use string manipulation techniques to replace whitespaces and linebreaks (i.e. `\\n`) in the *text* of each html element. Use a list to store the clean names.\n",
    "\n",
    "1. Print the list of names.\n",
    "\n",
    "Your output should look like below:\n",
    "\n",
    "```\n",
    "['trimstray (@trimstray)',\n",
    " 'joewalnes (JoeWalnes)',\n",
    " 'charlax (Charles-AxelDein)',\n",
    " 'ForrestKnight (ForrestKnight)',\n",
    " 'revery-ui (revery-ui)',\n",
    " 'alibaba (Alibaba)',\n",
    " 'Microsoft (Microsoft)',\n",
    " 'github (GitHub)',\n",
    " 'facebook (Facebook)',\n",
    " 'boazsegev (Bo)',\n",
    " 'google (Google)',\n",
    " 'cloudfetch',\n",
    " 'sindresorhus (SindreSorhus)',\n",
    " 'tensorflow',\n",
    " 'apache (TheApacheSoftwareFoundation)',\n",
    " 'DevonCrawford (DevonCrawford)',\n",
    " 'ARMmbed (ArmMbed)',\n",
    " 'vuejs (vuejs)',\n",
    " 'fastai (fast.ai)',\n",
    " 'QiShaoXuan (Qi)',\n",
    " 'joelparkerhenderson (JoelParkerHenderson)',\n",
    " 'torvalds (LinusTorvalds)',\n",
    " 'CyC2018',\n",
    " 'komeiji-satori (神楽坂覚々)',\n",
    " 'script-8']\n",
    " ```"
   ]
  },
  {
   "cell_type": "code",
   "execution_count": null,
   "metadata": {},
   "outputs": [],
   "source": [
    "#your code"
   ]
  },
  {
   "cell_type": "code",
   "execution_count": 149,
   "metadata": {},
   "outputs": [
    {
     "data": {
      "text/plain": [
       "<div class=\"col-md-6\">\n",
       "<h1 class=\"h3 lh-condensed\">\n",
       "<a data-hydro-click='{\"event_type\":\"explore.click\",\"payload\":{\"click_context\":\"TRENDING_DEVELOPERS_PAGE\",\"click_target\":\"OWNER\",\"click_visual_representation\":\"TRENDING_DEVELOPER\",\"actor_id\":null,\"record_id\":19834515,\"originating_url\":\"https://github.com/trending/developers\",\"user_id\":null}}' data-hydro-click-hmac=\"c049ad53202c5c8fdddc2b18ad1d30b64dc9dfa7e551c3dd8e68f4dff16ffec5\" data-view-component=\"true\" href=\"/lllyasviel\">\n",
       "            lllyasviel\n",
       "</a> </h1>\n",
       "</div>"
      ]
     },
     "execution_count": 149,
     "metadata": {},
     "output_type": "execute_result"
    }
   ],
   "source": [
    "soup.find_all('div',{'class':'col-md-6'})[::2]"
   ]
  },
  {
   "cell_type": "code",
   "execution_count": 160,
   "metadata": {},
   "outputs": [],
   "source": [
    "dic={n.text.strip('\\n').strip() : a.text.strip('\\n').strip() for e in soup.find_all('div',{'class':'col-md-6'})[::2] \n",
    "for n in e.select('h1', {'class': 'h3 lh-condensed'}) \n",
    "for a in e.select('p', {'class': 'f4 text-normal mb-1'})}"
   ]
  },
  {
   "cell_type": "code",
   "execution_count": 161,
   "metadata": {},
   "outputs": [
    {
     "data": {
      "text/plain": [
       "{'Mattias Wadman': 'wader',\n",
       " 'Lianmin Zheng': 'merrymercy',\n",
       " 'Jerry Liu': 'jerryjliu',\n",
       " 'Henrik Rydgård': 'hrydgard',\n",
       " 'Harrison Chase': 'hwchase17',\n",
       " 'Fons van der Plas': 'fonsp',\n",
       " 'Steven Tey': 'steven-tey',\n",
       " 'Andreas Thomas': 'chronark',\n",
       " 'Laurent Mazare': 'LaurentMazare',\n",
       " 'yetone': 'yetone',\n",
       " 'Tom Payne': 'twpayne',\n",
       " 'Raphaël Benitte': 'plouc',\n",
       " 'Dillon Nys': 'dnys1',\n",
       " 'Will McGugan': 'willmcgugan',\n",
       " 'Luca Palmieri': 'LukeMathWalker',\n",
       " 'Payton Swick': 'sirbrillig',\n",
       " 'Martí Climent': 'marticliment',\n",
       " 'Jelle Zijlstra': 'JelleZijlstra',\n",
       " 'J. Nick Koston': 'bdraco',\n",
       " 'Nuno Campos': 'nfcampos',\n",
       " 'Juliette': 'jrfnl',\n",
       " 'Lee Robinson': 'leerob'}"
      ]
     },
     "execution_count": 161,
     "metadata": {},
     "output_type": "execute_result"
    }
   ],
   "source": [
    "dic"
   ]
  },
  {
   "attachments": {},
   "cell_type": "markdown",
   "metadata": {},
   "source": [
    "\n",
    "#### Display the trending Python repositories in GitHub\n",
    "\n",
    "The steps to solve this problem is similar to the previous one except that you need to find out the repository names instead of developer names."
   ]
  },
  {
   "cell_type": "code",
   "execution_count": 162,
   "metadata": {},
   "outputs": [],
   "source": [
    "# This is the url you will scrape in this exercise\n",
    "url = 'https://github.com/trending/python?since=daily'"
   ]
  },
  {
   "cell_type": "code",
   "execution_count": 163,
   "metadata": {},
   "outputs": [],
   "source": [
    "#your code\n",
    "html=req.get(url).content"
   ]
  },
  {
   "cell_type": "code",
   "execution_count": 164,
   "metadata": {},
   "outputs": [],
   "source": [
    "soup=bs(html,'html.parser')"
   ]
  },
  {
   "cell_type": "code",
   "execution_count": 198,
   "metadata": {},
   "outputs": [],
   "source": [
    "lista=[ e.strip('/\\n\\n')  for e in soup.find_all('h2',{'class':'h3 lh-condensed'}) for e in e.text.split()]"
   ]
  },
  {
   "cell_type": "code",
   "execution_count": 209,
   "metadata": {},
   "outputs": [
    {
     "data": {
      "text/plain": [
       "{'mlc-ai': 'web-llm',\n",
       " 'AIGC-Audio': 'AudioGPT',\n",
       " 'gventuri': 'pandas-ai',\n",
       " 'xtekky': 'chatgpt-clone',\n",
       " 'irgolic': 'AutoPR',\n",
       " 'lamini-ai': 'lamini',\n",
       " 'deep-floyd': 'IF',\n",
       " 'deforum-art': 'deforum-for-automatic1111-webui',\n",
       " 'home-assistant': 'core',\n",
       " 'cirediatpl': 'FigmaChain',\n",
       " 'IntelligenzaArtificiale': 'Free-AUTO-GPT-with-NO-API',\n",
       " 'AUTOMATIC1111': 'stable-diffusion-webui',\n",
       " 'ddPn08': 'Radiata',\n",
       " 'ZrrSkywalker': 'LLaMA-Adapter',\n",
       " 'yt-dlp': 'yt-dlp',\n",
       " 'nlpxucan': 'WizardLM',\n",
       " 'GitHubDaily': 'ChatGPT-Prompt-Engineering-for-Developers-in-Chinese',\n",
       " 'georgia-tech-db': 'eva',\n",
       " 'mahdibland': 'V2RayAggregator',\n",
       " 'KurtBestor': 'Hitomi-Downloader',\n",
       " 'jaywalnut310': 'vits',\n",
       " 'isaiahbjork': 'Auto-GPT-Crypto-Plugin'}"
      ]
     },
     "execution_count": 209,
     "metadata": {},
     "output_type": "execute_result"
    }
   ],
   "source": [
    "plw={[e for e in e.text.split() if e!='/'][0]:[e for e in e.text.split() if e!='/'][1] for e in soup.find_all('h2',{'class':'h3 lh-condensed'}) }\n",
    "plw"
   ]
  },
  {
   "attachments": {},
   "cell_type": "markdown",
   "metadata": {},
   "source": [
    "#### Display all the image links from Walt Disney wikipedia page"
   ]
  },
  {
   "cell_type": "code",
   "execution_count": 220,
   "metadata": {},
   "outputs": [],
   "source": [
    "# This is the url you will scrape in this exercise\n",
    "url = 'https://en.wikipedia.org/wiki/Walt_Disney'"
   ]
  },
  {
   "cell_type": "code",
   "execution_count": 221,
   "metadata": {},
   "outputs": [],
   "source": [
    "html=req.get(url).content"
   ]
  },
  {
   "cell_type": "code",
   "execution_count": 222,
   "metadata": {},
   "outputs": [],
   "source": [
    "soup=bs(html,'html.parser')"
   ]
  },
  {
   "cell_type": "code",
   "execution_count": 257,
   "metadata": {},
   "outputs": [
    {
     "data": {
      "text/plain": [
       "['//upload.wikimedia.org/wikipedia/commons/thumb/d/df/Walt_Disney_1946.JPG/220px-Walt_Disney_1946.JPG',\n",
       " '//upload.wikimedia.org/wikipedia/commons/thumb/8/87/Walt_Disney_1942_signature.svg/150px-Walt_Disney_1942_signature.svg.png',\n",
       " '//upload.wikimedia.org/wikipedia/commons/thumb/3/3a/Walt_Disney_Birthplace_Exterior_Hermosa_Chicago_Illinois.jpg/220px-Walt_Disney_Birthplace_Exterior_Hermosa_Chicago_Illinois.jpg',\n",
       " '//upload.wikimedia.org/wikipedia/commons/thumb/c/c4/Walt_Disney_envelope_ca._1921.jpg/220px-Walt_Disney_envelope_ca._1921.jpg',\n",
       " '//upload.wikimedia.org/wikipedia/commons/thumb/5/57/Walt_Disney_1935.jpg/170px-Walt_Disney_1935.jpg',\n",
       " '//upload.wikimedia.org/wikipedia/commons/thumb/c/cd/Walt_Disney_Snow_white_1937_trailer_screenshot_%2813%29.jpg/220px-Walt_Disney_Snow_white_1937_trailer_screenshot_%2813%29.jpg',\n",
       " '//upload.wikimedia.org/wikipedia/commons/thumb/1/1a/Walt_Disney_Grave.JPG/170px-Walt_Disney_Grave.JPG']"
      ]
     },
     "execution_count": 257,
     "metadata": {},
     "output_type": "execute_result"
    }
   ],
   "source": [
    "urls=[e['src'] for e in soup.find_all('img') if 'Walt_Disney' in e['src'] ]\n",
    "urls"
   ]
  },
  {
   "cell_type": "code",
   "execution_count": null,
   "metadata": {},
   "outputs": [],
   "source": [
    "#your codea"
   ]
  },
  {
   "attachments": {},
   "cell_type": "markdown",
   "metadata": {},
   "source": [
    "#### Retrieve an arbitary Wikipedia page of \"Python\" and create a list of links on that page"
   ]
  },
  {
   "cell_type": "code",
   "execution_count": 331,
   "metadata": {},
   "outputs": [],
   "source": [
    "# This is the url you will scrape in this exercise\n",
    "url ='https://en.wikipedia.org/wiki/Python'\n",
    " "
   ]
  },
  {
   "cell_type": "code",
   "execution_count": 332,
   "metadata": {},
   "outputs": [],
   "source": [
    "html=req.get(url).content"
   ]
  },
  {
   "cell_type": "code",
   "execution_count": 333,
   "metadata": {},
   "outputs": [],
   "source": [
    "soup=bs(html,'html.parser')"
   ]
  },
  {
   "cell_type": "code",
   "execution_count": 342,
   "metadata": {},
   "outputs": [],
   "source": [
    "pru=[e for e in soup.find_all('li') for e in e.find_all('a') for a in e if 'Python' in e.text]\n"
   ]
  },
  {
   "cell_type": "code",
   "execution_count": 346,
   "metadata": {},
   "outputs": [],
   "source": [
    "links=['https://en.wikipedia.org/wiki/'+e['href']for e in pru]"
   ]
  },
  {
   "cell_type": "code",
   "execution_count": 347,
   "metadata": {},
   "outputs": [
    {
     "data": {
      "text/plain": [
       "['https://en.wikipedia.org/wiki//wiki/Pythonidae',\n",
       " 'https://en.wikipedia.org/wiki//wiki/Python_(genus)',\n",
       " 'https://en.wikipedia.org/wiki//wiki/Python_(genus)',\n",
       " 'https://en.wikipedia.org/wiki//wiki/Python_(genus)',\n",
       " 'https://en.wikipedia.org/wiki//wiki/Python_(genus)',\n",
       " 'https://en.wikipedia.org/wiki//wiki/Python_(mythology)',\n",
       " 'https://en.wikipedia.org/wiki//wiki/Python_(programming_language)',\n",
       " 'https://en.wikipedia.org/wiki//wiki/Python_of_Aenus',\n",
       " 'https://en.wikipedia.org/wiki//wiki/Python_(painter)',\n",
       " 'https://en.wikipedia.org/wiki//wiki/Python_of_Byzantium',\n",
       " 'https://en.wikipedia.org/wiki//wiki/Python_of_Catana',\n",
       " 'https://en.wikipedia.org/wiki//wiki/Python_Anghelo',\n",
       " 'https://en.wikipedia.org/wiki//wiki/Python_(Efteling)',\n",
       " 'https://en.wikipedia.org/wiki//wiki/Python_(Busch_Gardens_Tampa_Bay)',\n",
       " 'https://en.wikipedia.org/wiki//wiki/Python_(Coney_Island,_Cincinnati,_Ohio)',\n",
       " 'https://en.wikipedia.org/wiki//wiki/Python_(automobile_maker)',\n",
       " 'https://en.wikipedia.org/wiki//wiki/Python_(Ford_prototype)',\n",
       " 'https://en.wikipedia.org/wiki//wiki/Python_(missile)',\n",
       " 'https://en.wikipedia.org/wiki//wiki/Python_(nuclear_primary)',\n",
       " 'https://en.wikipedia.org/wiki//wiki/Colt_Python',\n",
       " 'https://en.wikipedia.org/wiki//wiki/Python_(codename)',\n",
       " 'https://en.wikipedia.org/wiki//wiki/Python_(film)',\n",
       " 'https://en.wikipedia.org/wiki//wiki/Python_(film)',\n",
       " 'https://en.wikipedia.org/wiki//wiki/Monty_Python',\n",
       " 'https://en.wikipedia.org/wiki//wiki/Python_(Monty)_Pictures',\n",
       " 'https://en.wikipedia.org/wiki//wiki/Python_(Monty)_Pictures']"
      ]
     },
     "execution_count": 347,
     "metadata": {},
     "output_type": "execute_result"
    }
   ],
   "source": [
    "links"
   ]
  },
  {
   "cell_type": "code",
   "execution_count": null,
   "metadata": {},
   "outputs": [],
   "source": [
    "#your code"
   ]
  },
  {
   "attachments": {},
   "cell_type": "markdown",
   "metadata": {},
   "source": [
    "#### Number of Titles that have changed in the United States Code since its last release point "
   ]
  },
  {
   "cell_type": "code",
   "execution_count": 348,
   "metadata": {},
   "outputs": [],
   "source": [
    "# This is the url you will scrape in this exercise\n",
    "url = 'http://uscode.house.gov/download/download.shtml'"
   ]
  },
  {
   "cell_type": "code",
   "execution_count": 349,
   "metadata": {},
   "outputs": [],
   "source": [
    "html=req.get(url).content"
   ]
  },
  {
   "cell_type": "code",
   "execution_count": 350,
   "metadata": {},
   "outputs": [],
   "source": [
    "soup=bs(html,'html.parser')"
   ]
  },
  {
   "cell_type": "code",
   "execution_count": 358,
   "metadata": {},
   "outputs": [
    {
     "data": {
      "text/plain": [
       "['Title 1 - General Provisions ٭',\n",
       " 'Title 2 - The Congress',\n",
       " 'Title 3 - The President ٭',\n",
       " 'Title 5 - Government Organization and Employees ٭',\n",
       " 'Title 6 - Domestic Security',\n",
       " 'Title 8 - Aliens and Nationality',\n",
       " 'Title 10 - Armed Forces ٭',\n",
       " 'Title 12 - Banks and Banking',\n",
       " 'Title 14 - Coast Guard ٭',\n",
       " 'Title 15 - Commerce and Trade',\n",
       " 'Title 16 - Conservation',\n",
       " 'Title 17 - Copyrights ٭',\n",
       " 'Title 18 - Crimes and Criminal Procedure ٭',\n",
       " 'Title 20 - Education',\n",
       " 'Title 21 - Food and Drugs',\n",
       " 'Title 22 - Foreign Relations and Intercourse',\n",
       " 'Title 25 - Indians',\n",
       " 'Title 26 - Internal Revenue Code',\n",
       " 'Title 28 - Judiciary and Judicial Procedure ٭',\n",
       " 'Title 29 - Labor',\n",
       " 'Title 31 - Money and Finance ٭',\n",
       " 'Title 32 - National Guard ٭',\n",
       " 'Title 33 - Navigation and Navigable Waters',\n",
       " 'Title 34 - Crime Control and Law Enforcement',\n",
       " 'Title 36 - Patriotic and National Observances, Ceremonies, and Organizations ٭',\n",
       " 'Title 37 - Pay and Allowances of the Uniformed Services ٭',\n",
       " \"Title 38 - Veterans' Benefits ٭\",\n",
       " 'Title 40 - Public Buildings, Property, and Works ٭',\n",
       " 'Title 41 - Public Contracts ٭',\n",
       " 'Title 42 - The Public Health and Welfare',\n",
       " 'Title 43 - Public Lands',\n",
       " 'Title 44 - Public Printing and Documents ٭',\n",
       " 'Title 46 - Shipping ٭',\n",
       " 'Title 48 - Territories and Insular Possessions',\n",
       " 'Title 49 - Transportation ٭',\n",
       " 'Title 50 - War and National Defense',\n",
       " 'Title 51 - National and Commercial Space Programs ٭']"
      ]
     },
     "execution_count": 358,
     "metadata": {},
     "output_type": "execute_result"
    }
   ],
   "source": [
    "ped=[e.text.strip() for e in soup.find_all('div',{'class':'usctitlechanged'})]\n",
    "ped"
   ]
  },
  {
   "cell_type": "code",
   "execution_count": null,
   "metadata": {},
   "outputs": [],
   "source": [
    "#your code"
   ]
  },
  {
   "attachments": {},
   "cell_type": "markdown",
   "metadata": {},
   "source": [
    "#### A Python list with the top ten FBI's Most Wanted names "
   ]
  },
  {
   "cell_type": "code",
   "execution_count": 359,
   "metadata": {},
   "outputs": [],
   "source": [
    "# This is the url you will scrape in this exercise\n",
    "url = 'https://www.fbi.gov/wanted/topten'"
   ]
  },
  {
   "cell_type": "code",
   "execution_count": 361,
   "metadata": {},
   "outputs": [],
   "source": [
    "html=req.get(url).content\n",
    "soup=bs(html,'html.parser')"
   ]
  },
  {
   "cell_type": "code",
   "execution_count": 366,
   "metadata": {},
   "outputs": [
    {
     "data": {
      "text/plain": [
       "['BHADRESHKUMAR CHETANBHAI PATEL',\n",
       " 'WILVER VILLEGAS-PALOMINO',\n",
       " 'ALEJANDRO ROSALES CASTILLO',\n",
       " 'RUJA IGNATOVA',\n",
       " 'ARNOLDO JIMENEZ',\n",
       " 'OMAR ALEXANDER CARDENAS',\n",
       " 'ALEXIS FLORES',\n",
       " 'YULAN ADONAY ARCHAGA CARIAS',\n",
       " 'MICHAEL JAMES PRATT',\n",
       " 'JOSE RODOLFO VILLARREAL-HERNANDEZ']"
      ]
     },
     "execution_count": 366,
     "metadata": {},
     "output_type": "execute_result"
    }
   ],
   "source": [
    "tucutu=[e.text.strip() for e in soup.find_all('h3',{'class':'title'})]\n",
    "tucutu"
   ]
  },
  {
   "cell_type": "code",
   "execution_count": null,
   "metadata": {},
   "outputs": [],
   "source": [
    "#your code "
   ]
  },
  {
   "attachments": {},
   "cell_type": "markdown",
   "metadata": {},
   "source": [
    "####  20 latest earthquakes info (date, time, latitude, longitude and region name) by the EMSC as a pandas dataframe"
   ]
  },
  {
   "cell_type": "code",
   "execution_count": 147,
   "metadata": {},
   "outputs": [],
   "source": [
    "# This is the url you will scrape in this exercise\n",
    "url = 'https://www.emsc-csem.org/Earthquake/'"
   ]
  },
  {
   "cell_type": "code",
   "execution_count": 148,
   "metadata": {},
   "outputs": [],
   "source": [
    "html=req.get(url).content\n",
    "soup=bs(html,'html.parser')"
   ]
  },
  {
   "cell_type": "code",
   "execution_count": 151,
   "metadata": {},
   "outputs": [],
   "source": [
    "tabla=soup.find_all('table')"
   ]
  },
  {
   "cell_type": "code",
   "execution_count": 154,
   "metadata": {},
   "outputs": [],
   "source": [
    "tabla = tabla[3]"
   ]
  },
  {
   "cell_type": "code",
   "execution_count": 167,
   "metadata": {},
   "outputs": [
    {
     "data": {
      "text/plain": [
       "['CitizenResponse',\n",
       " 'Date & Time UTC',\n",
       " 'Latitude degrees',\n",
       " 'Longitude degrees',\n",
       " 'Depth km',\n",
       " 'Mag  [+]',\n",
       " 'Region name  [+]']"
      ]
     },
     "execution_count": 167,
     "metadata": {},
     "output_type": "execute_result"
    }
   ],
   "source": [
    "cabezeras=tabla.find('thead')\n",
    "cabeceras=cabezeras.find_all('tr')[1]\n",
    "cabeceras = [e.text for e in cabeceras.find_all('th')[:-1]]\n",
    "cabeceras"
   ]
  },
  {
   "cell_type": "code",
   "execution_count": 172,
   "metadata": {},
   "outputs": [],
   "source": [
    "cuerpo=tabla.find('tbody')\n",
    "fila=cuerpo.find_all('tr')\n",
    "primera=[e.text for e in fila[0].find_all('td')]"
   ]
  },
  {
   "cell_type": "code",
   "execution_count": 173,
   "metadata": {},
   "outputs": [
    {
     "data": {
      "text/plain": [
       "{'CitizenResponse': '',\n",
       " 'Date & Time UTC': '2023-05-04 13:07',\n",
       " 'Latitude degrees': '36.06\\xa0N\\xa0\\xa0',\n",
       " 'Longitude degrees': '117.81\\xa0W\\xa0\\xa0',\n",
       " 'Region name': '\\xa0CENTRAL CALIFORNIA'}"
      ]
     },
     "execution_count": 173,
     "metadata": {},
     "output_type": "execute_result"
    }
   ],
   "source": [
    "data={}\n",
    "data['CitizenResponse']=primera[0]+primera[1]\n",
    "data['Date & Time UTC']=primera[-1]\n",
    "data['Latitude degrees']=primera[4]+primera[5]\n",
    "data['Longitude degrees']=primera[6]+primera[7]\n",
    "data['Region name']=primera[-2]\n",
    "data"
   ]
  },
  {
   "cell_type": "code",
   "execution_count": 177,
   "metadata": {},
   "outputs": [
    {
     "data": {
      "text/plain": [
       "[{'CitizenResponse': '',\n",
       "  'Date & Time UTC': '2023-05-04 13:07',\n",
       "  'Latitude degrees': '36.06\\xa0N\\xa0\\xa0',\n",
       "  'Longitude degrees': '117.81\\xa0W\\xa0\\xa0',\n",
       "  'Region name': '\\xa0CENTRAL CALIFORNIA'},\n",
       " {'CitizenResponse': '',\n",
       "  'Date & Time UTC': '2023-05-04 12:53',\n",
       "  'Latitude degrees': '20.88\\xa0S\\xa0\\xa0',\n",
       "  'Longitude degrees': '69.09\\xa0W\\xa0\\xa0',\n",
       "  'Region name': '\\xa0TARAPACA, CHILE'},\n",
       " {'CitizenResponse': '',\n",
       "  'Date & Time UTC': '2023-05-04 12:30',\n",
       "  'Latitude degrees': '24.26\\xa0S\\xa0\\xa0',\n",
       "  'Longitude degrees': '67.10\\xa0W\\xa0\\xa0',\n",
       "  'Region name': '\\xa0SALTA, ARGENTINA'},\n",
       " {'CitizenResponse': '',\n",
       "  'Date & Time UTC': '2023-05-04 12:25',\n",
       "  'Latitude degrees': '7.21\\xa0S\\xa0\\xa0',\n",
       "  'Longitude degrees': '105.87\\xa0E\\xa0\\xa0',\n",
       "  'Region name': '\\xa0JAVA, INDONESIA'},\n",
       " {'CitizenResponse': '17',\n",
       "  'Date & Time UTC': '2023-05-04 12:40',\n",
       "  'Latitude degrees': '42.74\\xa0N\\xa0\\xa0',\n",
       "  'Longitude degrees': '17.22\\xa0E\\xa0\\xa0',\n",
       "  'Region name': '\\xa0ADRIATIC SEA'},\n",
       " {'CitizenResponse': '',\n",
       "  'Date & Time UTC': '2023-05-04 12:20',\n",
       "  'Latitude degrees': '7.81\\xa0S\\xa0\\xa0',\n",
       "  'Longitude degrees': '118.76\\xa0E\\xa0\\xa0',\n",
       "  'Region name': '\\xa0FLORES SEA'},\n",
       " {'CitizenResponse': '',\n",
       "  'Date & Time UTC': '2023-05-04 11:45',\n",
       "  'Latitude degrees': '35.24\\xa0N\\xa0\\xa0',\n",
       "  'Longitude degrees': '98.05\\xa0W\\xa0\\xa0',\n",
       "  'Region name': '\\xa0OKLAHOMA'},\n",
       " {'CitizenResponse': '',\n",
       "  'Date & Time UTC': '2023-05-04 11:40',\n",
       "  'Latitude degrees': '7.95\\xa0S\\xa0\\xa0',\n",
       "  'Longitude degrees': '107.24\\xa0E\\xa0\\xa0',\n",
       "  'Region name': '\\xa0JAVA, INDONESIA'},\n",
       " {'CitizenResponse': '',\n",
       "  'Date & Time UTC': '2023-05-04 11:37',\n",
       "  'Latitude degrees': '39.92\\xa0N\\xa0\\xa0',\n",
       "  'Longitude degrees': '123.57\\xa0W\\xa0\\xa0',\n",
       "  'Region name': '\\xa0NORTHERN CALIFORNIA'},\n",
       " {'CitizenResponse': '',\n",
       "  'Date & Time UTC': '2023-05-04 11:40',\n",
       "  'Latitude degrees': '1.86\\xa0S\\xa0\\xa0',\n",
       "  'Longitude degrees': '121.55\\xa0E\\xa0\\xa0',\n",
       "  'Region name': '\\xa0SULAWESI, INDONESIA'},\n",
       " {'CitizenResponse': '',\n",
       "  'Date & Time UTC': '2023-05-04 11:25',\n",
       "  'Latitude degrees': '7.29\\xa0S\\xa0\\xa0',\n",
       "  'Longitude degrees': '105.83\\xa0E\\xa0\\xa0',\n",
       "  'Region name': '\\xa0JAVA, INDONESIA'},\n",
       " {'CitizenResponse': '',\n",
       "  'Date & Time UTC': '2023-05-04 11:43',\n",
       "  'Latitude degrees': '18.49\\xa0N\\xa0\\xa0',\n",
       "  'Longitude degrees': '67.41\\xa0W\\xa0\\xa0',\n",
       "  'Region name': '\\xa0MONA PASSAGE, PUERTO RICO'},\n",
       " {'CitizenResponse': '',\n",
       "  'Date & Time UTC': '2023-05-04 11:15',\n",
       "  'Latitude degrees': '37.91\\xa0N\\xa0\\xa0',\n",
       "  'Longitude degrees': '36.50\\xa0E\\xa0\\xa0',\n",
       "  'Region name': '\\xa0CENTRAL TURKEY'},\n",
       " {'CitizenResponse': '',\n",
       "  'Date & Time UTC': '2023-05-04 11:16',\n",
       "  'Latitude degrees': '31.57\\xa0S\\xa0\\xa0',\n",
       "  'Longitude degrees': '71.44\\xa0W\\xa0\\xa0',\n",
       "  'Region name': '\\xa0COQUIMBO, CHILE'},\n",
       " {'CitizenResponse': '',\n",
       "  'Date & Time UTC': '2023-05-04 11:05',\n",
       "  'Latitude degrees': '14.88\\xa0N\\xa0\\xa0',\n",
       "  'Longitude degrees': '94.42\\xa0W\\xa0\\xa0',\n",
       "  'Region name': '\\xa0OFF COAST OF CHIAPAS, MEXICO'},\n",
       " {'CitizenResponse': '',\n",
       "  'Date & Time UTC': '2023-05-04 10:35',\n",
       "  'Latitude degrees': '29.71\\xa0N\\xa0\\xa0',\n",
       "  'Longitude degrees': '80.60\\xa0E\\xa0\\xa0',\n",
       "  'Region name': '\\xa0NEPAL-INDIA BORDER REGION'},\n",
       " {'CitizenResponse': '',\n",
       "  'Date & Time UTC': '2023-05-04 10:25',\n",
       "  'Latitude degrees': '7.19\\xa0S\\xa0\\xa0',\n",
       "  'Longitude degrees': '105.93\\xa0E\\xa0\\xa0',\n",
       "  'Region name': '\\xa0JAVA, INDONESIA'},\n",
       " {'CitizenResponse': '2',\n",
       "  'Date & Time UTC': '2023-05-04 10:44',\n",
       "  'Latitude degrees': '18.35\\xa0S\\xa0\\xa0',\n",
       "  'Longitude degrees': '70.66\\xa0W\\xa0\\xa0',\n",
       "  'Region name': '\\xa0OFFSHORE TARAPACA, CHILE'},\n",
       " {'CitizenResponse': '',\n",
       "  'Date & Time UTC': '2023-05-04 10:16',\n",
       "  'Latitude degrees': '19.19\\xa0N\\xa0\\xa0',\n",
       "  'Longitude degrees': '155.49\\xa0W\\xa0\\xa0',\n",
       "  'Region name': '\\xa0ISLAND OF HAWAII, HAWAII'},\n",
       " {'CitizenResponse': '',\n",
       "  'Date & Time UTC': '2023-05-04 12:49',\n",
       "  'Latitude degrees': '10.45\\xa0N\\xa0\\xa0',\n",
       "  'Longitude degrees': '125.19\\xa0E\\xa0\\xa0',\n",
       "  'Region name': '\\xa0LEYTE, PHILIPPINES'},\n",
       " {'CitizenResponse': '',\n",
       "  'Date & Time UTC': '2023-05-04 11:47',\n",
       "  'Latitude degrees': '35.53\\xa0N\\xa0\\xa0',\n",
       "  'Longitude degrees': '23.22\\xa0E\\xa0\\xa0',\n",
       "  'Region name': '\\xa0CRETE, GREECE'},\n",
       " {'CitizenResponse': '',\n",
       "  'Date & Time UTC': '2023-05-04 11:44',\n",
       "  'Latitude degrees': '34.89\\xa0N\\xa0\\xa0',\n",
       "  'Longitude degrees': '23.85\\xa0E\\xa0\\xa0',\n",
       "  'Region name': '\\xa0CRETE, GREECE'},\n",
       " {'CitizenResponse': '',\n",
       "  'Date & Time UTC': '2023-05-04 10:10',\n",
       "  'Latitude degrees': '47.50\\xa0N\\xa0\\xa0',\n",
       "  'Longitude degrees': '2.29\\xa0W\\xa0\\xa0',\n",
       "  'Region name': '\\xa0FRANCE'},\n",
       " {'CitizenResponse': '',\n",
       "  'Date & Time UTC': '2023-05-04 12:49',\n",
       "  'Latitude degrees': '63.67\\xa0N\\xa0\\xa0',\n",
       "  'Longitude degrees': '19.12\\xa0W\\xa0\\xa0',\n",
       "  'Region name': '\\xa0ICELAND'},\n",
       " {'CitizenResponse': '',\n",
       "  'Date & Time UTC': '2023-05-04 10:44',\n",
       "  'Latitude degrees': '42.87\\xa0N\\xa0\\xa0',\n",
       "  'Longitude degrees': '7.20\\xa0W\\xa0\\xa0',\n",
       "  'Region name': '\\xa0SPAIN'},\n",
       " {'CitizenResponse': '',\n",
       "  'Date & Time UTC': '2023-05-04 10:10',\n",
       "  'Latitude degrees': '37.88\\xa0N\\xa0\\xa0',\n",
       "  'Longitude degrees': '37.71\\xa0E\\xa0\\xa0',\n",
       "  'Region name': '\\xa0CENTRAL TURKEY'},\n",
       " {'CitizenResponse': '',\n",
       "  'Date & Time UTC': '2023-05-04 11:23',\n",
       "  'Latitude degrees': '63.53\\xa0N\\xa0\\xa0',\n",
       "  'Longitude degrees': '19.27\\xa0W\\xa0\\xa0',\n",
       "  'Region name': '\\xa0ICELAND'},\n",
       " {'CitizenResponse': '',\n",
       "  'Date & Time UTC': '2023-05-04 10:58',\n",
       "  'Latitude degrees': '45.67\\xa0N\\xa0\\xa0',\n",
       "  'Longitude degrees': '7.66\\xa0E\\xa0\\xa0',\n",
       "  'Region name': '\\xa0NORTHERN ITALY'},\n",
       " {'CitizenResponse': '',\n",
       "  'Date & Time UTC': '2023-05-04 11:10',\n",
       "  'Latitude degrees': '19.03\\xa0N\\xa0\\xa0',\n",
       "  'Longitude degrees': '68.36\\xa0W\\xa0\\xa0',\n",
       "  'Region name': '\\xa0DOMINICAN REPUBLIC REGION'},\n",
       " {'CitizenResponse': '',\n",
       "  'Date & Time UTC': '2023-05-04 09:48',\n",
       "  'Latitude degrees': '37.92\\xa0N\\xa0\\xa0',\n",
       "  'Longitude degrees': '36.27\\xa0E\\xa0\\xa0',\n",
       "  'Region name': '\\xa0CENTRAL TURKEY'},\n",
       " {'CitizenResponse': '',\n",
       "  'Date & Time UTC': '2023-05-04 09:22',\n",
       "  'Latitude degrees': '34.51\\xa0N\\xa0\\xa0',\n",
       "  'Longitude degrees': '97.20\\xa0W\\xa0\\xa0',\n",
       "  'Region name': '\\xa0OKLAHOMA'},\n",
       " {'CitizenResponse': '',\n",
       "  'Date & Time UTC': '2023-05-04 09:25',\n",
       "  'Latitude degrees': '9.26\\xa0S\\xa0\\xa0',\n",
       "  'Longitude degrees': '119.54\\xa0E\\xa0\\xa0',\n",
       "  'Region name': '\\xa0SUMBA REGION, INDONESIA'},\n",
       " {'CitizenResponse': '',\n",
       "  'Date & Time UTC': '2023-05-04 09:11',\n",
       "  'Latitude degrees': '19.41\\xa0N\\xa0\\xa0',\n",
       "  'Longitude degrees': '155.29\\xa0W\\xa0\\xa0',\n",
       "  'Region name': '\\xa0ISLAND OF HAWAII, HAWAII'},\n",
       " {'CitizenResponse': '',\n",
       "  'Date & Time UTC': '2023-05-04 10:02',\n",
       "  'Latitude degrees': '38.32\\xa0N\\xa0\\xa0',\n",
       "  'Longitude degrees': '39.41\\xa0E\\xa0\\xa0',\n",
       "  'Region name': '\\xa0EASTERN TURKEY'},\n",
       " {'CitizenResponse': '',\n",
       "  'Date & Time UTC': '2023-05-04 09:10',\n",
       "  'Latitude degrees': '18.66\\xa0S\\xa0\\xa0',\n",
       "  'Longitude degrees': '69.69\\xa0W\\xa0\\xa0',\n",
       "  'Region name': '\\xa0TARAPACA, CHILE'},\n",
       " {'CitizenResponse': '',\n",
       "  'Date & Time UTC': '2023-05-04 08:55',\n",
       "  'Latitude degrees': '21.74\\xa0S\\xa0\\xa0',\n",
       "  'Longitude degrees': '68.61\\xa0W\\xa0\\xa0',\n",
       "  'Region name': '\\xa0ANTOFAGASTA, CHILE'},\n",
       " {'CitizenResponse': '',\n",
       "  'Date & Time UTC': '2023-05-04 10:03',\n",
       "  'Latitude degrees': '29.67\\xa0S\\xa0\\xa0',\n",
       "  'Longitude degrees': '177.02\\xa0W\\xa0\\xa0',\n",
       "  'Region name': '\\xa0KERMADEC ISLANDS, NEW ZEALAND'},\n",
       " {'CitizenResponse': '',\n",
       "  'Date & Time UTC': '2023-05-04 08:59',\n",
       "  'Latitude degrees': '18.62\\xa0N\\xa0\\xa0',\n",
       "  'Longitude degrees': '68.77\\xa0W\\xa0\\xa0',\n",
       "  'Region name': '\\xa0DOMINICAN REPUBLIC'},\n",
       " {'CitizenResponse': '4',\n",
       "  'Date & Time UTC': '2023-05-04 08:30',\n",
       "  'Latitude degrees': '33.77\\xa0S\\xa0\\xa0',\n",
       "  'Longitude degrees': '70.54\\xa0W\\xa0\\xa0',\n",
       "  'Region name': '\\xa0REGION METROPOLITANA, CHILE'},\n",
       " {'CitizenResponse': '',\n",
       "  'Date & Time UTC': '2023-05-04 08:35',\n",
       "  'Latitude degrees': '3.40\\xa0S\\xa0\\xa0',\n",
       "  'Longitude degrees': '140.34\\xa0E\\xa0\\xa0',\n",
       "  'Region name': '\\xa0PAPUA, INDONESIA'},\n",
       " {'CitizenResponse': '',\n",
       "  'Date & Time UTC': '2023-05-04 08:30',\n",
       "  'Latitude degrees': '0.34\\xa0S\\xa0\\xa0',\n",
       "  'Longitude degrees': '120.20\\xa0E\\xa0\\xa0',\n",
       "  'Region name': '\\xa0MINAHASA, SULAWESI, INDONESIA'},\n",
       " {'CitizenResponse': '',\n",
       "  'Date & Time UTC': '2023-05-04 08:29',\n",
       "  'Latitude degrees': '19.41\\xa0N\\xa0\\xa0',\n",
       "  'Longitude degrees': '155.26\\xa0W\\xa0\\xa0',\n",
       "  'Region name': '\\xa0ISLAND OF HAWAII, HAWAII'},\n",
       " {'CitizenResponse': '',\n",
       "  'Date & Time UTC': '2023-05-04 08:19',\n",
       "  'Latitude degrees': '19.16\\xa0N\\xa0\\xa0',\n",
       "  'Longitude degrees': '155.48\\xa0W\\xa0\\xa0',\n",
       "  'Region name': '\\xa0ISLAND OF HAWAII, HAWAII'},\n",
       " {'CitizenResponse': '',\n",
       "  'Date & Time UTC': '2023-05-04 10:02',\n",
       "  'Latitude degrees': '38.22\\xa0N\\xa0\\xa0',\n",
       "  'Longitude degrees': '38.27\\xa0E\\xa0\\xa0',\n",
       "  'Region name': '\\xa0EASTERN TURKEY'},\n",
       " {'CitizenResponse': '',\n",
       "  'Date & Time UTC': '2023-05-04 08:20',\n",
       "  'Latitude degrees': '0.26\\xa0S\\xa0\\xa0',\n",
       "  'Longitude degrees': '122.94\\xa0E\\xa0\\xa0',\n",
       "  'Region name': '\\xa0SULAWESI, INDONESIA'},\n",
       " {'CitizenResponse': '',\n",
       "  'Date & Time UTC': '2023-05-04 08:20',\n",
       "  'Latitude degrees': '63.81\\xa0N\\xa0\\xa0',\n",
       "  'Longitude degrees': '22.76\\xa0W\\xa0\\xa0',\n",
       "  'Region name': '\\xa0ICELAND REGION'},\n",
       " {'CitizenResponse': '',\n",
       "  'Date & Time UTC': '2023-05-04 08:30',\n",
       "  'Latitude degrees': '41.38\\xa0N\\xa0\\xa0',\n",
       "  'Longitude degrees': '14.49\\xa0E\\xa0\\xa0',\n",
       "  'Region name': '\\xa0SOUTHERN ITALY'},\n",
       " {'CitizenResponse': '',\n",
       "  'Date & Time UTC': '2023-05-04 10:00',\n",
       "  'Latitude degrees': '54.08\\xa0N\\xa0\\xa0',\n",
       "  'Longitude degrees': '162.78\\xa0W\\xa0\\xa0',\n",
       "  'Region name': '\\xa0ALASKA PENINSULA'},\n",
       " {'CitizenResponse': '',\n",
       "  'Date & Time UTC': '2023-05-04 12:05',\n",
       "  'Latitude degrees': '37.47\\xa0N\\xa0\\xa0',\n",
       "  'Longitude degrees': '117.87\\xa0W\\xa0\\xa0',\n",
       "  'Region name': '\\xa0CENTRAL CALIFORNIA'},\n",
       " {'CitizenResponse': '',\n",
       "  'Date & Time UTC': '2023-05-04 08:06',\n",
       "  'Latitude degrees': '19.36\\xa0N\\xa0\\xa0',\n",
       "  'Longitude degrees': '155.43\\xa0W\\xa0\\xa0',\n",
       "  'Region name': '\\xa0ISLAND OF HAWAII, HAWAII'}]"
      ]
     },
     "execution_count": 177,
     "metadata": {},
     "output_type": "execute_result"
    }
   ],
   "source": [
    "res =[]\n",
    "for e in fila:\n",
    "    filas=[e.text for e in e.find_all('td')]\n",
    "    data={}\n",
    "    data['CitizenResponse']=filas[0]+filas[1]\n",
    "    data['Date & Time UTC']=filas[-1]\n",
    "    data['Latitude degrees']=filas[4]+filas[5]\n",
    "    data['Longitude degrees']=filas[6]+filas[7]\n",
    "    data['Region name']=filas[-2]\n",
    "    res.append(data)\n",
    "res"
   ]
  },
  {
   "cell_type": "code",
   "execution_count": 180,
   "metadata": {},
   "outputs": [
    {
     "data": {
      "text/html": [
       "<div>\n",
       "<style scoped>\n",
       "    .dataframe tbody tr th:only-of-type {\n",
       "        vertical-align: middle;\n",
       "    }\n",
       "\n",
       "    .dataframe tbody tr th {\n",
       "        vertical-align: top;\n",
       "    }\n",
       "\n",
       "    .dataframe thead th {\n",
       "        text-align: right;\n",
       "    }\n",
       "</style>\n",
       "<table border=\"1\" class=\"dataframe\">\n",
       "  <thead>\n",
       "    <tr style=\"text-align: right;\">\n",
       "      <th></th>\n",
       "      <th>CitizenResponse</th>\n",
       "      <th>Date &amp; Time UTC</th>\n",
       "      <th>Latitude degrees</th>\n",
       "      <th>Longitude degrees</th>\n",
       "      <th>Region name</th>\n",
       "    </tr>\n",
       "  </thead>\n",
       "  <tbody>\n",
       "    <tr>\n",
       "      <th>0</th>\n",
       "      <td></td>\n",
       "      <td>2023-05-04 13:07</td>\n",
       "      <td>36.06 N</td>\n",
       "      <td>117.81 W</td>\n",
       "      <td>CENTRAL CALIFORNIA</td>\n",
       "    </tr>\n",
       "    <tr>\n",
       "      <th>1</th>\n",
       "      <td></td>\n",
       "      <td>2023-05-04 12:53</td>\n",
       "      <td>20.88 S</td>\n",
       "      <td>69.09 W</td>\n",
       "      <td>TARAPACA, CHILE</td>\n",
       "    </tr>\n",
       "    <tr>\n",
       "      <th>2</th>\n",
       "      <td></td>\n",
       "      <td>2023-05-04 12:30</td>\n",
       "      <td>24.26 S</td>\n",
       "      <td>67.10 W</td>\n",
       "      <td>SALTA, ARGENTINA</td>\n",
       "    </tr>\n",
       "    <tr>\n",
       "      <th>3</th>\n",
       "      <td></td>\n",
       "      <td>2023-05-04 12:25</td>\n",
       "      <td>7.21 S</td>\n",
       "      <td>105.87 E</td>\n",
       "      <td>JAVA, INDONESIA</td>\n",
       "    </tr>\n",
       "    <tr>\n",
       "      <th>4</th>\n",
       "      <td>17</td>\n",
       "      <td>2023-05-04 12:40</td>\n",
       "      <td>42.74 N</td>\n",
       "      <td>17.22 E</td>\n",
       "      <td>ADRIATIC SEA</td>\n",
       "    </tr>\n",
       "    <tr>\n",
       "      <th>5</th>\n",
       "      <td></td>\n",
       "      <td>2023-05-04 12:20</td>\n",
       "      <td>7.81 S</td>\n",
       "      <td>118.76 E</td>\n",
       "      <td>FLORES SEA</td>\n",
       "    </tr>\n",
       "    <tr>\n",
       "      <th>6</th>\n",
       "      <td></td>\n",
       "      <td>2023-05-04 11:45</td>\n",
       "      <td>35.24 N</td>\n",
       "      <td>98.05 W</td>\n",
       "      <td>OKLAHOMA</td>\n",
       "    </tr>\n",
       "    <tr>\n",
       "      <th>7</th>\n",
       "      <td></td>\n",
       "      <td>2023-05-04 11:40</td>\n",
       "      <td>7.95 S</td>\n",
       "      <td>107.24 E</td>\n",
       "      <td>JAVA, INDONESIA</td>\n",
       "    </tr>\n",
       "    <tr>\n",
       "      <th>8</th>\n",
       "      <td></td>\n",
       "      <td>2023-05-04 11:37</td>\n",
       "      <td>39.92 N</td>\n",
       "      <td>123.57 W</td>\n",
       "      <td>NORTHERN CALIFORNIA</td>\n",
       "    </tr>\n",
       "    <tr>\n",
       "      <th>9</th>\n",
       "      <td></td>\n",
       "      <td>2023-05-04 11:40</td>\n",
       "      <td>1.86 S</td>\n",
       "      <td>121.55 E</td>\n",
       "      <td>SULAWESI, INDONESIA</td>\n",
       "    </tr>\n",
       "    <tr>\n",
       "      <th>10</th>\n",
       "      <td></td>\n",
       "      <td>2023-05-04 11:25</td>\n",
       "      <td>7.29 S</td>\n",
       "      <td>105.83 E</td>\n",
       "      <td>JAVA, INDONESIA</td>\n",
       "    </tr>\n",
       "    <tr>\n",
       "      <th>11</th>\n",
       "      <td></td>\n",
       "      <td>2023-05-04 11:43</td>\n",
       "      <td>18.49 N</td>\n",
       "      <td>67.41 W</td>\n",
       "      <td>MONA PASSAGE, PUERTO RICO</td>\n",
       "    </tr>\n",
       "    <tr>\n",
       "      <th>12</th>\n",
       "      <td></td>\n",
       "      <td>2023-05-04 11:15</td>\n",
       "      <td>37.91 N</td>\n",
       "      <td>36.50 E</td>\n",
       "      <td>CENTRAL TURKEY</td>\n",
       "    </tr>\n",
       "    <tr>\n",
       "      <th>13</th>\n",
       "      <td></td>\n",
       "      <td>2023-05-04 11:16</td>\n",
       "      <td>31.57 S</td>\n",
       "      <td>71.44 W</td>\n",
       "      <td>COQUIMBO, CHILE</td>\n",
       "    </tr>\n",
       "    <tr>\n",
       "      <th>14</th>\n",
       "      <td></td>\n",
       "      <td>2023-05-04 11:05</td>\n",
       "      <td>14.88 N</td>\n",
       "      <td>94.42 W</td>\n",
       "      <td>OFF COAST OF CHIAPAS, MEXICO</td>\n",
       "    </tr>\n",
       "    <tr>\n",
       "      <th>15</th>\n",
       "      <td></td>\n",
       "      <td>2023-05-04 10:35</td>\n",
       "      <td>29.71 N</td>\n",
       "      <td>80.60 E</td>\n",
       "      <td>NEPAL-INDIA BORDER REGION</td>\n",
       "    </tr>\n",
       "    <tr>\n",
       "      <th>16</th>\n",
       "      <td></td>\n",
       "      <td>2023-05-04 10:25</td>\n",
       "      <td>7.19 S</td>\n",
       "      <td>105.93 E</td>\n",
       "      <td>JAVA, INDONESIA</td>\n",
       "    </tr>\n",
       "    <tr>\n",
       "      <th>17</th>\n",
       "      <td>2</td>\n",
       "      <td>2023-05-04 10:44</td>\n",
       "      <td>18.35 S</td>\n",
       "      <td>70.66 W</td>\n",
       "      <td>OFFSHORE TARAPACA, CHILE</td>\n",
       "    </tr>\n",
       "    <tr>\n",
       "      <th>18</th>\n",
       "      <td></td>\n",
       "      <td>2023-05-04 10:16</td>\n",
       "      <td>19.19 N</td>\n",
       "      <td>155.49 W</td>\n",
       "      <td>ISLAND OF HAWAII, HAWAII</td>\n",
       "    </tr>\n",
       "    <tr>\n",
       "      <th>19</th>\n",
       "      <td></td>\n",
       "      <td>2023-05-04 12:49</td>\n",
       "      <td>10.45 N</td>\n",
       "      <td>125.19 E</td>\n",
       "      <td>LEYTE, PHILIPPINES</td>\n",
       "    </tr>\n",
       "  </tbody>\n",
       "</table>\n",
       "</div>"
      ],
      "text/plain": [
       "   CitizenResponse   Date & Time UTC Latitude degrees Longitude degrees   \n",
       "0                   2023-05-04 13:07        36.06 N          117.81 W    \\\n",
       "1                   2023-05-04 12:53        20.88 S           69.09 W     \n",
       "2                   2023-05-04 12:30        24.26 S           67.10 W     \n",
       "3                   2023-05-04 12:25         7.21 S          105.87 E     \n",
       "4               17  2023-05-04 12:40        42.74 N           17.22 E     \n",
       "5                   2023-05-04 12:20         7.81 S          118.76 E     \n",
       "6                   2023-05-04 11:45        35.24 N           98.05 W     \n",
       "7                   2023-05-04 11:40         7.95 S          107.24 E     \n",
       "8                   2023-05-04 11:37        39.92 N          123.57 W     \n",
       "9                   2023-05-04 11:40         1.86 S          121.55 E     \n",
       "10                  2023-05-04 11:25         7.29 S          105.83 E     \n",
       "11                  2023-05-04 11:43        18.49 N           67.41 W     \n",
       "12                  2023-05-04 11:15        37.91 N           36.50 E     \n",
       "13                  2023-05-04 11:16        31.57 S           71.44 W     \n",
       "14                  2023-05-04 11:05        14.88 N           94.42 W     \n",
       "15                  2023-05-04 10:35        29.71 N           80.60 E     \n",
       "16                  2023-05-04 10:25         7.19 S          105.93 E     \n",
       "17               2  2023-05-04 10:44        18.35 S           70.66 W     \n",
       "18                  2023-05-04 10:16        19.19 N          155.49 W     \n",
       "19                  2023-05-04 12:49        10.45 N          125.19 E     \n",
       "\n",
       "                      Region name  \n",
       "0              CENTRAL CALIFORNIA  \n",
       "1                 TARAPACA, CHILE  \n",
       "2                SALTA, ARGENTINA  \n",
       "3                 JAVA, INDONESIA  \n",
       "4                    ADRIATIC SEA  \n",
       "5                      FLORES SEA  \n",
       "6                        OKLAHOMA  \n",
       "7                 JAVA, INDONESIA  \n",
       "8             NORTHERN CALIFORNIA  \n",
       "9             SULAWESI, INDONESIA  \n",
       "10                JAVA, INDONESIA  \n",
       "11      MONA PASSAGE, PUERTO RICO  \n",
       "12                 CENTRAL TURKEY  \n",
       "13                COQUIMBO, CHILE  \n",
       "14   OFF COAST OF CHIAPAS, MEXICO  \n",
       "15      NEPAL-INDIA BORDER REGION  \n",
       "16                JAVA, INDONESIA  \n",
       "17       OFFSHORE TARAPACA, CHILE  \n",
       "18       ISLAND OF HAWAII, HAWAII  \n",
       "19             LEYTE, PHILIPPINES  "
      ]
     },
     "execution_count": 180,
     "metadata": {},
     "output_type": "execute_result"
    }
   ],
   "source": [
    "car=pd.DataFrame(res).head(20)"
   ]
  },
  {
   "cell_type": "code",
   "execution_count": null,
   "metadata": {},
   "outputs": [],
   "source": [
    "#your code"
   ]
  },
  {
   "attachments": {},
   "cell_type": "markdown",
   "metadata": {},
   "source": [
    "#### Display the date, days, title, city, country of next 25 hackathon events as a Pandas dataframe table"
   ]
  },
  {
   "cell_type": "code",
   "execution_count": 182,
   "metadata": {},
   "outputs": [],
   "source": [
    "# This is the url you will scrape in this exercise\n",
    "url ='https://hackevents.co/hackathons'"
   ]
  },
  {
   "cell_type": "code",
   "execution_count": 183,
   "metadata": {},
   "outputs": [],
   "source": [
    "html=req.get(url).content\n",
    "soup=bs(html,'html.parser')"
   ]
  },
  {
   "cell_type": "code",
   "execution_count": null,
   "metadata": {},
   "outputs": [],
   "source": [
    "#no entiendo la web"
   ]
  },
  {
   "cell_type": "code",
   "execution_count": null,
   "metadata": {},
   "outputs": [],
   "source": [
    "#your code"
   ]
  },
  {
   "attachments": {},
   "cell_type": "markdown",
   "metadata": {},
   "source": [
    "#### Count number of tweets by a given Twitter account."
   ]
  },
  {
   "attachments": {},
   "cell_type": "markdown",
   "metadata": {},
   "source": [
    "You will need to include a ***try/except block*** for account names not found. \n",
    "<br>***Hint:*** the program should count the number of tweets for any provided account"
   ]
  },
  {
   "cell_type": "code",
   "execution_count": 450,
   "metadata": {},
   "outputs": [],
   "source": [
    "# This is the url you will scrape in this exercise \n",
    "# You will need to add the account credentials to this url\n",
    "url = 'https://twitter.com/Messismo10'"
   ]
  },
  {
   "cell_type": "code",
   "execution_count": 459,
   "metadata": {},
   "outputs": [],
   "source": [
    "#your code\n",
    "html=req.get(url).content\n",
    "soup=bs(html,'html.parser')"
   ]
  },
  {
   "cell_type": "code",
   "execution_count": 461,
   "metadata": {},
   "outputs": [
    {
     "name": "stdout",
     "output_type": "stream",
     "text": [
      "<div class=\"css-1dbjc4n r-13awgt0 r-12vffkv\"><div aria-label=\"Loading…\" class=\"css-1dbjc4n r-14lw9ot r-1p0dtai r-1d2f490 r-1xcajam r-zchlnj r-ipm5af\" id=\"placeholder\"><svg aria-hidden=\"true\" class=\"r-1p0dtai r-13gxpu9 r-4qtqp9 r-yyyyoo r-wy61xf r-1d2f490 r-ywje51 r-dnmrzs r-u8s1d r-zchlnj r-1plcrui r-ipm5af r-lrvibr r-1blnp2b\" viewbox=\"0 0 24 24\"><g><path d=\"M23.643 4.937c-.835.37-1.732.62-2.675.733.962-.576 1.7-1.49 2.048-2.578-.9.534-1.897.922-2.958 1.13-.85-.904-2.06-1.47-3.4-1.47-2.572 0-4.658 2.086-4.658 4.66 0 .364.042.718.12 1.06-3.873-.195-7.304-2.05-9.602-4.868-.4.69-.63 1.49-.63 2.342 0 1.616.823 3.043 2.072 3.878-.764-.025-1.482-.234-2.11-.583v.06c0 2.257 1.605 4.14 3.737 4.568-.392.106-.803.162-1.227.162-.3 0-.593-.028-.877-.082.593 1.85 2.313 3.198 4.352 3.234-1.595 1.25-3.604 1.995-5.786 1.995-.376 0-.747-.022-1.112-.065 2.062 1.323 4.51 2.093 7.14 2.093 8.57 0 13.255-7.098 13.255-13.254 0-.2-.005-.402-.014-.602.91-.658 1.7-1.477 2.323-2.41z\"></path></g></svg></div><div class=\"css-1dbjc4n r-hvic4v r-1d2f490 r-1xcajam r-zchlnj r-1ykxob0\" id=\"ScriptLoadFailure\"><form action=\"\" method=\"GET\"><div class=\"css-1dbjc4n r-1awozwy r-q4m81j\"><div class=\"css-901oao r-37j5jr r-a023e6 r-16dba41 r-rjixqe r-bcqeeo r-qvutc0\" dir=\"ltr\" style=\"color:rgba(15,20,25,1.00)\"><span class=\"css-901oao css-16my406 r-poiln3 r-bcqeeo r-qvutc0\">Something went wrong, but don’t fret — let’s give it another shot.</span></div><br/><input name=\"failedScript\" type=\"hidden\" value=\"\"/><button style=\"background:transparent;border:none\" type=\"submit\"><div class=\"css-18t94o4 css-1dbjc4n r-sdzlij r-1phboty r-rs99b7 r-2yi16 r-1qi8awa r-1ny4l3l r-ymttw5 r-o7ynqc r-6416eg r-lrvibr\" role=\"button\" style=\"background-color:rgba(15,20,25,1.00);border-top-color:rgba(0,0,0,0.00);border-right-color:rgba(0,0,0,0.00);border-bottom-color:rgba(0,0,0,0.00);border-left-color:rgba(0,0,0,0.00)\" tabindex=\"0\"><div class=\"css-901oao r-1awozwy r-6koalj r-18u37iz r-16y2uox r-37j5jr r-a023e6 r-b88u0q r-1777fci r-rjixqe r-bcqeeo r-q4m81j r-qvutc0\" dir=\"ltr\" style=\"color:rgba(255,255,255,1.00)\"><span class=\"css-901oao css-16my406 css-1hf3ou5 r-poiln3 r-a023e6 r-rjixqe r-bcqeeo r-qvutc0\"><span class=\"css-901oao css-16my406 r-poiln3 r-bcqeeo r-qvutc0\">Try again</span></span></div></div></button></div></form></div></div>\n"
     ]
    }
   ],
   "source": [
    "for e in soup.find('div',{'class':'css-1dbjc4n'}):\n",
    "    print(e)"
   ]
  },
  {
   "attachments": {},
   "cell_type": "markdown",
   "metadata": {},
   "source": [
    "#### Number of followers of a given twitter account"
   ]
  },
  {
   "attachments": {},
   "cell_type": "markdown",
   "metadata": {},
   "source": [
    "You will need to include a ***try/except block*** in case account/s name not found. \n",
    "<br>***Hint:*** the program should count the followers for any provided account"
   ]
  },
  {
   "cell_type": "code",
   "execution_count": null,
   "metadata": {},
   "outputs": [],
   "source": [
    "# This is the url you will scrape in this exercise \n",
    "# You will need to add the account credentials to this url\n",
    "url = 'https://twitter.com/'"
   ]
  },
  {
   "cell_type": "code",
   "execution_count": null,
   "metadata": {},
   "outputs": [],
   "source": [
    "#your code"
   ]
  },
  {
   "attachments": {},
   "cell_type": "markdown",
   "metadata": {},
   "source": [
    "#### List all language names and number of related articles in the order they appear in wikipedia.org"
   ]
  },
  {
   "cell_type": "code",
   "execution_count": 29,
   "metadata": {},
   "outputs": [],
   "source": [
    "# This is the url you will scrape in this exercise\n",
    "url = 'https://www.wikipedia.org/'"
   ]
  },
  {
   "cell_type": "code",
   "execution_count": 30,
   "metadata": {},
   "outputs": [],
   "source": [
    "html=req.get(url).content\n",
    "soup=bs(html,'html.parser')"
   ]
  },
  {
   "cell_type": "code",
   "execution_count": null,
   "metadata": {},
   "outputs": [],
   "source": [
    "e[0].text.split()[0]"
   ]
  },
  {
   "cell_type": "code",
   "execution_count": 146,
   "metadata": {},
   "outputs": [
    {
     "data": {
      "text/plain": [
       "['English',\n",
       " 'Русский',\n",
       " '日本語',\n",
       " 'Deutsch',\n",
       " 'Español',\n",
       " 'Français',\n",
       " 'Italiano',\n",
       " '中文',\n",
       " 'فارسی',\n",
       " 'Português']"
      ]
     },
     "execution_count": 146,
     "metadata": {},
     "output_type": "execute_result"
    }
   ],
   "source": [
    "[e[0].text.split()[0] for e in [soup.find_all('div',{'class' :f'central-featured-lang lang{e}'}) for e in range (1,11)]]"
   ]
  },
  {
   "cell_type": "code",
   "execution_count": 122,
   "metadata": {},
   "outputs": [
    {
     "data": {
      "text/plain": [
       "{'English': '6644000',\n",
       " 'Русский': '1909000',\n",
       " '日本語': '1370000',\n",
       " 'Deutsch': '2792000',\n",
       " 'Español': '1854000',\n",
       " 'Français': '2514000',\n",
       " 'Italiano': '1806000',\n",
       " '中文': '1347000',\n",
       " 'فارسی': '959000',\n",
       " 'Português': '1101000'}"
      ]
     },
     "execution_count": 122,
     "metadata": {},
     "output_type": "execute_result"
    }
   ],
   "source": [
    "bru={e.text.strip().split()[0]:''.join(''.join(e.text.strip().split('+')[0]).split()[1:]) for e in soup.find_all('a',{'class':'link-box'})}\n",
    "bru"
   ]
  },
  {
   "cell_type": "code",
   "execution_count": null,
   "metadata": {},
   "outputs": [],
   "source": [
    "#lo he escogido con codigos especificos como esta en la web donde el idioma iba ordenado numericamente, pero ls distribucion me sigue dando diferente"
   ]
  },
  {
   "cell_type": "code",
   "execution_count": null,
   "metadata": {},
   "outputs": [],
   "source": [
    "#your code"
   ]
  },
  {
   "attachments": {},
   "cell_type": "markdown",
   "metadata": {},
   "source": [
    "#### A list with the different kind of datasets available in data.gov.uk "
   ]
  },
  {
   "cell_type": "code",
   "execution_count": 2,
   "metadata": {},
   "outputs": [],
   "source": [
    "# This is the url you will scrape in this exercise\n",
    "url = 'https://data.gov.uk/'"
   ]
  },
  {
   "cell_type": "code",
   "execution_count": 4,
   "metadata": {},
   "outputs": [],
   "source": [
    "html=req.get(url).content\n",
    "soup=bs(html,'html.parser')"
   ]
  },
  {
   "cell_type": "code",
   "execution_count": 28,
   "metadata": {},
   "outputs": [
    {
     "data": {
      "text/plain": [
       "{'Business and economy': 'https://data.gov.uk//search?filters%5Btopic%5D=Business+and+economy',\n",
       " 'Crime and justice': 'https://data.gov.uk//search?filters%5Btopic%5D=Crime+and+justice',\n",
       " 'Defence': 'https://data.gov.uk//search?filters%5Btopic%5D=Defence',\n",
       " 'Education': 'https://data.gov.uk//search?filters%5Btopic%5D=Education',\n",
       " 'Environment': 'https://data.gov.uk//search?filters%5Btopic%5D=Environment',\n",
       " 'Government': 'https://data.gov.uk//search?filters%5Btopic%5D=Government',\n",
       " 'Government spending': 'https://data.gov.uk//search?filters%5Btopic%5D=Government+spending',\n",
       " 'Health': 'https://data.gov.uk//search?filters%5Btopic%5D=Health',\n",
       " 'Mapping': 'https://data.gov.uk//search?filters%5Btopic%5D=Mapping',\n",
       " 'Society': 'https://data.gov.uk//search?filters%5Btopic%5D=Society',\n",
       " 'Towns and cities': 'https://data.gov.uk//search?filters%5Btopic%5D=Towns+and+cities',\n",
       " 'Transport': 'https://data.gov.uk//search?filters%5Btopic%5D=Transport',\n",
       " 'Digital service performance': 'https://data.gov.uk//search?filters%5Btopic%5D=Digital+service+performance',\n",
       " 'Government reference data': 'https://data.gov.uk//search?filters%5Btopic%5D=Government+reference+data'}"
      ]
     },
     "execution_count": 28,
     "metadata": {},
     "output_type": "execute_result"
    }
   ],
   "source": [
    "dic={e.text : url+e['href'] for e in soup.find_all('a',{'class':'govuk-link'}) if '/search' in e['href']}\n",
    "dic"
   ]
  },
  {
   "cell_type": "code",
   "execution_count": null,
   "metadata": {},
   "outputs": [],
   "source": [
    "#your code "
   ]
  },
  {
   "attachments": {},
   "cell_type": "markdown",
   "metadata": {},
   "source": [
    "#### Top 10 languages by number of native speakers stored in a Pandas Dataframe"
   ]
  },
  {
   "cell_type": "code",
   "execution_count": null,
   "metadata": {},
   "outputs": [],
   "source": [
    "# This is the url you will scrape in this exercise\n",
    "url = 'https://en.wikipedia.org/wiki/List_of_languages_by_number_of_native_speakers'"
   ]
  },
  {
   "cell_type": "code",
   "execution_count": null,
   "metadata": {},
   "outputs": [],
   "source": [
    "#your code"
   ]
  },
  {
   "attachments": {},
   "cell_type": "markdown",
   "metadata": {},
   "source": [
    "### BONUS QUESTIONS"
   ]
  },
  {
   "attachments": {},
   "cell_type": "markdown",
   "metadata": {},
   "source": [
    "#### Scrape a certain number of tweets of a given Twitter account."
   ]
  },
  {
   "cell_type": "code",
   "execution_count": null,
   "metadata": {},
   "outputs": [],
   "source": [
    "# This is the url you will scrape in this exercise \n",
    "# You will need to add the account credentials to this url\n",
    "url = 'https://twitter.com/'"
   ]
  },
  {
   "cell_type": "code",
   "execution_count": null,
   "metadata": {},
   "outputs": [],
   "source": [
    "# your code"
   ]
  },
  {
   "attachments": {},
   "cell_type": "markdown",
   "metadata": {},
   "source": [
    "#### IMDB's Top 250 data (movie name, Initial release, director name and stars) as a pandas dataframe"
   ]
  },
  {
   "cell_type": "code",
   "execution_count": null,
   "metadata": {},
   "outputs": [],
   "source": [
    "# This is the url you will scrape in this exercise \n",
    "url = 'https://www.imdb.com/chart/top'"
   ]
  },
  {
   "cell_type": "code",
   "execution_count": null,
   "metadata": {},
   "outputs": [],
   "source": [
    "# your code"
   ]
  },
  {
   "attachments": {},
   "cell_type": "markdown",
   "metadata": {},
   "source": [
    "#### Movie name, year and a brief summary of the top 10 random movies (IMDB) as a pandas dataframe."
   ]
  },
  {
   "cell_type": "code",
   "execution_count": null,
   "metadata": {},
   "outputs": [],
   "source": [
    "#This is the url you will scrape in this exercise\n",
    "url = 'http://www.imdb.com/chart/top'"
   ]
  },
  {
   "cell_type": "code",
   "execution_count": null,
   "metadata": {},
   "outputs": [],
   "source": [
    "#your code"
   ]
  },
  {
   "attachments": {},
   "cell_type": "markdown",
   "metadata": {},
   "source": [
    "#### Find the live weather report (temperature, wind speed, description and weather) of a given city."
   ]
  },
  {
   "cell_type": "code",
   "execution_count": null,
   "metadata": {},
   "outputs": [],
   "source": [
    "#https://openweathermap.org/current\n",
    "city = city=input('Enter the city:')\n",
    "url = 'http://api.openweathermap.org/data/2.5/weather?'+'q='+city+'&APPID=b35975e18dc93725acb092f7272cc6b8&units=metric'"
   ]
  },
  {
   "cell_type": "code",
   "execution_count": null,
   "metadata": {},
   "outputs": [],
   "source": [
    "# your code"
   ]
  },
  {
   "attachments": {},
   "cell_type": "markdown",
   "metadata": {},
   "source": [
    "#### Book name,price and stock availability as a pandas dataframe."
   ]
  },
  {
   "cell_type": "code",
   "execution_count": null,
   "metadata": {},
   "outputs": [],
   "source": [
    "# This is the url you will scrape in this exercise. \n",
    "# It is a fictional bookstore created to be scraped. \n",
    "url = 'http://books.toscrape.com/'"
   ]
  },
  {
   "cell_type": "code",
   "execution_count": null,
   "metadata": {},
   "outputs": [],
   "source": [
    "#your code"
   ]
  }
 ],
 "metadata": {
  "kernelspec": {
   "display_name": "Python 3",
   "language": "python",
   "name": "python3"
  },
  "language_info": {
   "codemirror_mode": {
    "name": "ipython",
    "version": 3
   },
   "file_extension": ".py",
   "mimetype": "text/x-python",
   "name": "python",
   "nbconvert_exporter": "python",
   "pygments_lexer": "ipython3",
   "version": "3.11.3"
  }
 },
 "nbformat": 4,
 "nbformat_minor": 2
}
