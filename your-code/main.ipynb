{
 "cells": [
  {
   "cell_type": "markdown",
   "metadata": {},
   "source": [
    "# Web Scraping Lab\n",
    "\n",
    "You will find in this notebook some scrapy exercises to practise your scraping skills.\n",
    "\n",
    "**Tips:**\n",
    "\n",
    "- Check the response status code for each request to ensure you have obtained the intended contennt.\n",
    "- Print the response text in each request to understand the kind of info you are getting and its format.\n",
    "- Check for patterns in the response text to extract the data/info requested in each question.\n",
    "- Visit each url and take a look at its source through Chrome DevTools. You'll need to identify the html tags, special class names etc. used for the html content you are expected to extract."
   ]
  },
  {
   "cell_type": "markdown",
   "metadata": {},
   "source": [
    "- [Requests library](http://docs.python-requests.org/en/master/#the-user-guide) documentation \n",
    "- [Beautiful Soup Doc](https://www.crummy.com/software/BeautifulSoup/bs4/doc/)\n",
    "- [Urllib](https://docs.python.org/3/library/urllib.html#module-urllib)\n",
    "- [re lib](https://docs.python.org/3/library/re.html)\n",
    "- [lxml lib](https://lxml.de/)\n",
    "- [Scrapy](https://scrapy.org/)\n",
    "- [List of HTTP status codes](https://en.wikipedia.org/wiki/List_of_HTTP_status_codes)\n",
    "- [HTML basics](http://www.simplehtmlguide.com/cheatsheet.php)\n",
    "- [CSS basics](https://www.cssbasics.com/#page_start)"
   ]
  },
  {
   "cell_type": "markdown",
   "metadata": {},
   "source": [
    "#### Below are the libraries and modules you may need. `requests`,  `BeautifulSoup` and `pandas` are imported for you. If you prefer to use additional libraries feel free to uncomment them."
   ]
  },
  {
   "cell_type": "code",
   "execution_count": 3,
   "metadata": {},
   "outputs": [
    {
     "name": "stdout",
     "output_type": "stream",
     "text": [
      "Requirement already satisfied: bs4 in c:\\users\\usuario\\appdata\\local\\programs\\python\\python311\\lib\\site-packages (0.0.1)\n",
      "Requirement already satisfied: beautifulsoup4 in c:\\users\\usuario\\appdata\\local\\programs\\python\\python311\\lib\\site-packages (from bs4) (4.12.2)\n",
      "Requirement already satisfied: soupsieve>1.2 in c:\\users\\usuario\\appdata\\local\\programs\\python\\python311\\lib\\site-packages (from beautifulsoup4->bs4) (2.4.1)\n",
      "Note: you may need to restart the kernel to use updated packages.\n"
     ]
    },
    {
     "name": "stderr",
     "output_type": "stream",
     "text": [
      "\n",
      "[notice] A new release of pip available: 22.3.1 -> 23.1.2\n",
      "[notice] To update, run: python.exe -m pip install --upgrade pip\n"
     ]
    },
    {
     "name": "stdout",
     "output_type": "stream",
     "text": [
      "Requirement already satisfied: lxml in c:\\users\\usuario\\appdata\\local\\programs\\python\\python311\\lib\\site-packages (4.9.2)\n",
      "Note: you may need to restart the kernel to use updated packages.\n"
     ]
    },
    {
     "name": "stderr",
     "output_type": "stream",
     "text": [
      "\n",
      "[notice] A new release of pip available: 22.3.1 -> 23.1.2\n",
      "[notice] To update, run: python.exe -m pip install --upgrade pip\n"
     ]
    },
    {
     "name": "stdout",
     "output_type": "stream",
     "text": [
      "Collecting lxml==4.6.3\n",
      "  Using cached lxml-4.6.3.tar.gz (3.2 MB)\n",
      "  Preparing metadata (setup.py): started\n",
      "  Preparing metadata (setup.py): finished with status 'done'\n",
      "Installing collected packages: lxml\n",
      "  Attempting uninstall: lxml\n",
      "    Found existing installation: lxml 4.9.2\n",
      "    Uninstalling lxml-4.9.2:\n",
      "      Successfully uninstalled lxml-4.9.2\n",
      "  Running setup.py install for lxml: started\n",
      "  Running setup.py install for lxml: finished with status 'error'\n",
      "  Rolling back uninstall of lxml\n",
      "  Moving to c:\\users\\usuario\\appdata\\local\\programs\\python\\python311\\lib\\site-packages\\lxml-4.9.2.dist-info\\\n",
      "   from C:\\Users\\usuario\\AppData\\Local\\Programs\\Python\\Python311\\Lib\\site-packages\\~xml-4.9.2.dist-info\n",
      "  Moving to c:\\users\\usuario\\appdata\\local\\programs\\python\\python311\\lib\\site-packages\\lxml\\\n",
      "   from C:\\Users\\usuario\\AppData\\Local\\Programs\\Python\\Python311\\Lib\\site-packages\\~xml\n",
      "Note: you may need to restart the kernel to use updated packages.\n"
     ]
    },
    {
     "name": "stderr",
     "output_type": "stream",
     "text": [
      "  DEPRECATION: lxml is being installed using the legacy 'setup.py install' method, because it does not have a 'pyproject.toml' and the 'wheel' package is not installed. pip 23.1 will enforce this behaviour change. A possible replacement is to enable the '--use-pep517' option. Discussion can be found at https://github.com/pypa/pip/issues/8559\n",
      "  error: subprocess-exited-with-error\n",
      "  \n",
      "  × Running setup.py install for lxml did not run successfully.\n",
      "  │ exit code: 1\n",
      "  ╰─> [76 lines of output]\n",
      "      Building lxml version 4.6.3.\n",
      "      Building without Cython.\n",
      "      Building against pre-built libxml2 andl libxslt libraries\n",
      "      running install\n",
      "      c:\\Users\\usuario\\AppData\\Local\\Programs\\Python\\Python311\\Lib\\site-packages\\setuptools\\command\\install.py:34: SetuptoolsDeprecationWarning: setup.py install is deprecated. Use build and pip and other standards-based tools.\n",
      "        warnings.warn(\n",
      "      running build\n",
      "      running build_py\n",
      "      creating build\n",
      "      creating build\\lib.win-amd64-cpython-311\n",
      "      creating build\\lib.win-amd64-cpython-311\\lxml\n",
      "      copying src\\lxml\\builder.py -> build\\lib.win-amd64-cpython-311\\lxml\n",
      "      copying src\\lxml\\cssselect.py -> build\\lib.win-amd64-cpython-311\\lxml\n",
      "      copying src\\lxml\\doctestcompare.py -> build\\lib.win-amd64-cpython-311\\lxml\n",
      "      copying src\\lxml\\ElementInclude.py -> build\\lib.win-amd64-cpython-311\\lxml\n",
      "      copying src\\lxml\\pyclasslookup.py -> build\\lib.win-amd64-cpython-311\\lxml\n",
      "      copying src\\lxml\\sax.py -> build\\lib.win-amd64-cpython-311\\lxml\n",
      "      copying src\\lxml\\usedoctest.py -> build\\lib.win-amd64-cpython-311\\lxml\n",
      "      copying src\\lxml\\_elementpath.py -> build\\lib.win-amd64-cpython-311\\lxml\n",
      "      copying src\\lxml\\__init__.py -> build\\lib.win-amd64-cpython-311\\lxml\n",
      "      creating build\\lib.win-amd64-cpython-311\\lxml\\includes\n",
      "      copying src\\lxml\\includes\\__init__.py -> build\\lib.win-amd64-cpython-311\\lxml\\includes\n",
      "      creating build\\lib.win-amd64-cpython-311\\lxml\\html\n",
      "      copying src\\lxml\\html\\builder.py -> build\\lib.win-amd64-cpython-311\\lxml\\html\n",
      "      copying src\\lxml\\html\\clean.py -> build\\lib.win-amd64-cpython-311\\lxml\\html\n",
      "      copying src\\lxml\\html\\defs.py -> build\\lib.win-amd64-cpython-311\\lxml\\html\n",
      "      copying src\\lxml\\html\\diff.py -> build\\lib.win-amd64-cpython-311\\lxml\\html\n",
      "      copying src\\lxml\\html\\ElementSoup.py -> build\\lib.win-amd64-cpython-311\\lxml\\html\n",
      "      copying src\\lxml\\html\\formfill.py -> build\\lib.win-amd64-cpython-311\\lxml\\html\n",
      "      copying src\\lxml\\html\\html5parser.py -> build\\lib.win-amd64-cpython-311\\lxml\\html\n",
      "      copying src\\lxml\\html\\soupparser.py -> build\\lib.win-amd64-cpython-311\\lxml\\html\n",
      "      copying src\\lxml\\html\\usedoctest.py -> build\\lib.win-amd64-cpython-311\\lxml\\html\n",
      "      copying src\\lxml\\html\\_diffcommand.py -> build\\lib.win-amd64-cpython-311\\lxml\\html\n",
      "      copying src\\lxml\\html\\_html5builder.py -> build\\lib.win-amd64-cpython-311\\lxml\\html\n",
      "      copying src\\lxml\\html\\_setmixin.py -> build\\lib.win-amd64-cpython-311\\lxml\\html\n",
      "      copying src\\lxml\\html\\__init__.py -> build\\lib.win-amd64-cpython-311\\lxml\\html\n",
      "      creating build\\lib.win-amd64-cpython-311\\lxml\\isoschematron\n",
      "      copying src\\lxml\\isoschematron\\__init__.py -> build\\lib.win-amd64-cpython-311\\lxml\\isoschematron\n",
      "      copying src\\lxml\\etree.h -> build\\lib.win-amd64-cpython-311\\lxml\n",
      "      copying src\\lxml\\etree_api.h -> build\\lib.win-amd64-cpython-311\\lxml\n",
      "      copying src\\lxml\\lxml.etree.h -> build\\lib.win-amd64-cpython-311\\lxml\n",
      "      copying src\\lxml\\lxml.etree_api.h -> build\\lib.win-amd64-cpython-311\\lxml\n",
      "      copying src\\lxml\\includes\\c14n.pxd -> build\\lib.win-amd64-cpython-311\\lxml\\includes\n",
      "      copying src\\lxml\\includes\\config.pxd -> build\\lib.win-amd64-cpython-311\\lxml\\includes\n",
      "      copying src\\lxml\\includes\\dtdvalid.pxd -> build\\lib.win-amd64-cpython-311\\lxml\\includes\n",
      "      copying src\\lxml\\includes\\etreepublic.pxd -> build\\lib.win-amd64-cpython-311\\lxml\\includes\n",
      "      copying src\\lxml\\includes\\htmlparser.pxd -> build\\lib.win-amd64-cpython-311\\lxml\\includes\n",
      "      copying src\\lxml\\includes\\relaxng.pxd -> build\\lib.win-amd64-cpython-311\\lxml\\includes\n",
      "      copying src\\lxml\\includes\\schematron.pxd -> build\\lib.win-amd64-cpython-311\\lxml\\includes\n",
      "      copying src\\lxml\\includes\\tree.pxd -> build\\lib.win-amd64-cpython-311\\lxml\\includes\n",
      "      copying src\\lxml\\includes\\uri.pxd -> build\\lib.win-amd64-cpython-311\\lxml\\includes\n",
      "      copying src\\lxml\\includes\\xinclude.pxd -> build\\lib.win-amd64-cpython-311\\lxml\\includes\n",
      "      copying src\\lxml\\includes\\xmlerror.pxd -> build\\lib.win-amd64-cpython-311\\lxml\\includes\n",
      "      copying src\\lxml\\includes\\xmlparser.pxd -> build\\lib.win-amd64-cpython-311\\lxml\\includes\n",
      "      copying src\\lxml\\includes\\xmlschema.pxd -> build\\lib.win-amd64-cpython-311\\lxml\\includes\n",
      "      copying src\\lxml\\includes\\xpath.pxd -> build\\lib.win-amd64-cpython-311\\lxml\\includes\n",
      "      copying src\\lxml\\includes\\xslt.pxd -> build\\lib.win-amd64-cpython-311\\lxml\\includes\n",
      "      copying src\\lxml\\includes\\__init__.pxd -> build\\lib.win-amd64-cpython-311\\lxml\\includes\n",
      "      copying src\\lxml\\includes\\etree_defs.h -> build\\lib.win-amd64-cpython-311\\lxml\\includes\n",
      "      copying src\\lxml\\includes\\lxml-version.h -> build\\lib.win-amd64-cpython-311\\lxml\\includes\n",
      "      creating build\\lib.win-amd64-cpython-311\\lxml\\isoschematron\\resources\n",
      "      creating build\\lib.win-amd64-cpython-311\\lxml\\isoschematron\\resources\\rng\n",
      "      copying src\\lxml\\isoschematron\\resources\\rng\\iso-schematron.rng -> build\\lib.win-amd64-cpython-311\\lxml\\isoschematron\\resources\\rng\n",
      "      creating build\\lib.win-amd64-cpython-311\\lxml\\isoschematron\\resources\\xsl\n",
      "      copying src\\lxml\\isoschematron\\resources\\xsl\\RNG2Schtrn.xsl -> build\\lib.win-amd64-cpython-311\\lxml\\isoschematron\\resources\\xsl\n",
      "      copying src\\lxml\\isoschematron\\resources\\xsl\\XSD2Schtrn.xsl -> build\\lib.win-amd64-cpython-311\\lxml\\isoschematron\\resources\\xsl\n",
      "      creating build\\lib.win-amd64-cpython-311\\lxml\\isoschematron\\resources\\xsl\\iso-schematron-xslt1\n",
      "      copying src\\lxml\\isoschematron\\resources\\xsl\\iso-schematron-xslt1\\iso_abstract_expand.xsl -> build\\lib.win-amd64-cpython-311\\lxml\\isoschematron\\resources\\xsl\\iso-schematron-xslt1\n",
      "      copying src\\lxml\\isoschematron\\resources\\xsl\\iso-schematron-xslt1\\iso_dsdl_include.xsl -> build\\lib.win-amd64-cpython-311\\lxml\\isoschematron\\resources\\xsl\\iso-schematron-xslt1\n",
      "      copying src\\lxml\\isoschematron\\resources\\xsl\\iso-schematron-xslt1\\iso_schematron_message.xsl -> build\\lib.win-amd64-cpython-311\\lxml\\isoschematron\\resources\\xsl\\iso-schematron-xslt1\n",
      "      copying src\\lxml\\isoschematron\\resources\\xsl\\iso-schematron-xslt1\\iso_schematron_skeleton_for_xslt1.xsl -> build\\lib.win-amd64-cpython-311\\lxml\\isoschematron\\resources\\xsl\\iso-schematron-xslt1\n",
      "      copying src\\lxml\\isoschematron\\resources\\xsl\\iso-schematron-xslt1\\iso_svrl_for_xslt1.xsl -> build\\lib.win-amd64-cpython-311\\lxml\\isoschematron\\resources\\xsl\\iso-schematron-xslt1\n",
      "      copying src\\lxml\\isoschematron\\resources\\xsl\\iso-schematron-xslt1\\readme.txt -> build\\lib.win-amd64-cpython-311\\lxml\\isoschematron\\resources\\xsl\\iso-schematron-xslt1\n",
      "      running build_ext\n",
      "      building 'lxml.etree' extension\n",
      "      error: Microsoft Visual C++ 14.0 or greater is required. Get it with \"Microsoft C++ Build Tools\": https://visualstudio.microsoft.com/visual-cpp-build-tools/\n",
      "      [end of output]\n",
      "  \n",
      "  note: This error originates from a subprocess, and is likely not a problem with pip.\n",
      "error: legacy-install-failure\n",
      "\n",
      "× Encountered error while trying to install package.\n",
      "╰─> lxml\n",
      "\n",
      "note: This is an issue with the package mentioned above, not pip.\n",
      "hint: See above for output from the failure.\n",
      "\n",
      "[notice] A new release of pip available: 22.3.1 -> 23.1.2\n",
      "[notice] To update, run: python.exe -m pip install --upgrade pip\n"
     ]
    },
    {
     "name": "stdout",
     "output_type": "stream",
     "text": [
      "Note: you may need to restart the kernel to use updated packages.\n"
     ]
    },
    {
     "name": "stderr",
     "output_type": "stream",
     "text": [
      "ERROR: Could not find a version that satisfies the requirement lxml.html (from versions: none)\n",
      "ERROR: No matching distribution found for lxml.html\n",
      "\n",
      "[notice] A new release of pip available: 22.3.1 -> 23.1.2\n",
      "[notice] To update, run: python.exe -m pip install --upgrade pip\n"
     ]
    }
   ],
   "source": [
    "%pip install bs4\n",
    "%pip install lxml\n",
    "%pip install lxml==4.6.3\n",
    "%pip install lxml.html"
   ]
  },
  {
   "cell_type": "code",
   "execution_count": 4,
   "metadata": {},
   "outputs": [],
   "source": [
    "import requests as req\n",
    "from bs4 import BeautifulSoup as bs\n",
    "import pandas as pd\n",
    "# from pprint import pprint\n",
    "from lxml import html\n",
    "from lxml.html import fromstring\n",
    "# import urllib.request\n",
    "# from urllib.request import urlopen\n",
    "# import random\n",
    "import re\n",
    "# import scrapy"
   ]
  },
  {
   "cell_type": "markdown",
   "metadata": {},
   "source": [
    "#### Download, parse (using BeautifulSoup), and print the content from the Trending Developers page from GitHub:"
   ]
  },
  {
   "cell_type": "code",
   "execution_count": 5,
   "metadata": {},
   "outputs": [],
   "source": [
    "# This is the url you will scrape in this exercise\n",
    "url = 'https://github.com/trending/developers'"
   ]
  },
  {
   "cell_type": "code",
   "execution_count": 6,
   "metadata": {},
   "outputs": [
    {
     "name": "stdout",
     "output_type": "stream",
     "text": [
      "<!DOCTYPE html>\n",
      "<html data-a11y-animated-images=\"system\" data-color-mode=\"auto\" data-dark-theme=\"dark\" data-light-theme=\"light\" lang=\"en\">\n",
      " <head>\n",
      "  <meta charset=\"utf-8\"/>\n",
      "  <link href=\"https://github.githubassets.com\" rel=\"dns-prefetch\"/>\n",
      "  <link href=\"https://avatars.githubusercontent.com\" rel=\"dns-prefetch\"/>\n",
      "  <link href=\"https://github-cloud.s3.amazonaws.com\" rel=\"dns-prefetch\"/>\n",
      "  <link href=\"https://user-images.githubusercontent.com/\" rel=\"dns-prefetch\"/>\n",
      "  <link crossorigin=\"\" href=\"https://github.githubassets.com\" rel=\"preconnect\"/>\n",
      "  <link href=\"https://avatars.githubusercontent.com\" rel=\"preconnect\"/>\n",
      "  <link crossorigin=\"anonymous\" href=\"https://github.githubassets.com/assets/light-0946cdc16f15.css\" media=\"all\" rel=\"stylesheet\">\n",
      "   <link crossorigin=\"anonymous\" href=\"https://github.githubassets.com/assets/dark-3946c959759a.css\" media=\"all\" rel=\"stylesheet\">\n",
      "    <link crossorigin=\"anonymous\" data-color-theme=\"dark_dimmed\" data-href=\"https://github.githubassets.com/assets/da\n"
     ]
    }
   ],
   "source": [
    "html = req.get(url).content\n",
    "\n",
    "soup = bs(html, 'html.parser')\n",
    "\n",
    "print(soup.prettify()[:1000])  # imprime solo los primeros 1000 caracteres de la cadena formateada"
   ]
  },
  {
   "cell_type": "markdown",
   "metadata": {},
   "source": [
    "#### Display the names of the trending developers retrieved in the previous step.\n",
    "\n",
    "Your output should be a Python list of developer names. Each name should not contain any html tag.\n",
    "\n",
    "**Instructions:**\n",
    "\n",
    "1. Find out the html tag and class names used for the developer names. You can achieve this using Chrome DevTools.\n",
    "\n",
    "1. Use BeautifulSoup to extract all the html elements that contain the developer names.\n",
    "\n",
    "1. Use string manipulation techniques to replace whitespaces and linebreaks (i.e. `\\n`) in the *text* of each html element. Use a list to store the clean names.\n",
    "\n",
    "1. Print the list of names.\n",
    "\n",
    "Your output should look like below:\n",
    "\n",
    "```\n",
    "['trimstray (@trimstray)',\n",
    " 'joewalnes (JoeWalnes)',\n",
    " 'charlax (Charles-AxelDein)',\n",
    " 'ForrestKnight (ForrestKnight)',\n",
    " 'revery-ui (revery-ui)',\n",
    " 'alibaba (Alibaba)',\n",
    " 'Microsoft (Microsoft)',\n",
    " 'github (GitHub)',\n",
    " 'facebook (Facebook)',\n",
    " 'boazsegev (Bo)',\n",
    " 'google (Google)',\n",
    " 'cloudfetch',\n",
    " 'sindresorhus (SindreSorhus)',\n",
    " 'tensorflow',\n",
    " 'apache (TheApacheSoftwareFoundation)',\n",
    " 'DevonCrawford (DevonCrawford)',\n",
    " 'ARMmbed (ArmMbed)',\n",
    " 'vuejs (vuejs)',\n",
    " 'fastai (fast.ai)',\n",
    " 'QiShaoXuan (Qi)',\n",
    " 'joelparkerhenderson (JoelParkerHenderson)',\n",
    " 'torvalds (LinusTorvalds)',\n",
    " 'CyC2018',\n",
    " 'komeiji-satori (神楽坂覚々)',\n",
    " 'script-8']\n",
    " ```"
   ]
  },
  {
   "cell_type": "code",
   "execution_count": 7,
   "metadata": {},
   "outputs": [
    {
     "data": {
      "text/plain": [
       "['\\n            Mattias Wadman\\n',\n",
       " '\\n            lllyasviel\\n',\n",
       " '\\n            Lianmin Zheng\\n',\n",
       " '\\n            Jerry Liu\\n',\n",
       " '\\n            Henrik Rydgård\\n',\n",
       " '\\n            Harrison Chase\\n',\n",
       " '\\n            Fons van der Plas\\n',\n",
       " '\\n            Steven Tey\\n',\n",
       " '\\n            Andreas Thomas\\n',\n",
       " '\\n            pilcrowOnPaper\\n',\n",
       " '\\n            Laurent Mazare\\n',\n",
       " '\\n            yetone\\n',\n",
       " '\\n            Tom Payne\\n',\n",
       " '\\n            Raphaël Benitte\\n',\n",
       " '\\n            Dillon Nys\\n',\n",
       " '\\n            Will McGugan\\n',\n",
       " '\\n            Luca Palmieri\\n',\n",
       " '\\n            Payton Swick\\n',\n",
       " '\\n            Martí Climent\\n',\n",
       " '\\n            dgtlmoon\\n',\n",
       " '\\n            Jelle Zijlstra\\n',\n",
       " '\\n            J. Nick Koston\\n',\n",
       " '\\n            Nuno Campos\\n',\n",
       " '\\n            Juliette\\n',\n",
       " '\\n            Lee Robinson\\n']"
      ]
     },
     "execution_count": 7,
     "metadata": {},
     "output_type": "execute_result"
    }
   ],
   "source": [
    "tags = ['h1', {'class' : 'h3 lh-condensed'}]\n",
    "text = [element.find('a').text for element in soup.find_all(*tags)]\n",
    "text"
   ]
  },
  {
   "cell_type": "code",
   "execution_count": 8,
   "metadata": {},
   "outputs": [
    {
     "name": "stdout",
     "output_type": "stream",
     "text": [
      "['MattiasWadman', 'lllyasviel', 'LianminZheng', 'JerryLiu', 'HenrikRydgård', 'HarrisonChase', 'FonsvanderPlas', 'StevenTey', 'AndreasThomas', 'pilcrowOnPaper', 'LaurentMazare', 'yetone', 'TomPayne', 'RaphaëlBenitte', 'DillonNys', 'WillMcGugan', 'LucaPalmieri', 'PaytonSwick', 'MartíCliment', 'dgtlmoon', 'JelleZijlstra', 'J.NickKoston', 'NunoCampos', 'Juliette', 'LeeRobinson']\n"
     ]
    }
   ],
   "source": [
    "clean = [re.sub(r'\\s+', '', t) for t in text]\n",
    "print(clean)"
   ]
  },
  {
   "cell_type": "markdown",
   "metadata": {},
   "source": [
    "#### Display the trending Python repositories in GitHub\n",
    "\n",
    "The steps to solve this problem is similar to the previous one except that you need to find out the repository names instead of developer names."
   ]
  },
  {
   "cell_type": "code",
   "execution_count": 9,
   "metadata": {},
   "outputs": [],
   "source": [
    "# This is the url you will scrape in this exercise\n",
    "url = 'https://github.com/trending/python?since=daily'"
   ]
  },
  {
   "cell_type": "code",
   "execution_count": 10,
   "metadata": {},
   "outputs": [
    {
     "name": "stdout",
     "output_type": "stream",
     "text": [
      "<!DOCTYPE html>\n",
      "<html data-a11y-animated-images=\"system\" data-color-mode=\"auto\" data-dark-theme=\"dark\" data-light-theme=\"light\" lang=\"en\">\n",
      " <head>\n",
      "  <meta charset=\"utf-8\"/>\n",
      "  <link href=\"https://github.githubassets.com\" rel=\"dns-prefetch\"/>\n",
      "  <link href=\"https://avatars.githubusercontent.com\" rel=\"dns-prefetch\"/>\n",
      "  <link href=\"https://github-cloud.s3.amazonaws.com\" rel=\"dns-prefetch\"/>\n",
      "  <link href=\"https://user-images.githubusercontent.com/\" rel=\"dns-prefetch\"/>\n",
      "  <link crossorigin=\"\" href=\"https://github.githubassets.com\" rel=\"preconnect\"/>\n",
      "  <link href=\"https://avatars.githubusercontent.com\" rel=\"preconnect\"/>\n",
      "  <link crossorigin=\"anonymous\" href=\"https://github.githubassets.com/assets/light-0946cdc16f15.css\" media=\"all\" rel=\"stylesheet\">\n",
      "   <link crossorigin=\"anonymous\" href=\"https://github.githubassets.com/assets/dark-3946c959759a.css\" media=\"all\" rel=\"stylesheet\">\n",
      "    <link crossorigin=\"anonymous\" data-color-theme=\"dark_dimmed\" data-href=\"https://github.githubassets.com/assets/da\n"
     ]
    }
   ],
   "source": [
    "html = req.get(url).content\n",
    "\n",
    "soup = bs(html, 'html.parser')\n",
    "\n",
    "print(soup.prettify()[:1000])  # imprime solo los primeros 1000 caracteres de la cadena formateada"
   ]
  },
  {
   "cell_type": "code",
   "execution_count": 11,
   "metadata": {},
   "outputs": [
    {
     "data": {
      "text/plain": [
       "['\\n\\n\\n\\n\\n        mlc-ai /\\n\\n      mlc-llm\\n',\n",
       " '\\n\\n\\n\\n\\n        AIGC-Audio /\\n\\n      AudioGPT\\n',\n",
       " '\\n\\n\\n\\n\\n        gventuri /\\n\\n      pandas-ai\\n',\n",
       " '\\n\\n\\n\\n\\n        xtekky /\\n\\n      gpt4free\\n',\n",
       " '\\n\\n\\n\\n\\n        irgolic /\\n\\n      AutoPR\\n',\n",
       " '\\n\\n\\n\\n\\n        lamini-ai /\\n\\n      lamini\\n',\n",
       " '\\n\\n\\n\\n\\n        deep-floyd /\\n\\n      IF\\n',\n",
       " '\\n\\n\\n\\n\\n        deforum-art /\\n\\n      deforum-stable-diffusion\\n',\n",
       " '\\n\\n\\n\\n\\n        home-assistant /\\n\\n      core\\n',\n",
       " '\\n\\n\\n\\n\\n        cirediatpl /\\n\\n      FigmaChain\\n',\n",
       " '\\n\\n\\n\\n\\n        IntelligenzaArtificiale /\\n\\n      Free-AUTO-GPT-with-NO-API\\n',\n",
       " '\\n\\n\\n\\n\\n        mlc-ai /\\n\\n      web-llm\\n',\n",
       " '\\n\\n\\n\\n\\n        AUTOMATIC1111 /\\n\\n      stable-diffusion-webui\\n',\n",
       " '\\n\\n\\n\\n\\n        ddPn08 /\\n\\n      Radiata\\n',\n",
       " '\\n\\n\\n\\n\\n        deforum-art /\\n\\n      deforum-for-automatic1111-webui\\n',\n",
       " '\\n\\n\\n\\n\\n        ZrrSkywalker /\\n\\n      LLaMA-Adapter\\n',\n",
       " '\\n\\n\\n\\n\\n        yt-dlp /\\n\\n      yt-dlp\\n',\n",
       " '\\n\\n\\n\\n\\n        nlpxucan /\\n\\n      WizardLM\\n',\n",
       " '\\n\\n\\n\\n\\n        GitHubDaily /\\n\\n      ChatGPT-Prompt-Engineering-for-Developers-in-Chinese\\n',\n",
       " '\\n\\n\\n\\n\\n        georgia-tech-db /\\n\\n      eva\\n',\n",
       " '\\n\\n\\n\\n\\n        xtekky /\\n\\n      chatgpt-clone\\n',\n",
       " '\\n\\n\\n\\n\\n        mahdibland /\\n\\n      V2RayAggregator\\n',\n",
       " '\\n\\n\\n\\n\\n        KurtBestor /\\n\\n      Hitomi-Downloader\\n',\n",
       " '\\n\\n\\n\\n\\n        jaywalnut310 /\\n\\n      vits\\n',\n",
       " '\\n\\n\\n\\n\\n        isaiahbjork /\\n\\n      Auto-GPT-Crypto-Plugin\\n']"
      ]
     },
     "execution_count": 11,
     "metadata": {},
     "output_type": "execute_result"
    }
   ],
   "source": [
    "tags = ['h2', {'class' : 'h3 lh-condensed'}]\n",
    "text = [element.find('a').text for element in soup.find_all(*tags)]\n",
    "text"
   ]
  },
  {
   "cell_type": "code",
   "execution_count": 12,
   "metadata": {},
   "outputs": [
    {
     "name": "stdout",
     "output_type": "stream",
     "text": [
      "['mlc-ai/mlc-llm', 'AIGC-Audio/AudioGPT', 'gventuri/pandas-ai', 'xtekky/gpt4free', 'irgolic/AutoPR', 'lamini-ai/lamini', 'deep-floyd/IF', 'deforum-art/deforum-stable-diffusion', 'home-assistant/core', 'cirediatpl/FigmaChain', 'IntelligenzaArtificiale/Free-AUTO-GPT-with-NO-API', 'mlc-ai/web-llm', 'AUTOMATIC1111/stable-diffusion-webui', 'ddPn08/Radiata', 'deforum-art/deforum-for-automatic1111-webui', 'ZrrSkywalker/LLaMA-Adapter', 'yt-dlp/yt-dlp', 'nlpxucan/WizardLM', 'GitHubDaily/ChatGPT-Prompt-Engineering-for-Developers-in-Chinese', 'georgia-tech-db/eva', 'xtekky/chatgpt-clone', 'mahdibland/V2RayAggregator', 'KurtBestor/Hitomi-Downloader', 'jaywalnut310/vits', 'isaiahbjork/Auto-GPT-Crypto-Plugin']\n"
     ]
    }
   ],
   "source": [
    "clean = [re.sub(r'\\s+', '', t) for t in text]\n",
    "print(clean)"
   ]
  },
  {
   "cell_type": "code",
   "execution_count": 13,
   "metadata": {},
   "outputs": [
    {
     "name": "stdout",
     "output_type": "stream",
     "text": [
      "['mlc-llm', 'AudioGPT', 'pandas-ai', 'gpt4free', 'AutoPR', 'lamini', 'IF', 'deforum-stable-diffusion', 'core', 'FigmaChain', 'Free-AUTO-GPT-with-NO-API', 'web-llm', 'stable-diffusion-webui', 'Radiata', 'deforum-for-automatic1111-webui', 'LLaMA-Adapter', 'yt-dlp', 'WizardLM', 'ChatGPT-Prompt-Engineering-for-Developers-in-Chinese', 'eva', 'chatgpt-clone', 'V2RayAggregator', 'Hitomi-Downloader', 'vits', 'Auto-GPT-Crypto-Plugin']\n"
     ]
    }
   ],
   "source": [
    "final = []\n",
    "\n",
    "for t in clean:\n",
    "    t = t.split('/')\n",
    "    final.append(t[-1])\n",
    "\n",
    "print(final)"
   ]
  },
  {
   "cell_type": "markdown",
   "metadata": {},
   "source": [
    "#### Display all the image links from Walt Disney wikipedia page"
   ]
  },
  {
   "cell_type": "code",
   "execution_count": 14,
   "metadata": {},
   "outputs": [],
   "source": [
    "# This is the url you will scrape in this exercise\n",
    "url = 'https://en.wikipedia.org/wiki/Walt_Disney'"
   ]
  },
  {
   "cell_type": "code",
   "execution_count": 15,
   "metadata": {},
   "outputs": [
    {
     "name": "stdout",
     "output_type": "stream",
     "text": [
      "<!DOCTYPE html>\n",
      "<html class=\"client-nojs vector-feature-language-in-header-enabled vector-feature-language-in-main-page-header-disabled vector-feature-language-alert-in-sidebar-enabled vector-feature-sticky-header-disabled vector-feature-page-tools-pinned-disabled vector-feature-toc-pinned-enabled vector-feature-main-menu-pinned-disabled vector-feature-limited-width-enabled vector-feature-limited-width-content-enabled vector-feature-zebra-design-disabled\" dir=\"ltr\" lang=\"en\">\n",
      " <head>\n",
      "  <meta charset=\"utf-8\"/>\n",
      "  <title>\n",
      "   Walt Disney - Wikipedia\n",
      "  </title>\n",
      "  <script>\n",
      "   document.documentElement.className=\"client-js vector-feature-language-in-header-enabled vector-feature-language-in-main-page-header-disabled vector-feature-language-alert-in-sidebar-enabled vector-feature-sticky-header-disabled vector-feature-page-tools-pinned-disabled vector-feature-toc-pinned-enabled vector-feature-main-menu-pinned-disabled vector-feature-limited-width-enabled vector-feature-limited-width-content-enab\n"
     ]
    }
   ],
   "source": [
    "html = req.get(url).content\n",
    "\n",
    "soup = bs(html, 'html.parser')\n",
    "\n",
    "print(soup.prettify()[:1000])  # imprime solo los primeros 1000 caracteres de la cadena formateada"
   ]
  },
  {
   "cell_type": "code",
   "execution_count": 16,
   "metadata": {},
   "outputs": [],
   "source": [
    "image = soup.find_all('img')\n",
    "#image"
   ]
  },
  {
   "cell_type": "code",
   "execution_count": 17,
   "metadata": {},
   "outputs": [
    {
     "name": "stdout",
     "output_type": "stream",
     "text": [
      "['/static/images/icons/wikipedia.png', '/static/images/mobile/copyright/wikipedia-wordmark-en.svg', '/static/images/mobile/copyright/wikipedia-tagline-en.svg', '//upload.wikimedia.org/wikipedia/en/thumb/e/e7/Cscr-featured.svg/20px-Cscr-featured.svg.png', '//upload.wikimedia.org/wikipedia/en/thumb/8/8c/Extended-protection-shackle.svg/20px-Extended-protection-shackle.svg.png', '//upload.wikimedia.org/wikipedia/commons/thumb/d/df/Walt_Disney_1946.JPG/220px-Walt_Disney_1946.JPG', '//upload.wikimedia.org/wikipedia/commons/thumb/8/87/Walt_Disney_1942_signature.svg/150px-Walt_Disney_1942_signature.svg.png', '//upload.wikimedia.org/wikipedia/commons/thumb/3/3a/Walt_Disney_Birthplace_Exterior_Hermosa_Chicago_Illinois.jpg/220px-Walt_Disney_Birthplace_Exterior_Hermosa_Chicago_Illinois.jpg', '//upload.wikimedia.org/wikipedia/commons/thumb/c/c4/Walt_Disney_envelope_ca._1921.jpg/220px-Walt_Disney_envelope_ca._1921.jpg', '//upload.wikimedia.org/wikipedia/commons/thumb/0/0d/Trolley_Troubles_poster.jpg/170px-Trolley_Troubles_poster.jpg', '//upload.wikimedia.org/wikipedia/en/thumb/4/4e/Steamboat-willie.jpg/170px-Steamboat-willie.jpg', '//upload.wikimedia.org/wikipedia/commons/thumb/5/57/Walt_Disney_1935.jpg/170px-Walt_Disney_1935.jpg', '//upload.wikimedia.org/wikipedia/commons/thumb/c/cd/Walt_Disney_Snow_white_1937_trailer_screenshot_%2813%29.jpg/220px-Walt_Disney_Snow_white_1937_trailer_screenshot_%2813%29.jpg', '//upload.wikimedia.org/wikipedia/commons/thumb/1/15/Disney_drawing_goofy.jpg/170px-Disney_drawing_goofy.jpg', '//upload.wikimedia.org/wikipedia/commons/thumb/8/8c/WaltDisneyplansDisneylandDec1954.jpg/220px-WaltDisneyplansDisneylandDec1954.jpg', '//upload.wikimedia.org/wikipedia/commons/thumb/f/ff/Walt_disney_portrait_right.jpg/170px-Walt_disney_portrait_right.jpg', '//upload.wikimedia.org/wikipedia/commons/thumb/1/1a/Walt_Disney_Grave.JPG/170px-Walt_Disney_Grave.JPG', '//upload.wikimedia.org/wikipedia/commons/thumb/2/2d/Roy_O._Disney_with_Company_at_Press_Conference.jpg/170px-Roy_O._Disney_with_Company_at_Press_Conference.jpg', '//upload.wikimedia.org/wikipedia/commons/thumb/1/13/DisneySchiphol1951.jpg/220px-DisneySchiphol1951.jpg', '//upload.wikimedia.org/wikipedia/commons/thumb/6/6c/Disney1968.jpg/170px-Disney1968.jpg', '//upload.wikimedia.org/wikipedia/commons/thumb/b/b0/Disney_Oscar_1953_%28cropped%29.jpg/170px-Disney_Oscar_1953_%28cropped%29.jpg', '//upload.wikimedia.org/wikipedia/en/thumb/4/4a/Commons-logo.svg/30px-Commons-logo.svg.png', '//upload.wikimedia.org/wikipedia/commons/thumb/4/4c/Wikisource-logo.svg/38px-Wikisource-logo.svg.png', '//upload.wikimedia.org/wikipedia/commons/thumb/f/fa/Wikiquote-logo.svg/34px-Wikiquote-logo.svg.png', '//upload.wikimedia.org/wikipedia/en/thumb/8/8a/OOjs_UI_icon_edit-ltr-progressive.svg/10px-OOjs_UI_icon_edit-ltr-progressive.svg.png', '//upload.wikimedia.org/wikipedia/en/thumb/8/8a/OOjs_UI_icon_edit-ltr-progressive.svg/10px-OOjs_UI_icon_edit-ltr-progressive.svg.png', '//upload.wikimedia.org/wikipedia/commons/thumb/e/e3/Disneyland_Resort_logo.svg/135px-Disneyland_Resort_logo.svg.png', '//upload.wikimedia.org/wikipedia/commons/thumb/d/da/Animation_disc.svg/20px-Animation_disc.svg.png', '//upload.wikimedia.org/wikipedia/en/thumb/6/69/P_vip.svg/19px-P_vip.svg.png', '//upload.wikimedia.org/wikipedia/commons/thumb/1/1a/Magic_Kingdom_castle.jpg/15px-Magic_Kingdom_castle.jpg', '//upload.wikimedia.org/wikipedia/en/thumb/e/e7/Video-x-generic.svg/19px-Video-x-generic.svg.png', '//upload.wikimedia.org/wikipedia/commons/thumb/a/a3/Flag_of_Los_Angeles_County%2C_California.svg/21px-Flag_of_Los_Angeles_County%2C_California.svg.png', '//upload.wikimedia.org/wikipedia/commons/thumb/8/8c/Blank_television_set.svg/21px-Blank_television_set.svg.png', '//upload.wikimedia.org/wikipedia/en/thumb/a/a4/Flag_of_the_United_States.svg/21px-Flag_of_the_United_States.svg.png', '//upload.wikimedia.org/wikipedia/en/thumb/4/4a/Commons-logo.svg/14px-Commons-logo.svg.png', '//upload.wikimedia.org/wikipedia/commons/thumb/f/fa/Wikiquote-logo.svg/16px-Wikiquote-logo.svg.png', '//upload.wikimedia.org/wikipedia/commons/thumb/4/4c/Wikisource-logo.svg/18px-Wikisource-logo.svg.png', '//upload.wikimedia.org/wikipedia/commons/thumb/f/ff/Wikidata-logo.svg/21px-Wikidata-logo.svg.png', '//upload.wikimedia.org/wikipedia/en/thumb/8/8a/OOjs_UI_icon_edit-ltr-progressive.svg/10px-OOjs_UI_icon_edit-ltr-progressive.svg.png', '//en.wikipedia.org/wiki/Special:CentralAutoLogin/start?type=1x1', '/static/images/footer/wikimedia-button.png', '/static/images/footer/poweredby_mediawiki_88x31.png']\n"
     ]
    }
   ],
   "source": [
    "sources = []\n",
    "\n",
    "for img in image:\n",
    "    src = img.get('src')\n",
    "    if src is not None:\n",
    "        sources.append(src)\n",
    "\n",
    "print(sources)"
   ]
  },
  {
   "cell_type": "markdown",
   "metadata": {},
   "source": [
    "#### Retrieve an arbitary Wikipedia page of \"Python\" and create a list of links on that page"
   ]
  },
  {
   "cell_type": "code",
   "execution_count": 18,
   "metadata": {},
   "outputs": [],
   "source": [
    "# This is the url you will scrape in this exercise\n",
    "url ='https://en.wikipedia.org/wiki/Python' "
   ]
  },
  {
   "cell_type": "code",
   "execution_count": 19,
   "metadata": {},
   "outputs": [],
   "source": [
    "html = req.get(url).content\n",
    "\n",
    "soup = bs(html, 'html.parser')\n",
    "\n",
    "link = soup.find_all('a')\n",
    "#link"
   ]
  },
  {
   "cell_type": "code",
   "execution_count": 20,
   "metadata": {},
   "outputs": [
    {
     "name": "stdout",
     "output_type": "stream",
     "text": [
      "['#bodyContent', '/wiki/Main_Page', '/wiki/Wikipedia:Contents', '/wiki/Portal:Current_events', '/wiki/Special:Random', '/wiki/Wikipedia:About', '//en.wikipedia.org/wiki/Wikipedia:Contact_us', 'https://donate.wikimedia.org/wiki/Special:FundraiserRedirector?utm_source=donate&utm_medium=sidebar&utm_campaign=C13_en.wikipedia.org&uselang=en', '/wiki/Help:Contents', '/wiki/Help:Introduction', '/wiki/Wikipedia:Community_portal', '/wiki/Special:RecentChanges', '/wiki/Wikipedia:File_upload_wizard', '/wiki/Main_Page', '/wiki/Special:Search', '/w/index.php?title=Special:CreateAccount&returnto=Python', '/w/index.php?title=Special:UserLogin&returnto=Python', '/w/index.php?title=Special:CreateAccount&returnto=Python', '/w/index.php?title=Special:UserLogin&returnto=Python', '/wiki/Help:Introduction', '/wiki/Special:MyContributions', '/wiki/Special:MyTalk', '#', '#Snakes', '#Computing', '#People', '#Roller_coasters', '#Vehicles', '#Weaponry', '#Other_uses', '#See_also', 'https://af.wikipedia.org/wiki/Python', 'https://als.wikipedia.org/wiki/Python', 'https://ar.wikipedia.org/wiki/%D8%A8%D8%A7%D9%8A%D8%AB%D9%88%D9%86_(%D8%AA%D9%88%D8%B6%D9%8A%D8%AD)', 'https://az.wikipedia.org/wiki/Python_(d%C9%99qiql%C9%99%C5%9Fdirm%C9%99)', 'https://bn.wikipedia.org/wiki/%E0%A6%AA%E0%A6%BE%E0%A6%87%E0%A6%A5%E0%A6%A8_(%E0%A6%A6%E0%A7%8D%E0%A6%AC%E0%A7%8D%E0%A6%AF%E0%A6%B0%E0%A7%8D%E0%A6%A5%E0%A6%A4%E0%A6%BE_%E0%A6%A8%E0%A6%BF%E0%A6%B0%E0%A6%B8%E0%A6%A8)', 'https://be.wikipedia.org/wiki/Python', 'https://bg.wikipedia.org/wiki/%D0%9F%D0%B8%D1%82%D0%BE%D0%BD_(%D0%BF%D0%BE%D1%8F%D1%81%D0%BD%D0%B5%D0%BD%D0%B8%D0%B5)', 'https://cs.wikipedia.org/wiki/Python_(rozcestn%C3%ADk)', 'https://da.wikipedia.org/wiki/Python', 'https://de.wikipedia.org/wiki/Python', 'https://eo.wikipedia.org/wiki/Pitono_(apartigilo)', 'https://eu.wikipedia.org/wiki/Python_(argipena)', 'https://fa.wikipedia.org/wiki/%D9%BE%D8%A7%DB%8C%D8%AA%D9%88%D9%86', 'https://fr.wikipedia.org/wiki/Python', 'https://ko.wikipedia.org/wiki/%ED%8C%8C%EC%9D%B4%EC%84%A0', 'https://hr.wikipedia.org/wiki/Python_(razdvojba)', 'https://io.wikipedia.org/wiki/Pitono', 'https://id.wikipedia.org/wiki/Python', 'https://ia.wikipedia.org/wiki/Python_(disambiguation)', 'https://is.wikipedia.org/wiki/Python_(a%C3%B0greining)', 'https://it.wikipedia.org/wiki/Python_(disambigua)', 'https://he.wikipedia.org/wiki/%D7%A4%D7%99%D7%AA%D7%95%D7%9F', 'https://ka.wikipedia.org/wiki/%E1%83%9E%E1%83%98%E1%83%97%E1%83%9D%E1%83%9C%E1%83%98_(%E1%83%9B%E1%83%A0%E1%83%90%E1%83%95%E1%83%90%E1%83%9A%E1%83%9B%E1%83%9C%E1%83%98%E1%83%A8%E1%83%95%E1%83%9C%E1%83%94%E1%83%9A%E1%83%9D%E1%83%95%E1%83%90%E1%83%9C%E1%83%98)', 'https://kg.wikipedia.org/wiki/Mboma_(nyoka)', 'https://la.wikipedia.org/wiki/Python_(discretiva)', 'https://lb.wikipedia.org/wiki/Python', 'https://hu.wikipedia.org/wiki/Python_(egy%C3%A9rtelm%C5%B1s%C3%ADt%C5%91_lap)', 'https://mr.wikipedia.org/wiki/%E0%A4%AA%E0%A4%BE%E0%A4%AF%E0%A4%A5%E0%A5%89%E0%A4%A8_(%E0%A4%86%E0%A4%9C%E0%A5%8D%E0%A4%9E%E0%A4%BE%E0%A4%B5%E0%A4%B2%E0%A5%80_%E0%A4%AD%E0%A4%BE%E0%A4%B7%E0%A4%BE)', 'https://nl.wikipedia.org/wiki/Python', 'https://ja.wikipedia.org/wiki/%E3%83%91%E3%82%A4%E3%82%BD%E3%83%B3', 'https://no.wikipedia.org/wiki/Pyton', 'https://pl.wikipedia.org/wiki/Pyton', 'https://pt.wikipedia.org/wiki/Python_(desambigua%C3%A7%C3%A3o)', 'https://ru.wikipedia.org/wiki/Python_(%D0%B7%D0%BD%D0%B0%D1%87%D0%B5%D0%BD%D0%B8%D1%8F)', 'https://sk.wikipedia.org/wiki/Python', 'https://sr.wikipedia.org/wiki/%D0%9F%D0%B8%D1%82%D0%BE%D0%BD_(%D0%B2%D0%B8%D1%88%D0%B5%D0%B7%D0%BD%D0%B0%D1%87%D0%BD%D0%B0_%D0%BE%D0%B4%D1%80%D0%B5%D0%B4%D0%BD%D0%B8%D1%86%D0%B0)', 'https://sh.wikipedia.org/wiki/Python', 'https://fi.wikipedia.org/wiki/Python', 'https://sv.wikipedia.org/wiki/Pyton', 'https://th.wikipedia.org/wiki/%E0%B9%84%E0%B8%9E%E0%B8%97%E0%B8%AD%E0%B8%99', 'https://tr.wikipedia.org/wiki/Python_(anlam_ayr%C4%B1m%C4%B1)', 'https://uk.wikipedia.org/wiki/%D0%9F%D1%96%D1%84%D0%BE%D0%BD', 'https://ur.wikipedia.org/wiki/%D9%BE%D8%A7%D8%A6%DB%8C%D8%AA%DA%BE%D9%88%D9%86', 'https://vi.wikipedia.org/wiki/Python', 'https://zh.wikipedia.org/wiki/Python_(%E6%B6%88%E6%AD%A7%E4%B9%89)', 'https://www.wikidata.org/wiki/Special:EntityPage/Q747452#sitelinks-wikipedia', '/wiki/Python', '/wiki/Talk:Python', '/wiki/Python', '/w/index.php?title=Python&action=edit', '/w/index.php?title=Python&action=history', '/wiki/Python', '/w/index.php?title=Python&action=edit', '/w/index.php?title=Python&action=history', '/wiki/Special:WhatLinksHere/Python', '/wiki/Special:RecentChangesLinked/Python', '/wiki/Wikipedia:File_Upload_Wizard', '/wiki/Special:SpecialPages', '/w/index.php?title=Python&oldid=1148531488', '/w/index.php?title=Python&action=info', '/w/index.php?title=Special:CiteThisPage&page=Python&id=1148531488&wpFormIdentifier=titleform', 'https://www.wikidata.org/wiki/Special:EntityPage/Q747452', '/w/index.php?title=Special:DownloadAsPdf&page=Python&action=show-download-screen', '/w/index.php?title=Python&printable=yes', 'https://commons.wikimedia.org/wiki/Category:Python', 'https://en.wiktionary.org/wiki/Python', 'https://en.wiktionary.org/wiki/python', '/w/index.php?title=Python&action=edit&section=1', '/wiki/Pythonidae', '/wiki/Python_(genus)', '/wiki/Python_(mythology)', '/w/index.php?title=Python&action=edit&section=2', '/wiki/Python_(programming_language)', '/wiki/CMU_Common_Lisp', '/wiki/PERQ#PERQ_3', '/w/index.php?title=Python&action=edit&section=3', '/wiki/Python_of_Aenus', '/wiki/Python_(painter)', '/wiki/Python_of_Byzantium', '/wiki/Python_of_Catana', '/wiki/Python_Anghelo', '/w/index.php?title=Python&action=edit&section=4', '/wiki/Python_(Efteling)', '/wiki/Python_(Busch_Gardens_Tampa_Bay)', '/wiki/Python_(Coney_Island,_Cincinnati,_Ohio)', '/w/index.php?title=Python&action=edit&section=5', '/wiki/Python_(automobile_maker)', '/wiki/Python_(Ford_prototype)', '/w/index.php?title=Python&action=edit&section=6', '/wiki/Python_(missile)', '/wiki/Python_(nuclear_primary)', '/wiki/Colt_Python', '/w/index.php?title=Python&action=edit&section=7', '/wiki/Python_(codename)', '/wiki/Python_(film)', '/wiki/Monty_Python', '/wiki/Python_(Monty)_Pictures', '/wiki/Timon_of_Phlius', '/w/index.php?title=Python&action=edit&section=8', '/wiki/Pyton', '/wiki/Pithon', '/wiki/File:Disambig_gray.svg', '/wiki/Help:Disambiguation', 'https://en.wikipedia.org/w/index.php?title=Special:WhatLinksHere/Python&namespace=0', 'https://en.wikipedia.org/w/index.php?title=Python&oldid=1148531488', '/wiki/Help:Category', '/wiki/Category:Disambiguation_pages', '/wiki/Category:Human_name_disambiguation_pages', '/wiki/Category:Disambiguation_pages_with_given-name-holder_lists', '/wiki/Category:Short_description_is_different_from_Wikidata', '/wiki/Category:All_article_disambiguation_pages', '/wiki/Category:All_disambiguation_pages', '/wiki/Category:Animal_common_name_disambiguation_pages', '//en.wikipedia.org/wiki/Wikipedia:Text_of_the_Creative_Commons_Attribution-ShareAlike_3.0_Unported_License', '//creativecommons.org/licenses/by-sa/3.0/', '//foundation.wikimedia.org/wiki/Terms_of_Use', '//foundation.wikimedia.org/wiki/Privacy_policy', '//www.wikimediafoundation.org/', 'https://foundation.wikimedia.org/wiki/Privacy_policy', '/wiki/Wikipedia:About', '/wiki/Wikipedia:General_disclaimer', '//en.wikipedia.org/wiki/Wikipedia:Contact_us', '//en.m.wikipedia.org/w/index.php?title=Python&mobileaction=toggle_view_mobile', 'https://developer.wikimedia.org', 'https://stats.wikimedia.org/#/en.wikipedia.org', 'https://foundation.wikimedia.org/wiki/Cookie_statement', 'https://wikimediafoundation.org/', 'https://www.mediawiki.org/']\n"
     ]
    }
   ],
   "source": [
    "sources = []\n",
    "\n",
    "for i in link:\n",
    "    href = i.get('href')\n",
    "    if href is not None:\n",
    "        sources.append(href)\n",
    "print(sources)"
   ]
  },
  {
   "cell_type": "markdown",
   "metadata": {},
   "source": [
    "#### Number of Titles that have changed in the United States Code since its last release point "
   ]
  },
  {
   "cell_type": "code",
   "execution_count": 21,
   "metadata": {},
   "outputs": [],
   "source": [
    "# This is the url you will scrape in this exercise\n",
    "url = 'http://uscode.house.gov/download/download.shtml'"
   ]
  },
  {
   "cell_type": "code",
   "execution_count": 22,
   "metadata": {},
   "outputs": [
    {
     "data": {
      "text/plain": [
       "37"
      ]
     },
     "execution_count": 22,
     "metadata": {},
     "output_type": "execute_result"
    }
   ],
   "source": [
    "html = req.get(url).content\n",
    "\n",
    "soup = bs(html, 'html.parser')\n",
    "\n",
    "titles = soup.find_all('div', {'class' : 'usctitlechanged'})\n",
    "\n",
    "len(titles)"
   ]
  },
  {
   "cell_type": "markdown",
   "metadata": {},
   "source": [
    "#### A Python list with the top ten FBI's Most Wanted names "
   ]
  },
  {
   "cell_type": "code",
   "execution_count": 23,
   "metadata": {},
   "outputs": [],
   "source": [
    "# This is the url you will scrape in this exercise\n",
    "url = 'https://www.fbi.gov/wanted/topten'"
   ]
  },
  {
   "cell_type": "code",
   "execution_count": 24,
   "metadata": {},
   "outputs": [],
   "source": [
    "html = req.get(url).content\n",
    "\n",
    "soup = bs(html, 'html.parser')"
   ]
  },
  {
   "cell_type": "code",
   "execution_count": 25,
   "metadata": {},
   "outputs": [
    {
     "data": {
      "text/plain": [
       "[<h3 class=\"title\">\n",
       " <a href=\"https://www.fbi.gov/wanted/topten/bhadreshkumar-chetanbhai-patel\">BHADRESHKUMAR CHETANBHAI PATEL</a>\n",
       " </h3>,\n",
       " <h3 class=\"title\">\n",
       " <a href=\"https://www.fbi.gov/wanted/topten/wilver-villegas-palomino\">WILVER VILLEGAS-PALOMINO</a>\n",
       " </h3>,\n",
       " <h3 class=\"title\">\n",
       " <a href=\"https://www.fbi.gov/wanted/topten/alejandro-castillo\">ALEJANDRO ROSALES CASTILLO</a>\n",
       " </h3>,\n",
       " <h3 class=\"title\">\n",
       " <a href=\"https://www.fbi.gov/wanted/topten/ruja-ignatova\">RUJA IGNATOVA</a>\n",
       " </h3>,\n",
       " <h3 class=\"title\">\n",
       " <a href=\"https://www.fbi.gov/wanted/topten/arnoldo-jimenez\">ARNOLDO JIMENEZ</a>\n",
       " </h3>,\n",
       " <h3 class=\"title\">\n",
       " <a href=\"https://www.fbi.gov/wanted/topten/omar-alexander-cardenas\">OMAR ALEXANDER CARDENAS</a>\n",
       " </h3>,\n",
       " <h3 class=\"title\">\n",
       " <a href=\"https://www.fbi.gov/wanted/topten/alexis-flores\">ALEXIS FLORES</a>\n",
       " </h3>,\n",
       " <h3 class=\"title\">\n",
       " <a href=\"https://www.fbi.gov/wanted/topten/yulan-adonay-archaga-carias\">YULAN ADONAY ARCHAGA CARIAS</a>\n",
       " </h3>,\n",
       " <h3 class=\"title\">\n",
       " <a href=\"https://www.fbi.gov/wanted/topten/michael-james-pratt\">MICHAEL JAMES PRATT</a>\n",
       " </h3>,\n",
       " <h3 class=\"title\">\n",
       " <a href=\"https://www.fbi.gov/wanted/topten/jose-rodolfo-villarreal-hernandez\">JOSE RODOLFO VILLARREAL-HERNANDEZ</a>\n",
       " </h3>]"
      ]
     },
     "execution_count": 25,
     "metadata": {},
     "output_type": "execute_result"
    }
   ],
   "source": [
    "titles = soup.find_all('h3', {'class' : 'title'})\n",
    "titles"
   ]
  },
  {
   "cell_type": "code",
   "execution_count": 26,
   "metadata": {},
   "outputs": [
    {
     "name": "stdout",
     "output_type": "stream",
     "text": [
      "['BHADRESHKUMAR CHETANBHAI PATEL', 'WILVER VILLEGAS-PALOMINO', 'ALEJANDRO ROSALES CASTILLO', 'RUJA IGNATOVA', 'ARNOLDO JIMENEZ', 'OMAR ALEXANDER CARDENAS', 'ALEXIS FLORES', 'YULAN ADONAY ARCHAGA CARIAS', 'MICHAEL JAMES PRATT', 'JOSE RODOLFO VILLARREAL-HERNANDEZ']\n"
     ]
    }
   ],
   "source": [
    "top10 = []\n",
    "\n",
    "for i in titles:\n",
    "    top10.append(i.text.strip())\n",
    "\n",
    "print(top10)"
   ]
  },
  {
   "cell_type": "markdown",
   "metadata": {},
   "source": [
    "####  20 latest earthquakes info (date, time, latitude, longitude and region name) by the EMSC as a pandas dataframe"
   ]
  },
  {
   "cell_type": "code",
   "execution_count": 27,
   "metadata": {},
   "outputs": [],
   "source": [
    "# This is the url you will scrape in this exercise\n",
    "url = 'https://www.emsc-csem.org/Earthquake/'"
   ]
  },
  {
   "cell_type": "code",
   "execution_count": 28,
   "metadata": {},
   "outputs": [],
   "source": [
    "#your code"
   ]
  },
  {
   "cell_type": "markdown",
   "metadata": {},
   "source": [
    "#### Display the date, days, title, city, country of next 25 hackathon events as a Pandas dataframe table"
   ]
  },
  {
   "cell_type": "code",
   "execution_count": 29,
   "metadata": {},
   "outputs": [],
   "source": [
    "# This is the url you will scrape in this exercise\n",
    "url ='https://hackevents.co/hackathons'"
   ]
  },
  {
   "cell_type": "code",
   "execution_count": null,
   "metadata": {},
   "outputs": [],
   "source": []
  },
  {
   "cell_type": "markdown",
   "metadata": {},
   "source": [
    "#### Count number of tweets by a given Twitter account."
   ]
  },
  {
   "cell_type": "markdown",
   "metadata": {},
   "source": [
    "You will need to include a ***try/except block*** for account names not found. \n",
    "<br>***Hint:*** the program should count the number of tweets for any provided account"
   ]
  },
  {
   "cell_type": "code",
   "execution_count": 30,
   "metadata": {},
   "outputs": [],
   "source": [
    "# This is the url you will scrape in this exercise \n",
    "# You will need to add the account credentials to this url\n",
    "url = 'https://twitter.com/linx_ch'"
   ]
  },
  {
   "cell_type": "code",
   "execution_count": 31,
   "metadata": {},
   "outputs": [],
   "source": [
    "html = req.get(url).content\n",
    "\n",
    "soup = bs(html, 'html.parser')"
   ]
  },
  {
   "cell_type": "code",
   "execution_count": 32,
   "metadata": {},
   "outputs": [
    {
     "data": {
      "text/plain": [
       "[]"
      ]
     },
     "execution_count": 32,
     "metadata": {},
     "output_type": "execute_result"
    }
   ],
   "source": [
    "tweets = soup.find_all('h2')\n",
    "tweets"
   ]
  },
  {
   "cell_type": "code",
   "execution_count": 33,
   "metadata": {},
   "outputs": [],
   "source": [
    "# Inexcrapeable"
   ]
  },
  {
   "cell_type": "markdown",
   "metadata": {},
   "source": [
    "#### Number of followers of a given twitter account"
   ]
  },
  {
   "cell_type": "markdown",
   "metadata": {},
   "source": [
    "You will need to include a ***try/except block*** in case account/s name not found. \n",
    "<br>***Hint:*** the program should count the followers for any provided account"
   ]
  },
  {
   "cell_type": "code",
   "execution_count": 34,
   "metadata": {},
   "outputs": [],
   "source": [
    "# This is the url you will scrape in this exercise \n",
    "# You will need to add the account credentials to this url\n",
    "url = 'https://twitter.com/'"
   ]
  },
  {
   "cell_type": "code",
   "execution_count": 35,
   "metadata": {},
   "outputs": [],
   "source": [
    "# Inexcrapeable"
   ]
  },
  {
   "cell_type": "markdown",
   "metadata": {},
   "source": [
    "#### List all language names and number of related articles in the order they appear in wikipedia.org"
   ]
  },
  {
   "cell_type": "code",
   "execution_count": 36,
   "metadata": {},
   "outputs": [],
   "source": [
    "# This is the url you will scrape in this exercise\n",
    "url = 'https://www.wikipedia.org/'"
   ]
  },
  {
   "cell_type": "code",
   "execution_count": 37,
   "metadata": {},
   "outputs": [],
   "source": [
    "html = req.get(url).content\n",
    "\n",
    "soup = bs(html, 'html.parser')"
   ]
  },
  {
   "cell_type": "code",
   "execution_count": 38,
   "metadata": {},
   "outputs": [
    {
     "name": "stdout",
     "output_type": "stream",
     "text": [
      "[<bdi dir=\"ltr\">6 644 000+</bdi>, <bdi dir=\"ltr\">1 909 000+</bdi>, <bdi dir=\"ltr\">1 370 000+</bdi>, <bdi dir=\"ltr\">2 792 000+</bdi>, <bdi dir=\"ltr\">1 854 000+</bdi>, <bdi dir=\"ltr\">2 514 000+</bdi>, <bdi dir=\"ltr\">1 806 000+</bdi>, <bdi dir=\"ltr\">1 347 000+</bdi>, <bdi dir=\"ltr\">959 000+</bdi>, <bdi dir=\"ltr\">1 101 000+</bdi>]\n"
     ]
    }
   ],
   "source": [
    "lang = soup.find_all('a', class_='link-box')\n",
    "num = soup.find_all('bdi', dir = 'ltr')\n",
    "num = num[:10]\n",
    "\n",
    "print(num)"
   ]
  },
  {
   "cell_type": "code",
   "execution_count": 39,
   "metadata": {},
   "outputs": [
    {
     "name": "stdout",
     "output_type": "stream",
     "text": [
      "['English 6644000', 'Русский 1909000', '日本語 1370000', 'Deutsch 2792000', 'Español 1854000', 'Français 2514000', 'Italiano 1806000', '中文 1347000', 'فارسی 959000', 'Português 1101000']\n"
     ]
    }
   ],
   "source": [
    "languages = []\n",
    "for i in range(len(lang)):\n",
    "    try:\n",
    "        languages.append(lang[i].text.strip().split('\\n')[0] + ' ' + num[i].text.split('\\xa0')[0] + num[i].text.split('\\xa0')[1] + num[i].text.split('\\xa0')[2][:-1])\n",
    "    except:\n",
    "        languages.append(lang[i].text.strip().split('\\n')[0]  + ' ' + num[i].text.split('\\xa0')[0] + num[i].text.split('\\xa0')[1][:-1])\n",
    "\n",
    "print(languages)"
   ]
  },
  {
   "cell_type": "markdown",
   "metadata": {},
   "source": [
    "#### A list with the different kind of datasets available in data.gov.uk "
   ]
  },
  {
   "cell_type": "code",
   "execution_count": 40,
   "metadata": {},
   "outputs": [],
   "source": [
    "# This is the url you will scrape in this exercise\n",
    "url = 'https://data.gov.uk/'"
   ]
  },
  {
   "cell_type": "code",
   "execution_count": 41,
   "metadata": {},
   "outputs": [],
   "source": [
    "html = req.get(url).content\n",
    "\n",
    "soup = bs(html, 'html.parser')"
   ]
  },
  {
   "cell_type": "code",
   "execution_count": 42,
   "metadata": {},
   "outputs": [
    {
     "name": "stdout",
     "output_type": "stream",
     "text": [
      "['Business and economy', 'Crime and justice', 'Defence', 'Education', 'Environment', 'Government', 'Government spending', 'Health', 'Mapping', 'Society', 'Towns and cities', 'Transport', 'Digital service performance', 'Government reference data']\n"
     ]
    }
   ],
   "source": [
    "cat = soup.find_all('h3')\n",
    "cat_tit = [element.find('a').text for element in cat]\n",
    "\n",
    "print(cat_tit)"
   ]
  },
  {
   "cell_type": "markdown",
   "metadata": {},
   "source": [
    "#### Top 10 languages by number of native speakers stored in a Pandas Dataframe"
   ]
  },
  {
   "cell_type": "code",
   "execution_count": 43,
   "metadata": {},
   "outputs": [],
   "source": [
    "# This is the url you will scrape in this exercise\n",
    "url = 'https://en.wikipedia.org/wiki/List_of_languages_by_number_of_native_speakers'"
   ]
  },
  {
   "cell_type": "code",
   "execution_count": 44,
   "metadata": {},
   "outputs": [],
   "source": [
    "html = req.get(url).content\n",
    "\n",
    "soup = bs(html, 'html.parser')"
   ]
  },
  {
   "cell_type": "code",
   "execution_count": 45,
   "metadata": {},
   "outputs": [],
   "source": [
    "tabla = soup.find_all('table')[0]\n",
    "#tabla"
   ]
  },
  {
   "cell_type": "code",
   "execution_count": 46,
   "metadata": {},
   "outputs": [
    {
     "data": {
      "text/plain": [
       "['',\n",
       " 'Language',\n",
       " '',\n",
       " 'Native speakers(millions)',\n",
       " '',\n",
       " 'Language family',\n",
       " '',\n",
       " 'Branch',\n",
       " '']"
      ]
     },
     "execution_count": 46,
     "metadata": {},
     "output_type": "execute_result"
    }
   ],
   "source": [
    "tabla.find_all('tr')[0].text.split('\\n')"
   ]
  },
  {
   "cell_type": "code",
   "execution_count": 47,
   "metadata": {},
   "outputs": [
    {
     "data": {
      "text/plain": [
       "[['Language',\n",
       "  '',\n",
       "  'Native speakers(millions)',\n",
       "  '',\n",
       "  'Language family',\n",
       "  '',\n",
       "  'Branch'],\n",
       " ['Mandarin Chinese(incl. Standard Chinese, but excl. other varieties)',\n",
       "  '',\n",
       "  '939',\n",
       "  '',\n",
       "  'Sino-Tibetan',\n",
       "  '',\n",
       "  'Sinitic'],\n",
       " ['Spanish', '', '485', '', 'Indo-European', '', 'Romance'],\n",
       " ['English', '', '380', '', 'Indo-European', '', 'Germanic'],\n",
       " ['Hindi(excl. Urdu, and other languages)',\n",
       "  '',\n",
       "  '345',\n",
       "  '',\n",
       "  'Indo-European',\n",
       "  '',\n",
       "  'Indo-Aryan']]"
      ]
     },
     "execution_count": 47,
     "metadata": {},
     "output_type": "execute_result"
    }
   ],
   "source": [
    "filas = tabla.find_all('tr')\n",
    "\n",
    "filas = [f.text.strip().split('\\n') for f in filas]\n",
    "\n",
    "filas[:5]"
   ]
  },
  {
   "cell_type": "code",
   "execution_count": 48,
   "metadata": {},
   "outputs": [
    {
     "data": {
      "text/plain": [
       "[['Language', 'Native speakers(millions)', 'Language family', 'Branch'],\n",
       " ['Mandarin Chinese(incl. Standard Chinese, but excl. other varieties)',\n",
       "  '939',\n",
       "  'Sino-Tibetan',\n",
       "  'Sinitic'],\n",
       " ['Spanish', '485', 'Indo-European', 'Romance'],\n",
       " ['English', '380', 'Indo-European', 'Germanic'],\n",
       " ['Hindi(excl. Urdu, and other languages)',\n",
       "  '345',\n",
       "  'Indo-European',\n",
       "  'Indo-Aryan']]"
      ]
     },
     "execution_count": 48,
     "metadata": {},
     "output_type": "execute_result"
    }
   ],
   "source": [
    "final = []\n",
    "\n",
    "for f in filas:\n",
    "    \n",
    "    tmp=[]\n",
    "    \n",
    "    for palabra in f:\n",
    "        \n",
    "        if palabra!='':\n",
    "            tmp.append(palabra)\n",
    "            \n",
    "    final.append(tmp)\n",
    "    \n",
    "final[:5]"
   ]
  },
  {
   "cell_type": "code",
   "execution_count": 49,
   "metadata": {},
   "outputs": [
    {
     "data": {
      "text/plain": [
       "[['Language', 'Native speakers(millions)', 'Language family', 'Branch'],\n",
       " ['Mandarin Chinese(incl. Standard Chinese, but excl. other varieties)',\n",
       "  '939',\n",
       "  'Sino-Tibetan',\n",
       "  'Sinitic'],\n",
       " ['Spanish', '485', 'Indo-European', 'Romance'],\n",
       " ['English', '380', 'Indo-European', 'Germanic'],\n",
       " ['Hindi(excl. Urdu, and other languages)',\n",
       "  '345',\n",
       "  'Indo-European',\n",
       "  'Indo-Aryan']]"
      ]
     },
     "execution_count": 49,
     "metadata": {},
     "output_type": "execute_result"
    }
   ],
   "source": [
    "final = [[palabra for palabra in f if palabra!=''] for f in filas]\n",
    "\n",
    "final[:5]"
   ]
  },
  {
   "cell_type": "code",
   "execution_count": 50,
   "metadata": {},
   "outputs": [
    {
     "data": {
      "text/html": [
       "<div>\n",
       "<style scoped>\n",
       "    .dataframe tbody tr th:only-of-type {\n",
       "        vertical-align: middle;\n",
       "    }\n",
       "\n",
       "    .dataframe tbody tr th {\n",
       "        vertical-align: top;\n",
       "    }\n",
       "\n",
       "    .dataframe thead th {\n",
       "        text-align: right;\n",
       "    }\n",
       "</style>\n",
       "<table border=\"1\" class=\"dataframe\">\n",
       "  <thead>\n",
       "    <tr style=\"text-align: right;\">\n",
       "      <th></th>\n",
       "      <th>Language</th>\n",
       "      <th></th>\n",
       "      <th>Native speakers(millions)</th>\n",
       "      <th></th>\n",
       "      <th>Language family</th>\n",
       "      <th></th>\n",
       "      <th>Branch</th>\n",
       "    </tr>\n",
       "  </thead>\n",
       "  <tbody>\n",
       "    <tr>\n",
       "      <th>0</th>\n",
       "      <td>Mandarin Chinese(incl. Standard Chinese, but e...</td>\n",
       "      <td></td>\n",
       "      <td>939</td>\n",
       "      <td></td>\n",
       "      <td>Sino-Tibetan</td>\n",
       "      <td></td>\n",
       "      <td>Sinitic</td>\n",
       "    </tr>\n",
       "    <tr>\n",
       "      <th>1</th>\n",
       "      <td>Spanish</td>\n",
       "      <td></td>\n",
       "      <td>485</td>\n",
       "      <td></td>\n",
       "      <td>Indo-European</td>\n",
       "      <td></td>\n",
       "      <td>Romance</td>\n",
       "    </tr>\n",
       "    <tr>\n",
       "      <th>2</th>\n",
       "      <td>English</td>\n",
       "      <td></td>\n",
       "      <td>380</td>\n",
       "      <td></td>\n",
       "      <td>Indo-European</td>\n",
       "      <td></td>\n",
       "      <td>Germanic</td>\n",
       "    </tr>\n",
       "    <tr>\n",
       "      <th>3</th>\n",
       "      <td>Hindi(excl. Urdu, and other languages)</td>\n",
       "      <td></td>\n",
       "      <td>345</td>\n",
       "      <td></td>\n",
       "      <td>Indo-European</td>\n",
       "      <td></td>\n",
       "      <td>Indo-Aryan</td>\n",
       "    </tr>\n",
       "    <tr>\n",
       "      <th>4</th>\n",
       "      <td>Portuguese</td>\n",
       "      <td></td>\n",
       "      <td>236</td>\n",
       "      <td></td>\n",
       "      <td>Indo-European</td>\n",
       "      <td></td>\n",
       "      <td>Romance</td>\n",
       "    </tr>\n",
       "    <tr>\n",
       "      <th>5</th>\n",
       "      <td>Bengali</td>\n",
       "      <td></td>\n",
       "      <td>234</td>\n",
       "      <td></td>\n",
       "      <td>Indo-European</td>\n",
       "      <td></td>\n",
       "      <td>Indo-Aryan</td>\n",
       "    </tr>\n",
       "    <tr>\n",
       "      <th>6</th>\n",
       "      <td>Russian</td>\n",
       "      <td></td>\n",
       "      <td>147</td>\n",
       "      <td></td>\n",
       "      <td>Indo-European</td>\n",
       "      <td></td>\n",
       "      <td>Balto-Slavic</td>\n",
       "    </tr>\n",
       "    <tr>\n",
       "      <th>7</th>\n",
       "      <td>Japanese</td>\n",
       "      <td></td>\n",
       "      <td>123</td>\n",
       "      <td></td>\n",
       "      <td>Japonic</td>\n",
       "      <td></td>\n",
       "      <td>Japanese</td>\n",
       "    </tr>\n",
       "    <tr>\n",
       "      <th>8</th>\n",
       "      <td>Yue Chinese(incl. Cantonese)</td>\n",
       "      <td></td>\n",
       "      <td>86.1</td>\n",
       "      <td></td>\n",
       "      <td>Sino-Tibetan</td>\n",
       "      <td></td>\n",
       "      <td>Sinitic</td>\n",
       "    </tr>\n",
       "    <tr>\n",
       "      <th>9</th>\n",
       "      <td>Vietnamese</td>\n",
       "      <td></td>\n",
       "      <td>85.0</td>\n",
       "      <td></td>\n",
       "      <td>Austroasiatic</td>\n",
       "      <td></td>\n",
       "      <td>Vietic</td>\n",
       "    </tr>\n",
       "  </tbody>\n",
       "</table>\n",
       "</div>"
      ],
      "text/plain": [
       "                                            Language     \n",
       "0  Mandarin Chinese(incl. Standard Chinese, but e...    \\\n",
       "1                                            Spanish     \n",
       "2                                            English     \n",
       "3             Hindi(excl. Urdu, and other languages)     \n",
       "4                                         Portuguese     \n",
       "5                                            Bengali     \n",
       "6                                            Russian     \n",
       "7                                           Japanese     \n",
       "8                       Yue Chinese(incl. Cantonese)     \n",
       "9                                         Vietnamese     \n",
       "\n",
       "  Native speakers(millions)   Language family          Branch  \n",
       "0                       939      Sino-Tibetan         Sinitic  \n",
       "1                       485     Indo-European         Romance  \n",
       "2                       380     Indo-European        Germanic  \n",
       "3                       345     Indo-European      Indo-Aryan  \n",
       "4                       236     Indo-European         Romance  \n",
       "5                       234     Indo-European      Indo-Aryan  \n",
       "6                       147     Indo-European    Balto-Slavic  \n",
       "7                       123           Japonic        Japanese  \n",
       "8                      86.1      Sino-Tibetan         Sinitic  \n",
       "9                      85.0     Austroasiatic          Vietic  "
      ]
     },
     "execution_count": 50,
     "metadata": {},
     "output_type": "execute_result"
    }
   ],
   "source": [
    "col_names = filas[0]\n",
    "\n",
    "data = filas[1:]\n",
    "\n",
    "\n",
    "df=pd.DataFrame(data, columns=col_names)\n",
    "\n",
    "df.head(10)"
   ]
  },
  {
   "cell_type": "markdown",
   "metadata": {},
   "source": [
    "### BONUS QUESTIONS"
   ]
  },
  {
   "cell_type": "markdown",
   "metadata": {},
   "source": [
    "#### Scrape a certain number of tweets of a given Twitter account."
   ]
  },
  {
   "cell_type": "code",
   "execution_count": 51,
   "metadata": {},
   "outputs": [],
   "source": [
    "# This is the url you will scrape in this exercise \n",
    "# You will need to add the account credentials to this url\n",
    "url = 'https://twitter.com/'"
   ]
  },
  {
   "cell_type": "code",
   "execution_count": 52,
   "metadata": {},
   "outputs": [],
   "source": [
    "# your code"
   ]
  },
  {
   "cell_type": "markdown",
   "metadata": {},
   "source": [
    "#### IMDB's Top 250 data (movie name, Initial release, director name and stars) as a pandas dataframe"
   ]
  },
  {
   "cell_type": "code",
   "execution_count": 53,
   "metadata": {},
   "outputs": [],
   "source": [
    "# This is the url you will scrape in this exercise \n",
    "url = 'https://www.imdb.com/chart/top'"
   ]
  },
  {
   "cell_type": "code",
   "execution_count": 54,
   "metadata": {},
   "outputs": [],
   "source": [
    "# your code"
   ]
  },
  {
   "cell_type": "markdown",
   "metadata": {},
   "source": [
    "#### Movie name, year and a brief summary of the top 10 random movies (IMDB) as a pandas dataframe."
   ]
  },
  {
   "cell_type": "code",
   "execution_count": 55,
   "metadata": {},
   "outputs": [],
   "source": [
    "#This is the url you will scrape in this exercise\n",
    "url = 'http://www.imdb.com/chart/top'"
   ]
  },
  {
   "cell_type": "code",
   "execution_count": 56,
   "metadata": {},
   "outputs": [],
   "source": [
    "#your code"
   ]
  },
  {
   "cell_type": "markdown",
   "metadata": {},
   "source": [
    "#### Find the live weather report (temperature, wind speed, description and weather) of a given city."
   ]
  },
  {
   "cell_type": "code",
   "execution_count": 57,
   "metadata": {},
   "outputs": [],
   "source": [
    "#https://openweathermap.org/current\n",
    "#city = city=input('Enter the city:')\n",
    "#url = 'http://api.openweathermap.org/data/2.5/weather?'+'q='+city+'&APPID=b35975e18dc93725acb092f7272cc6b8&units=metric'"
   ]
  },
  {
   "cell_type": "code",
   "execution_count": 58,
   "metadata": {},
   "outputs": [],
   "source": [
    "# your code"
   ]
  },
  {
   "cell_type": "markdown",
   "metadata": {},
   "source": [
    "#### Book name,price and stock availability as a pandas dataframe."
   ]
  },
  {
   "cell_type": "code",
   "execution_count": 59,
   "metadata": {},
   "outputs": [],
   "source": [
    "# This is the url you will scrape in this exercise. \n",
    "# It is a fictional bookstore created to be scraped. \n",
    "url = 'http://books.toscrape.com/'"
   ]
  },
  {
   "cell_type": "code",
   "execution_count": 60,
   "metadata": {},
   "outputs": [],
   "source": [
    "#your code"
   ]
  }
 ],
 "metadata": {
  "kernelspec": {
   "display_name": "Python 3",
   "language": "python",
   "name": "python3"
  },
  "language_info": {
   "codemirror_mode": {
    "name": "ipython",
    "version": 3
   },
   "file_extension": ".py",
   "mimetype": "text/x-python",
   "name": "python",
   "nbconvert_exporter": "python",
   "pygments_lexer": "ipython3",
   "version": "3.11.2"
  }
 },
 "nbformat": 4,
 "nbformat_minor": 2
}
