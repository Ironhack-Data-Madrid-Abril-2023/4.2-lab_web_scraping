{
 "cells": [
  {
   "cell_type": "markdown",
   "metadata": {},
   "source": [
    "# Web Scraping Lab\n",
    "\n",
    "You will find in this notebook some scrapy exercises to practise your scraping skills.\n",
    "\n",
    "**Tips:**\n",
    "\n",
    "- Check the response status code for each request to ensure you have obtained the intended contennt.\n",
    "- Print the response text in each request to understand the kind of info you are getting and its format.\n",
    "- Check for patterns in the response text to extract the data/info requested in each question.\n",
    "- Visit each url and take a look at its source through Chrome DevTools. You'll need to identify the html tags, special class names etc. used for the html content you are expected to extract."
   ]
  },
  {
   "cell_type": "markdown",
   "metadata": {},
   "source": [
    "- [Requests library](http://docs.python-requests.org/en/master/#the-user-guide) documentation \n",
    "- [Beautiful Soup Doc](https://www.crummy.com/software/BeautifulSoup/bs4/doc/)\n",
    "- [Urllib](https://docs.python.org/3/library/urllib.html#module-urllib)\n",
    "- [re lib](https://docs.python.org/3/library/re.html)\n",
    "- [lxml lib](https://lxml.de/)\n",
    "- [Scrapy](https://scrapy.org/)\n",
    "- [List of HTTP status codes](https://en.wikipedia.org/wiki/List_of_HTTP_status_codes)\n",
    "- [HTML basics](http://www.simplehtmlguide.com/cheatsheet.php)\n",
    "- [CSS basics](https://www.cssbasics.com/#page_start)"
   ]
  },
  {
   "cell_type": "markdown",
   "metadata": {},
   "source": [
    "#### Below are the libraries and modules you may need. `requests`,  `BeautifulSoup` and `pandas` are imported for you. If you prefer to use additional libraries feel free to uncomment them."
   ]
  },
  {
   "cell_type": "code",
   "execution_count": 1282,
   "metadata": {},
   "outputs": [],
   "source": [
    "import requests\n",
    "from bs4 import BeautifulSoup \n",
    "import pandas as pd\n",
    "# from pprint import pprint\n",
    "# from lxml import html\n",
    "# from lxml.html import fromstring\n",
    "# import urllib.request\n",
    "# from urllib.request import urlopen\n",
    "# import random\n",
    "# import re\n",
    "# import scrapy"
   ]
  },
  {
   "cell_type": "markdown",
   "metadata": {},
   "source": [
    "#### Download, parse (using BeautifulSoup), and print the content from the Trending Developers page from GitHub:"
   ]
  },
  {
   "cell_type": "code",
   "execution_count": 1283,
   "metadata": {},
   "outputs": [],
   "source": [
    "# This is the url you will scrape in this exercise\n",
    "url = 'https://github.com/trending/developers'"
   ]
  },
  {
   "cell_type": "code",
   "execution_count": 1284,
   "metadata": {},
   "outputs": [],
   "source": [
    "#extraemos el HTML\n",
    "html = requests.get(url).content\n",
    "#parseamos\n",
    "soup = BeautifulSoup(html,'html.parser')\n"
   ]
  },
  {
   "cell_type": "markdown",
   "metadata": {},
   "source": [
    "#### Display the names of the trending developers retrieved in the previous step.\n",
    "\n",
    "Your output should be a Python list of developer names. Each name should not contain any html tag.\n",
    "\n",
    "**Instructions:**\n",
    "\n",
    "1. Find out the html tag and class names used for the developer names. You can achieve this using Chrome DevTools.\n",
    "\n",
    "1. Use BeautifulSoup to extract all the html elements that contain the developer names.\n",
    "\n",
    "1. Use string manipulation techniques to replace whitespaces and linebreaks (i.e. `\\n`) in the *text* of each html element. Use a list to store the clean names.\n",
    "\n",
    "1. Print the list of names.\n",
    "\n",
    "Your output should look like below:\n",
    "\n",
    "```\n",
    "['trimstray (@trimstray)',\n",
    " 'joewalnes (JoeWalnes)',\n",
    " 'charlax (Charles-AxelDein)',\n",
    " 'ForrestKnight (ForrestKnight)',\n",
    " 'revery-ui (revery-ui)',\n",
    " 'alibaba (Alibaba)',\n",
    " 'Microsoft (Microsoft)',\n",
    " 'github (GitHub)',\n",
    " 'facebook (Facebook)',\n",
    " 'boazsegev (Bo)',\n",
    " 'google (Google)',\n",
    " 'cloudfetch',\n",
    " 'sindresorhus (SindreSorhus)',\n",
    " 'tensorflow',\n",
    " 'apache (TheApacheSoftwareFoundation)',\n",
    " 'DevonCrawford (DevonCrawford)',\n",
    " 'ARMmbed (ArmMbed)',\n",
    " 'vuejs (vuejs)',\n",
    " 'fastai (fast.ai)',\n",
    " 'QiShaoXuan (Qi)',\n",
    " 'joelparkerhenderson (JoelParkerHenderson)',\n",
    " 'torvalds (LinusTorvalds)',\n",
    " 'CyC2018',\n",
    " 'komeiji-satori (神楽坂覚々)',\n",
    " 'script-8']\n",
    " ```"
   ]
  },
  {
   "cell_type": "code",
   "execution_count": 1285,
   "metadata": {},
   "outputs": [
    {
     "data": {
      "text/plain": [
       "'wader'"
      ]
     },
     "execution_count": 1285,
     "metadata": {},
     "output_type": "execute_result"
    }
   ],
   "source": [
    "#intento sacar el primero nombre \n",
    "\n",
    "element = soup.find('h1', {'class': 'h3 lh-condensed'})\n",
    "\n",
    "#con el tag a accedo al nombre y dentro del atributo text se enucentra lo que busco\n",
    "\n",
    "name = element.find('a').text.strip()\n",
    "\n",
    "#nombre de usuario está en href del mismo tag a \n",
    "\n",
    "username = element.find('a')['href'][1:]\n",
    "username\n"
   ]
  },
  {
   "cell_type": "code",
   "execution_count": 1286,
   "metadata": {},
   "outputs": [
    {
     "data": {
      "text/plain": [
       "['Mattias Wadman (wader)',\n",
       " 'lllyasviel (lllyasviel)',\n",
       " 'Lianmin Zheng (merrymercy)',\n",
       " 'Jerry Liu (jerryjliu)',\n",
       " 'Henrik Rydgård (hrydgard)',\n",
       " 'Harrison Chase (hwchase17)',\n",
       " 'Fons van der Plas (fonsp)',\n",
       " 'Steven Tey (steven-tey)',\n",
       " 'Andreas Thomas (chronark)',\n",
       " 'pilcrowOnPaper (pilcrowOnPaper)',\n",
       " 'Laurent Mazare (LaurentMazare)',\n",
       " 'yetone (yetone)',\n",
       " 'Tom Payne (twpayne)',\n",
       " 'Raphaël Benitte (plouc)',\n",
       " 'Dillon Nys (dnys1)',\n",
       " 'Will McGugan (willmcgugan)',\n",
       " 'Luca Palmieri (LukeMathWalker)',\n",
       " 'Payton Swick (sirbrillig)',\n",
       " 'Martí Climent (marticliment)',\n",
       " 'dgtlmoon (dgtlmoon)',\n",
       " 'Jelle Zijlstra (JelleZijlstra)',\n",
       " 'J. Nick Koston (bdraco)',\n",
       " 'Nuno Campos (nfcampos)',\n",
       " 'Juliette (jrfnl)',\n",
       " 'Lee Robinson (leerob)']"
      ]
     },
     "execution_count": 1286,
     "metadata": {},
     "output_type": "execute_result"
    }
   ],
   "source": [
    "#ahora vamos a por todos así que metemos un find all\n",
    "\n",
    "elements = soup.find_all('h1', {'class': 'h3 lh-condensed'})\n",
    "\n",
    "trendy = []\n",
    "\n",
    "for e in elements:\n",
    "    name = e.find('a').text.strip()\n",
    "    user = e.find('a')['href'][1:]\n",
    "    trendy.append(f'{name} ({user})')\n",
    "\n",
    "elements\n",
    "\n",
    "trendy"
   ]
  },
  {
   "cell_type": "markdown",
   "metadata": {},
   "source": [
    "#### Display the trending Python repositories in GitHub\n",
    "\n",
    "The steps to solve this problem is similar to the previous one except that you need to find out the repository names instead of developer names."
   ]
  },
  {
   "cell_type": "code",
   "execution_count": 1287,
   "metadata": {},
   "outputs": [],
   "source": [
    "# This is the url you will scrape in this exercise\n",
    "url = 'https://github.com/trending/python?since=daily'"
   ]
  },
  {
   "cell_type": "code",
   "execution_count": 1288,
   "metadata": {},
   "outputs": [],
   "source": [
    "#extraemos el HTML\n",
    "html = requests.get(url).content\n",
    "#parseamos\n",
    "soup = BeautifulSoup(html,'html.parser')"
   ]
  },
  {
   "cell_type": "code",
   "execution_count": 1289,
   "metadata": {},
   "outputs": [
    {
     "data": {
      "text/plain": [
       "'mlc-ai/mlc-llm'"
      ]
     },
     "execution_count": 1289,
     "metadata": {},
     "output_type": "execute_result"
    }
   ],
   "source": [
    "#intento sacar el primero nombre \n",
    "\n",
    "element = soup.find('h2', {'class': 'h3 lh-condensed'})\n",
    "name = element.find('a').text.strip()\n",
    "clean = name.replace('\\n', '').strip().replace(' ', '')\n",
    "\n",
    "clean"
   ]
  },
  {
   "cell_type": "code",
   "execution_count": 1290,
   "metadata": {},
   "outputs": [
    {
     "data": {
      "text/plain": [
       "['mlc-ai/mlc-llm',\n",
       " 'AIGC-Audio/AudioGPT',\n",
       " 'gventuri/pandas-ai',\n",
       " 'xtekky/gpt4free',\n",
       " 'irgolic/AutoPR',\n",
       " 'lamini-ai/lamini',\n",
       " 'deep-floyd/IF',\n",
       " 'deforum-art/deforum-stable-diffusion',\n",
       " 'home-assistant/core',\n",
       " 'cirediatpl/FigmaChain',\n",
       " 'IntelligenzaArtificiale/Free-AUTO-GPT-with-NO-API',\n",
       " 'mlc-ai/web-llm',\n",
       " 'AUTOMATIC1111/stable-diffusion-webui',\n",
       " 'ddPn08/Radiata',\n",
       " 'deforum-art/deforum-for-automatic1111-webui',\n",
       " 'ZrrSkywalker/LLaMA-Adapter',\n",
       " 'yt-dlp/yt-dlp',\n",
       " 'nlpxucan/WizardLM',\n",
       " 'GitHubDaily/ChatGPT-Prompt-Engineering-for-Developers-in-Chinese',\n",
       " 'georgia-tech-db/eva',\n",
       " 'xtekky/chatgpt-clone',\n",
       " 'mahdibland/V2RayAggregator',\n",
       " 'KurtBestor/Hitomi-Downloader',\n",
       " 'jaywalnut310/vits',\n",
       " 'isaiahbjork/Auto-GPT-Crypto-Plugin']"
      ]
     },
     "execution_count": 1290,
     "metadata": {},
     "output_type": "execute_result"
    }
   ],
   "source": [
    "#ahora el resto\n",
    "elements = soup.find_all('h2', {'class': 'h3 lh-condensed'})\n",
    "\n",
    "trendy = []\n",
    "\n",
    "for e in elements:\n",
    "    name = e.find('a').text.strip()\n",
    "    clean = name.replace('\\n', '').strip().replace(' ', '')\n",
    "    trendy.append(clean)\n",
    "\n",
    "trendy"
   ]
  },
  {
   "cell_type": "markdown",
   "metadata": {},
   "source": [
    "#### Display all the image links from Walt Disney wikipedia page"
   ]
  },
  {
   "cell_type": "code",
   "execution_count": 1291,
   "metadata": {},
   "outputs": [],
   "source": [
    "# This is the url you will scrape in this exercise\n",
    "url = 'https://en.wikipedia.org/wiki/Walt_Disney'"
   ]
  },
  {
   "cell_type": "code",
   "execution_count": 1292,
   "metadata": {},
   "outputs": [],
   "source": [
    "#extraemos el HTML\n",
    "html = requests.get(url).content\n",
    "#parseamos\n",
    "soup = BeautifulSoup(html,'html.parser')"
   ]
  },
  {
   "cell_type": "code",
   "execution_count": 1293,
   "metadata": {},
   "outputs": [
    {
     "data": {
      "text/plain": [
       "['/static/images/icons/wikipedia.png',\n",
       " '/static/images/mobile/copyright/wikipedia-wordmark-en.svg',\n",
       " '/static/images/mobile/copyright/wikipedia-tagline-en.svg']"
      ]
     },
     "execution_count": 1293,
     "metadata": {},
     "output_type": "execute_result"
    }
   ],
   "source": [
    "link = []\n",
    "\n",
    "pics = soup.find_all('img')\n",
    "for pic in pics:\n",
    "    link.append(pic['src'])\n",
    "\n",
    "link[:3]"
   ]
  },
  {
   "cell_type": "markdown",
   "metadata": {},
   "source": [
    "#### Retrieve an arbitary Wikipedia page of \"Python\" and create a list of links on that page"
   ]
  },
  {
   "cell_type": "code",
   "execution_count": 1294,
   "metadata": {},
   "outputs": [],
   "source": [
    "# This is the url you will scrape in this exercise\n",
    "url ='https://en.wikipedia.org/wiki/Python' "
   ]
  },
  {
   "cell_type": "code",
   "execution_count": 1295,
   "metadata": {},
   "outputs": [],
   "source": [
    "#extraemos el HTML\n",
    "html = requests.get(url).content\n",
    "#parseamos\n",
    "soup = BeautifulSoup(html,'html.parser')"
   ]
  },
  {
   "attachments": {},
   "cell_type": "markdown",
   "metadata": {},
   "source": [
    "Python Mythology"
   ]
  },
  {
   "cell_type": "code",
   "execution_count": 1296,
   "metadata": {},
   "outputs": [],
   "source": [
    "url = 'https://en.wikipedia.org/wiki/Python_(mythology)'"
   ]
  },
  {
   "cell_type": "code",
   "execution_count": 1297,
   "metadata": {},
   "outputs": [],
   "source": [
    "#extraemos el HTML\n",
    "html = requests.get(url).content\n",
    "#parseamos\n",
    "soup = BeautifulSoup(html,'html.parser')"
   ]
  },
  {
   "attachments": {},
   "cell_type": "markdown",
   "metadata": {},
   "source": [
    "List of links"
   ]
  },
  {
   "cell_type": "code",
   "execution_count": 1298,
   "metadata": {},
   "outputs": [
    {
     "data": {
      "text/plain": [
       "['https://donate.wikimedia.org/wiki/Special:FundraiserRedirector?utm_source=donate&utm_medium=sidebar&utm_campaign=C13_en.wikipedia.org&uselang=en',\n",
       " 'https://af.wikipedia.org/wiki/Piton',\n",
       " 'https://az.wikipedia.org/wiki/Pithon']"
      ]
     },
     "execution_count": 1298,
     "metadata": {},
     "output_type": "execute_result"
    }
   ],
   "source": [
    "links = []\n",
    "for a in soup.find_all('a', href=True):\n",
    "    links.append(a['href'])\n",
    "\n",
    "result = []\n",
    "\n",
    "for l in links:\n",
    "    if l.startswith('https'):\n",
    "        result.append(l)\n",
    "\n",
    "result[:3]\n",
    "\n"
   ]
  },
  {
   "cell_type": "markdown",
   "metadata": {},
   "source": [
    "#### Number of Titles that have changed in the United States Code since its last release point "
   ]
  },
  {
   "cell_type": "code",
   "execution_count": 1299,
   "metadata": {},
   "outputs": [],
   "source": [
    "# This is the url you will scrape in this exercise\n",
    "url = 'http://uscode.house.gov/download/download.shtml'"
   ]
  },
  {
   "cell_type": "code",
   "execution_count": 1300,
   "metadata": {},
   "outputs": [],
   "source": [
    "#extraemos el HTML\n",
    "html = requests.get(url).content\n",
    "#parseamos\n",
    "soup = BeautifulSoup(html,'html.parser')"
   ]
  },
  {
   "cell_type": "code",
   "execution_count": 1301,
   "metadata": {},
   "outputs": [
    {
     "data": {
      "text/plain": [
       "54"
      ]
     },
     "execution_count": 1301,
     "metadata": {},
     "output_type": "execute_result"
    }
   ],
   "source": [
    "us = soup.find_all('div', class_='uscitem')\n",
    "\n",
    "a = []\n",
    "\n",
    "for u in us:\n",
    "    ok = u.text.strip()\n",
    "    if ok.startswith('Title'):\n",
    "        a.append(ok)\n",
    "\n",
    "len(a)"
   ]
  },
  {
   "cell_type": "markdown",
   "metadata": {},
   "source": [
    "#### A Python list with the top ten FBI's Most Wanted names "
   ]
  },
  {
   "cell_type": "code",
   "execution_count": 1302,
   "metadata": {},
   "outputs": [],
   "source": [
    "# This is the url you will scrape in this exercise\n",
    "url = 'https://www.fbi.gov/wanted/topten'"
   ]
  },
  {
   "cell_type": "code",
   "execution_count": 1303,
   "metadata": {},
   "outputs": [],
   "source": [
    "#extraemos el HTML\n",
    "html = requests.get(url).content\n",
    "#parseamos\n",
    "soup = BeautifulSoup(html,'html.parser')"
   ]
  },
  {
   "cell_type": "code",
   "execution_count": 1304,
   "metadata": {},
   "outputs": [
    {
     "data": {
      "text/plain": [
       "['BHADRESHKUMAR CHETANBHAI PATEL',\n",
       " 'WILVER VILLEGAS-PALOMINO',\n",
       " 'ALEJANDRO ROSALES CASTILLO',\n",
       " 'RUJA IGNATOVA',\n",
       " 'ARNOLDO JIMENEZ',\n",
       " 'OMAR ALEXANDER CARDENAS',\n",
       " 'ALEXIS FLORES',\n",
       " 'YULAN ADONAY ARCHAGA CARIAS',\n",
       " 'MICHAEL JAMES PRATT',\n",
       " 'JOSE RODOLFO VILLARREAL-HERNANDEZ']"
      ]
     },
     "execution_count": 1304,
     "metadata": {},
     "output_type": "execute_result"
    }
   ],
   "source": [
    "#your code \n",
    "fbi = soup.find_all('h3', class_='title')\n",
    "\n",
    "criminal = []\n",
    "\n",
    "for f in fbi:\n",
    "    criminal.append(f.text.strip())\n",
    "\n",
    "criminal"
   ]
  },
  {
   "cell_type": "markdown",
   "metadata": {},
   "source": [
    "####  20 latest earthquakes info (date, time, latitude, longitude and region name) by the EMSC as a pandas dataframe"
   ]
  },
  {
   "cell_type": "code",
   "execution_count": 1339,
   "metadata": {},
   "outputs": [],
   "source": [
    "# This is the url you will scrape in this exercise\n",
    "url = 'https://www.emsc-csem.org/Earthquake/'"
   ]
  },
  {
   "cell_type": "code",
   "execution_count": 1340,
   "metadata": {},
   "outputs": [],
   "source": [
    "#extraemos el HTML\n",
    "html = requests.get(url).content\n",
    "#parseamos\n",
    "soup = BeautifulSoup(html,'html.parser')"
   ]
  },
  {
   "cell_type": "code",
   "execution_count": 1341,
   "metadata": {},
   "outputs": [],
   "source": [
    "#your code\n",
    "tabla = soup.find_all('table')[3]\n",
    "cuerpo_tabla=tabla.find('tbody')\n",
    "filas=tabla.find_all('tr')[5:25]\n",
    "date_time=[]\n",
    "lat=[]\n",
    "lon=[]\n",
    "region=[]\n",
    "columnas=filas[0].find_all('td')\n",
    "\n",
    "\n",
    "for x in filas:\n",
    "    columnas=x.find_all('td')\n",
    "    date_time.append(columnas[3].find('a').text.replace('\\xa0\\xa0\\xa0', ' '))\n",
    "    lat.append(str(columnas[4].text.replace('\\xa0','')+' '+columnas[5].text.replace('\\xa0',''))) \n",
    "    lon.append(str(columnas[6].text.replace('\\xa0','')+' '+columnas[7].text.replace('\\xa0','')))\n",
    "    region.append(columnas[11].text.replace('\\xa0',''))\n",
    "\n",
    "\n"
   ]
  },
  {
   "cell_type": "code",
   "execution_count": 1342,
   "metadata": {},
   "outputs": [],
   "source": [
    "resultado=pd.DataFrame()\n",
    "resultado['Date & Time UTC']=date_time\n",
    "resultado['Latitude degrees']=lat\n",
    "resultado['Longitude degrees']=lon\n",
    "resultado['Region name']=region"
   ]
  },
  {
   "cell_type": "code",
   "execution_count": 1343,
   "metadata": {},
   "outputs": [
    {
     "data": {
      "text/plain": [
       "['CitizenResponse',\n",
       " 'Date & Time UTC',\n",
       " 'Latitude degrees',\n",
       " 'Longitude degrees',\n",
       " 'Depth km',\n",
       " 'Mag  [+]',\n",
       " 'Region name  [+]',\n",
       " 'Last update [-]']"
      ]
     },
     "execution_count": 1343,
     "metadata": {},
     "output_type": "execute_result"
    }
   ],
   "source": [
    "cols = soup.find_all('th', class_='th2')\n",
    "\n",
    "cola = []\n",
    "\n",
    "for c in cols:\n",
    "    cola.append(c.text.strip())\n",
    "\n",
    "cola"
   ]
  },
  {
   "cell_type": "code",
   "execution_count": 1344,
   "metadata": {},
   "outputs": [
    {
     "data": {
      "text/html": [
       "<div>\n",
       "<style scoped>\n",
       "    .dataframe tbody tr th:only-of-type {\n",
       "        vertical-align: middle;\n",
       "    }\n",
       "\n",
       "    .dataframe tbody tr th {\n",
       "        vertical-align: top;\n",
       "    }\n",
       "\n",
       "    .dataframe thead th {\n",
       "        text-align: right;\n",
       "    }\n",
       "</style>\n",
       "<table border=\"1\" class=\"dataframe\">\n",
       "  <thead>\n",
       "    <tr style=\"text-align: right;\">\n",
       "      <th></th>\n",
       "      <th>Date &amp; Time UTC</th>\n",
       "      <th>Latitude degrees</th>\n",
       "      <th>Longitude degrees</th>\n",
       "      <th>Region name</th>\n",
       "    </tr>\n",
       "  </thead>\n",
       "  <tbody>\n",
       "    <tr>\n",
       "      <th>0</th>\n",
       "      <td>2023-05-03 04:51:59.7</td>\n",
       "      <td>27.92 N</td>\n",
       "      <td>15.27 W</td>\n",
       "      <td>CANARY ISLANDS, SPAIN REGION</td>\n",
       "    </tr>\n",
       "    <tr>\n",
       "      <th>1</th>\n",
       "      <td>2023-05-03 04:49:24.0</td>\n",
       "      <td>13.19 N</td>\n",
       "      <td>87.66 W</td>\n",
       "      <td>GOLFO DE FONSECA, EL SALVADOR</td>\n",
       "    </tr>\n",
       "    <tr>\n",
       "      <th>2</th>\n",
       "      <td>2023-05-03 04:38:12.4</td>\n",
       "      <td>32.70 N</td>\n",
       "      <td>115.54 W</td>\n",
       "      <td>MEXICALI-CALEXICO AREA, CALIF.</td>\n",
       "    </tr>\n",
       "    <tr>\n",
       "      <th>3</th>\n",
       "      <td>2023-05-03 04:22:57.8</td>\n",
       "      <td>19.36 N</td>\n",
       "      <td>155.02 W</td>\n",
       "      <td>ISLAND OF HAWAII, HAWAII</td>\n",
       "    </tr>\n",
       "    <tr>\n",
       "      <th>4</th>\n",
       "      <td>2023-05-03 04:15:50.9</td>\n",
       "      <td>38.11 N</td>\n",
       "      <td>37.09 E</td>\n",
       "      <td>CENTRAL TURKEY</td>\n",
       "    </tr>\n",
       "    <tr>\n",
       "      <th>5</th>\n",
       "      <td>2023-05-03 04:13:08.3</td>\n",
       "      <td>37.97 N</td>\n",
       "      <td>36.17 E</td>\n",
       "      <td>CENTRAL TURKEY</td>\n",
       "    </tr>\n",
       "    <tr>\n",
       "      <th>6</th>\n",
       "      <td>2023-05-03 04:07:37.0</td>\n",
       "      <td>32.97 S</td>\n",
       "      <td>72.13 W</td>\n",
       "      <td>OFFSHORE VALPARAISO, CHILE</td>\n",
       "    </tr>\n",
       "    <tr>\n",
       "      <th>7</th>\n",
       "      <td>2023-05-03 04:04:06.0</td>\n",
       "      <td>16.49 N</td>\n",
       "      <td>95.16 W</td>\n",
       "      <td>OAXACA, MEXICO</td>\n",
       "    </tr>\n",
       "    <tr>\n",
       "      <th>8</th>\n",
       "      <td>2023-05-03 03:53:52.6</td>\n",
       "      <td>36.66 N</td>\n",
       "      <td>71.09 E</td>\n",
       "      <td>HINDU KUSH REGION, AFGHANISTAN</td>\n",
       "    </tr>\n",
       "    <tr>\n",
       "      <th>9</th>\n",
       "      <td>2023-05-03 03:27:13.3</td>\n",
       "      <td>38.23 N</td>\n",
       "      <td>37.19 E</td>\n",
       "      <td>CENTRAL TURKEY</td>\n",
       "    </tr>\n",
       "    <tr>\n",
       "      <th>10</th>\n",
       "      <td>2023-05-03 03:14:17.8</td>\n",
       "      <td>36.81 N</td>\n",
       "      <td>121.54 W</td>\n",
       "      <td>CENTRAL CALIFORNIA</td>\n",
       "    </tr>\n",
       "    <tr>\n",
       "      <th>11</th>\n",
       "      <td>2023-05-03 03:04:36.5</td>\n",
       "      <td>39.59 N</td>\n",
       "      <td>20.64 E</td>\n",
       "      <td>GREECE</td>\n",
       "    </tr>\n",
       "    <tr>\n",
       "      <th>12</th>\n",
       "      <td>2023-05-03 02:58:07.2</td>\n",
       "      <td>34.52 N</td>\n",
       "      <td>97.20 W</td>\n",
       "      <td>OKLAHOMA</td>\n",
       "    </tr>\n",
       "    <tr>\n",
       "      <th>13</th>\n",
       "      <td>2023-05-03 02:53:56.6</td>\n",
       "      <td>38.86 N</td>\n",
       "      <td>15.29 E</td>\n",
       "      <td>SICILY, ITALY</td>\n",
       "    </tr>\n",
       "    <tr>\n",
       "      <th>14</th>\n",
       "      <td>2023-05-03 02:40:02.0</td>\n",
       "      <td>12.53 N</td>\n",
       "      <td>88.03 W</td>\n",
       "      <td>NEAR COAST OF NICARAGUA</td>\n",
       "    </tr>\n",
       "    <tr>\n",
       "      <th>15</th>\n",
       "      <td>2023-05-03 02:21:35.4</td>\n",
       "      <td>36.19 N</td>\n",
       "      <td>35.97 E</td>\n",
       "      <td>CENTRAL TURKEY</td>\n",
       "    </tr>\n",
       "    <tr>\n",
       "      <th>16</th>\n",
       "      <td>2023-05-03 02:18:27.5</td>\n",
       "      <td>37.99 N</td>\n",
       "      <td>37.91 E</td>\n",
       "      <td>CENTRAL TURKEY</td>\n",
       "    </tr>\n",
       "    <tr>\n",
       "      <th>17</th>\n",
       "      <td>2023-05-03 02:13:14.9</td>\n",
       "      <td>41.67 N</td>\n",
       "      <td>144.39 E</td>\n",
       "      <td>HOKKAIDO, JAPAN REGION</td>\n",
       "    </tr>\n",
       "    <tr>\n",
       "      <th>18</th>\n",
       "      <td>2023-05-03 02:12:30.5</td>\n",
       "      <td>9.43 N</td>\n",
       "      <td>78.63 W</td>\n",
       "      <td>PANAMA</td>\n",
       "    </tr>\n",
       "    <tr>\n",
       "      <th>19</th>\n",
       "      <td>2023-05-03 02:11:41.0</td>\n",
       "      <td>33.29 S</td>\n",
       "      <td>71.93 W</td>\n",
       "      <td>OFFSHORE VALPARAISO, CHILE</td>\n",
       "    </tr>\n",
       "  </tbody>\n",
       "</table>\n",
       "</div>"
      ],
      "text/plain": [
       "          Date & Time UTC Latitude degrees Longitude degrees   \n",
       "0   2023-05-03 04:51:59.7          27.92 N           15.27 W  \\\n",
       "1   2023-05-03 04:49:24.0          13.19 N           87.66 W   \n",
       "2   2023-05-03 04:38:12.4          32.70 N          115.54 W   \n",
       "3   2023-05-03 04:22:57.8          19.36 N          155.02 W   \n",
       "4   2023-05-03 04:15:50.9          38.11 N           37.09 E   \n",
       "5   2023-05-03 04:13:08.3          37.97 N           36.17 E   \n",
       "6   2023-05-03 04:07:37.0          32.97 S           72.13 W   \n",
       "7   2023-05-03 04:04:06.0          16.49 N           95.16 W   \n",
       "8   2023-05-03 03:53:52.6          36.66 N           71.09 E   \n",
       "9   2023-05-03 03:27:13.3          38.23 N           37.19 E   \n",
       "10  2023-05-03 03:14:17.8          36.81 N          121.54 W   \n",
       "11  2023-05-03 03:04:36.5          39.59 N           20.64 E   \n",
       "12  2023-05-03 02:58:07.2          34.52 N           97.20 W   \n",
       "13  2023-05-03 02:53:56.6          38.86 N           15.29 E   \n",
       "14  2023-05-03 02:40:02.0          12.53 N           88.03 W   \n",
       "15  2023-05-03 02:21:35.4          36.19 N           35.97 E   \n",
       "16  2023-05-03 02:18:27.5          37.99 N           37.91 E   \n",
       "17  2023-05-03 02:13:14.9          41.67 N          144.39 E   \n",
       "18  2023-05-03 02:12:30.5           9.43 N           78.63 W   \n",
       "19  2023-05-03 02:11:41.0          33.29 S           71.93 W   \n",
       "\n",
       "                       Region name  \n",
       "0     CANARY ISLANDS, SPAIN REGION  \n",
       "1    GOLFO DE FONSECA, EL SALVADOR  \n",
       "2   MEXICALI-CALEXICO AREA, CALIF.  \n",
       "3         ISLAND OF HAWAII, HAWAII  \n",
       "4                   CENTRAL TURKEY  \n",
       "5                   CENTRAL TURKEY  \n",
       "6       OFFSHORE VALPARAISO, CHILE  \n",
       "7                   OAXACA, MEXICO  \n",
       "8   HINDU KUSH REGION, AFGHANISTAN  \n",
       "9                   CENTRAL TURKEY  \n",
       "10              CENTRAL CALIFORNIA  \n",
       "11                          GREECE  \n",
       "12                        OKLAHOMA  \n",
       "13                   SICILY, ITALY  \n",
       "14         NEAR COAST OF NICARAGUA  \n",
       "15                  CENTRAL TURKEY  \n",
       "16                  CENTRAL TURKEY  \n",
       "17          HOKKAIDO, JAPAN REGION  \n",
       "18                          PANAMA  \n",
       "19      OFFSHORE VALPARAISO, CHILE  "
      ]
     },
     "execution_count": 1344,
     "metadata": {},
     "output_type": "execute_result"
    }
   ],
   "source": [
    "resultado"
   ]
  },
  {
   "cell_type": "markdown",
   "metadata": {},
   "source": [
    "#### Display the date, days, title, city, country of next 25 hackathon events as a Pandas dataframe table"
   ]
  },
  {
   "cell_type": "code",
   "execution_count": 1345,
   "metadata": {},
   "outputs": [],
   "source": [
    "# This is the url you will scrape in this exercise\n",
    "url ='https://hackevents.co/hackathons'"
   ]
  },
  {
   "cell_type": "code",
   "execution_count": 1346,
   "metadata": {},
   "outputs": [],
   "source": [
    "#your code"
   ]
  },
  {
   "cell_type": "markdown",
   "metadata": {},
   "source": [
    "#### Count number of tweets by a given Twitter account."
   ]
  },
  {
   "cell_type": "markdown",
   "metadata": {},
   "source": [
    "You will need to include a ***try/except block*** for account names not found. \n",
    "<br>***Hint:*** the program should count the number of tweets for any provided account"
   ]
  },
  {
   "cell_type": "code",
   "execution_count": 1347,
   "metadata": {},
   "outputs": [],
   "source": [
    "# This is the url you will scrape in this exercise \n",
    "# You will need to add the account credentials to this url\n",
    "url = 'https://twitter.com/NASA'"
   ]
  },
  {
   "cell_type": "code",
   "execution_count": 1348,
   "metadata": {},
   "outputs": [],
   "source": [
    "\n",
    "#extraemos el HTML\n",
    "html = requests.get(url).content\n",
    "#parseamos\n",
    "soup = BeautifulSoup(html,'html.parser')"
   ]
  },
  {
   "cell_type": "code",
   "execution_count": 1349,
   "metadata": {},
   "outputs": [],
   "source": [
    "tuit = soup.find('div').text.split()\n"
   ]
  },
  {
   "cell_type": "markdown",
   "metadata": {},
   "source": [
    "#### Number of followers of a given twitter account"
   ]
  },
  {
   "cell_type": "markdown",
   "metadata": {},
   "source": [
    "You will need to include a ***try/except block*** in case account/s name not found. \n",
    "<br>***Hint:*** the program should count the followers for any provided account"
   ]
  },
  {
   "cell_type": "code",
   "execution_count": 1350,
   "metadata": {},
   "outputs": [],
   "source": [
    "# This is the url you will scrape in this exercise \n",
    "# You will need to add the account credentials to this url\n",
    "url = 'https://twitter.com/jasantaolalla?lang=es'"
   ]
  },
  {
   "cell_type": "code",
   "execution_count": 1351,
   "metadata": {},
   "outputs": [],
   "source": [
    "#your code\n",
    "#extraemos el HTML\n",
    "html = requests.get(url).content\n",
    "#parseamos\n",
    "soup = BeautifulSoup(html,'html.parser')"
   ]
  },
  {
   "cell_type": "code",
   "execution_count": 1352,
   "metadata": {},
   "outputs": [
    {
     "data": {
      "text/plain": [
       "'Something went wrong, but don’t fret — let’s give it another shot.'"
      ]
     },
     "execution_count": 1352,
     "metadata": {},
     "output_type": "execute_result"
    }
   ],
   "source": [
    "ja = soup.find('span')\n",
    "text = ja.text\n",
    "\n",
    "text"
   ]
  },
  {
   "cell_type": "markdown",
   "metadata": {},
   "source": [
    "#### List all language names and number of related articles in the order they appear in wikipedia.org"
   ]
  },
  {
   "cell_type": "code",
   "execution_count": 1353,
   "metadata": {},
   "outputs": [],
   "source": [
    "# This is the url you will scrape in this exercise\n",
    "url = 'https://www.wikipedia.org/'"
   ]
  },
  {
   "cell_type": "code",
   "execution_count": 1354,
   "metadata": {},
   "outputs": [],
   "source": [
    "#your code\n",
    "#extraemos el HTML\n",
    "html = requests.get(url).content\n",
    "#parseamos\n",
    "soup = BeautifulSoup(html,'html.parser')"
   ]
  },
  {
   "cell_type": "code",
   "execution_count": 1355,
   "metadata": {},
   "outputs": [],
   "source": [
    "central = soup.find_all('div', class_='central-featured')\n",
    "\n",
    "idioma = []\n",
    "\n",
    "for c in central:\n",
    "    idioma.append(c.text.strip())\n",
    "\n",
    "idioma = [i.split('\\n') for i in idioma]\n",
    "\n",
    "#esta opción es chapuzera"
   ]
  },
  {
   "cell_type": "code",
   "execution_count": 1356,
   "metadata": {},
   "outputs": [
    {
     "data": {
      "text/plain": [
       "['English',\n",
       " 'Русский',\n",
       " '日本語',\n",
       " 'Deutsch',\n",
       " 'Español',\n",
       " 'Français',\n",
       " 'Italiano',\n",
       " '中文',\n",
       " 'فارسی',\n",
       " 'Português']"
      ]
     },
     "execution_count": 1356,
     "metadata": {},
     "output_type": "execute_result"
    }
   ],
   "source": [
    "pruebas = soup.find_all('strong')\n",
    "\n",
    "pole = []\n",
    "\n",
    "for p in pruebas:\n",
    "    pole.append(p.text.strip())\n",
    "\n",
    "pole.pop(0)\n",
    "pole.pop()\n",
    "\n",
    "pole"
   ]
  },
  {
   "cell_type": "markdown",
   "metadata": {},
   "source": [
    "#### A list with the different kind of datasets available in data.gov.uk "
   ]
  },
  {
   "cell_type": "code",
   "execution_count": 1357,
   "metadata": {},
   "outputs": [],
   "source": [
    "# This is the url you will scrape in this exercise\n",
    "url = 'https://data.gov.uk/'"
   ]
  },
  {
   "cell_type": "code",
   "execution_count": 1358,
   "metadata": {},
   "outputs": [],
   "source": [
    "#your code \n",
    "#extraemos el HTML\n",
    "html = requests.get(url).content\n",
    "#parseamos\n",
    "soup = BeautifulSoup(html,'html.parser')"
   ]
  },
  {
   "cell_type": "code",
   "execution_count": 1359,
   "metadata": {},
   "outputs": [
    {
     "data": {
      "text/plain": [
       "['Business and economy',\n",
       " 'Crime and justice',\n",
       " 'Defence',\n",
       " 'Education',\n",
       " 'Environment',\n",
       " 'Government',\n",
       " 'Government spending',\n",
       " 'Health',\n",
       " 'Mapping',\n",
       " 'Society',\n",
       " 'Towns and cities',\n",
       " 'Transport',\n",
       " 'Digital service performance',\n",
       " 'Government reference data']"
      ]
     },
     "execution_count": 1359,
     "metadata": {},
     "output_type": "execute_result"
    }
   ],
   "source": [
    "gov = soup.find_all('h3')\n",
    "\n",
    "titl = []\n",
    "\n",
    "for g in gov:\n",
    "    titl.append(g.text.strip())\n",
    "\n",
    "titl"
   ]
  },
  {
   "cell_type": "markdown",
   "metadata": {},
   "source": [
    "#### Top 10 languages by number of native speakers stored in a Pandas Dataframe"
   ]
  },
  {
   "cell_type": "code",
   "execution_count": 1360,
   "metadata": {},
   "outputs": [],
   "source": [
    "# This is the url you will scrape in this exercise\n",
    "url = 'https://en.wikipedia.org/wiki/List_of_languages_by_number_of_native_speakers'"
   ]
  },
  {
   "cell_type": "code",
   "execution_count": 1361,
   "metadata": {},
   "outputs": [],
   "source": [
    "#your code\n",
    "html = requests.get(url).content\n",
    "#parseamos\n",
    "soup = BeautifulSoup(html,'html.parser')\n",
    "tabla = soup.find('table')\n",
    "filas=tabla.find_all('tr')\n",
    "primeras_10=filas[1:10]\n",
    "\n",
    "lenguaje=[]\n",
    "Numero_hablantes=[]\n",
    "Familia_lenguaje=[]\n",
    "Branch=[]\n",
    "columnas=primeras_10[0].find_all('td')\n",
    "columnas[0].text.replace('\\n','')\n",
    "\n",
    "for x in primeras_10:\n",
    "    columnas=x.find_all('td')\n",
    "    lenguaje.append(columnas[0].text.replace('\\n',''))\n",
    "    Numero_hablantes.append(columnas[1].text.replace('\\n',''))\n",
    "    Familia_lenguaje.append(columnas[2].text.replace('\\n',''))\n",
    "    Branch.append(columnas[3].text.replace('\\n',''))\n",
    "\n",
    "resultado=pd.DataFrame()\n",
    "resultado['Lenguaje']=lenguaje\n",
    "resultado['Nº Hablantes']=Numero_hablantes\n",
    "resultado['Fam Lenguaje']=Familia_lenguaje\n",
    "resultado['Branch']=Branch\n",
    "\n"
   ]
  },
  {
   "cell_type": "code",
   "execution_count": 1362,
   "metadata": {},
   "outputs": [
    {
     "data": {
      "text/html": [
       "<div>\n",
       "<style scoped>\n",
       "    .dataframe tbody tr th:only-of-type {\n",
       "        vertical-align: middle;\n",
       "    }\n",
       "\n",
       "    .dataframe tbody tr th {\n",
       "        vertical-align: top;\n",
       "    }\n",
       "\n",
       "    .dataframe thead th {\n",
       "        text-align: right;\n",
       "    }\n",
       "</style>\n",
       "<table border=\"1\" class=\"dataframe\">\n",
       "  <thead>\n",
       "    <tr style=\"text-align: right;\">\n",
       "      <th></th>\n",
       "      <th>Lenguaje</th>\n",
       "      <th>Nº Hablantes</th>\n",
       "      <th>Fam Lenguaje</th>\n",
       "      <th>Branch</th>\n",
       "    </tr>\n",
       "  </thead>\n",
       "  <tbody>\n",
       "    <tr>\n",
       "      <th>0</th>\n",
       "      <td>Mandarin Chinese(incl. Standard Chinese, but e...</td>\n",
       "      <td>939</td>\n",
       "      <td>Sino-Tibetan</td>\n",
       "      <td>Sinitic</td>\n",
       "    </tr>\n",
       "    <tr>\n",
       "      <th>1</th>\n",
       "      <td>Spanish</td>\n",
       "      <td>485</td>\n",
       "      <td>Indo-European</td>\n",
       "      <td>Romance</td>\n",
       "    </tr>\n",
       "    <tr>\n",
       "      <th>2</th>\n",
       "      <td>English</td>\n",
       "      <td>380</td>\n",
       "      <td>Indo-European</td>\n",
       "      <td>Germanic</td>\n",
       "    </tr>\n",
       "    <tr>\n",
       "      <th>3</th>\n",
       "      <td>Hindi(excl. Urdu, and other languages)</td>\n",
       "      <td>345</td>\n",
       "      <td>Indo-European</td>\n",
       "      <td>Indo-Aryan</td>\n",
       "    </tr>\n",
       "    <tr>\n",
       "      <th>4</th>\n",
       "      <td>Portuguese</td>\n",
       "      <td>236</td>\n",
       "      <td>Indo-European</td>\n",
       "      <td>Romance</td>\n",
       "    </tr>\n",
       "    <tr>\n",
       "      <th>5</th>\n",
       "      <td>Bengali</td>\n",
       "      <td>234</td>\n",
       "      <td>Indo-European</td>\n",
       "      <td>Indo-Aryan</td>\n",
       "    </tr>\n",
       "    <tr>\n",
       "      <th>6</th>\n",
       "      <td>Russian</td>\n",
       "      <td>147</td>\n",
       "      <td>Indo-European</td>\n",
       "      <td>Balto-Slavic</td>\n",
       "    </tr>\n",
       "    <tr>\n",
       "      <th>7</th>\n",
       "      <td>Japanese</td>\n",
       "      <td>123</td>\n",
       "      <td>Japonic</td>\n",
       "      <td>Japanese</td>\n",
       "    </tr>\n",
       "    <tr>\n",
       "      <th>8</th>\n",
       "      <td>Yue Chinese(incl. Cantonese)</td>\n",
       "      <td>86.1</td>\n",
       "      <td>Sino-Tibetan</td>\n",
       "      <td>Sinitic</td>\n",
       "    </tr>\n",
       "  </tbody>\n",
       "</table>\n",
       "</div>"
      ],
      "text/plain": [
       "                                            Lenguaje Nº Hablantes   \n",
       "0  Mandarin Chinese(incl. Standard Chinese, but e...          939  \\\n",
       "1                                            Spanish          485   \n",
       "2                                            English          380   \n",
       "3             Hindi(excl. Urdu, and other languages)          345   \n",
       "4                                         Portuguese          236   \n",
       "5                                            Bengali          234   \n",
       "6                                            Russian          147   \n",
       "7                                           Japanese          123   \n",
       "8                       Yue Chinese(incl. Cantonese)         86.1   \n",
       "\n",
       "    Fam Lenguaje        Branch  \n",
       "0   Sino-Tibetan       Sinitic  \n",
       "1  Indo-European       Romance  \n",
       "2  Indo-European      Germanic  \n",
       "3  Indo-European    Indo-Aryan  \n",
       "4  Indo-European       Romance  \n",
       "5  Indo-European    Indo-Aryan  \n",
       "6  Indo-European  Balto-Slavic  \n",
       "7        Japonic      Japanese  \n",
       "8   Sino-Tibetan       Sinitic  "
      ]
     },
     "execution_count": 1362,
     "metadata": {},
     "output_type": "execute_result"
    }
   ],
   "source": [
    "resultado"
   ]
  },
  {
   "cell_type": "markdown",
   "metadata": {},
   "source": [
    "### BONUS QUESTIONS"
   ]
  },
  {
   "cell_type": "markdown",
   "metadata": {},
   "source": [
    "#### Scrape a certain number of tweets of a given Twitter account."
   ]
  },
  {
   "cell_type": "code",
   "execution_count": 1363,
   "metadata": {},
   "outputs": [],
   "source": [
    "# This is the url you will scrape in this exercise \n",
    "# You will need to add the account credentials to this url\n",
    "url = 'https://twitter.com/'"
   ]
  },
  {
   "cell_type": "code",
   "execution_count": 1364,
   "metadata": {},
   "outputs": [],
   "source": [
    "# your code\n",
    "#your code\n",
    "\n",
    "\n"
   ]
  },
  {
   "cell_type": "markdown",
   "metadata": {},
   "source": [
    "#### IMDB's Top 250 data (movie name, Initial release, director name and stars) as a pandas dataframe"
   ]
  },
  {
   "cell_type": "code",
   "execution_count": 1599,
   "metadata": {},
   "outputs": [],
   "source": [
    "# This is the url you will scrape in this exercise \n",
    "url = 'https://www.imdb.com/chart/top'\n",
    "\n",
    "html = requests.get(url).content\n",
    "#parseamos\n",
    "soup_imbd = BeautifulSoup(html,'html.parser')"
   ]
  },
  {
   "cell_type": "code",
   "execution_count": 1600,
   "metadata": {},
   "outputs": [
    {
     "data": {
      "text/plain": [
       "'1.\\n      Cadena perpetua\\n(1994)'"
      ]
     },
     "execution_count": 1600,
     "metadata": {},
     "output_type": "execute_result"
    }
   ],
   "source": [
    "# your code\n",
    "imbd = soup_imbd.find('table')\n",
    "filas=imbd.find_all('tr') #filas\n",
    "primeras_250=filas[1:250]\n",
    "\n",
    "primeras_250[0].text #primera que interesa el slicing es bueno\n",
    "\n",
    "hola = []\n",
    "\n",
    "for p in primeras_250:\n",
    "    hola.append(p.text.strip())\n",
    "    \n",
    "\n",
    "primeras_250[0]\n",
    "\n",
    "title=[]\n",
    "release=[]\n",
    "\n",
    "columnas=primeras_250[0].find_all('td')\n",
    "columnas[1].text.strip()\n",
    "\n",
    "\n",
    "\n"
   ]
  },
  {
   "cell_type": "code",
   "execution_count": 1601,
   "metadata": {},
   "outputs": [],
   "source": [
    "for p in primeras_250:\n",
    "    columnas=p.find_all('td')\n",
    "    titu=(columnas[1].text.replace('\\n','')).strip().split('  ')[-1]\n",
    "    title.append(titu)\n",
    "\n",
    "    fecha = titu.split('(')[1].replace(')', '')\n",
    "    release.append(fecha)"
   ]
  },
  {
   "cell_type": "code",
   "execution_count": 1602,
   "metadata": {},
   "outputs": [
    {
     "data": {
      "text/html": [
       "<div>\n",
       "<style scoped>\n",
       "    .dataframe tbody tr th:only-of-type {\n",
       "        vertical-align: middle;\n",
       "    }\n",
       "\n",
       "    .dataframe tbody tr th {\n",
       "        vertical-align: top;\n",
       "    }\n",
       "\n",
       "    .dataframe thead th {\n",
       "        text-align: right;\n",
       "    }\n",
       "</style>\n",
       "<table border=\"1\" class=\"dataframe\">\n",
       "  <thead>\n",
       "    <tr style=\"text-align: right;\">\n",
       "      <th></th>\n",
       "      <th>Film</th>\n",
       "      <th>Date</th>\n",
       "    </tr>\n",
       "  </thead>\n",
       "  <tbody>\n",
       "    <tr>\n",
       "      <th>0</th>\n",
       "      <td>Cadena perpetua(1994)</td>\n",
       "      <td>1994</td>\n",
       "    </tr>\n",
       "    <tr>\n",
       "      <th>1</th>\n",
       "      <td>El padrino(1972)</td>\n",
       "      <td>1972</td>\n",
       "    </tr>\n",
       "    <tr>\n",
       "      <th>2</th>\n",
       "      <td>El caballero oscuro(2008)</td>\n",
       "      <td>2008</td>\n",
       "    </tr>\n",
       "    <tr>\n",
       "      <th>3</th>\n",
       "      <td>El padrino (parte II)(1974)</td>\n",
       "      <td>parte II</td>\n",
       "    </tr>\n",
       "    <tr>\n",
       "      <th>4</th>\n",
       "      <td>12 hombres sin piedad(1957)</td>\n",
       "      <td>1957</td>\n",
       "    </tr>\n",
       "  </tbody>\n",
       "</table>\n",
       "</div>"
      ],
      "text/plain": [
       "                          Film      Date\n",
       "0        Cadena perpetua(1994)      1994\n",
       "1             El padrino(1972)      1972\n",
       "2    El caballero oscuro(2008)      2008\n",
       "3  El padrino (parte II)(1974)  parte II\n",
       "4  12 hombres sin piedad(1957)      1957"
      ]
     },
     "execution_count": 1602,
     "metadata": {},
     "output_type": "execute_result"
    }
   ],
   "source": [
    "resultado=pd.DataFrame()\n",
    "resultado['Film']=title\n",
    "resultado['Date']=release\n",
    "\n",
    "resultado.head()"
   ]
  },
  {
   "cell_type": "code",
   "execution_count": 1603,
   "metadata": {},
   "outputs": [
    {
     "data": {
      "text/plain": [
       "\"\\n\\ntitle=[]\\nrating=[]\\nrelease=[]\\ndirector=[]\\n\\nfor x in primeras_250:\\n    columnas=x.find_all('td')\\n    title.append(columnas[1].text.replace('\\n',''))\\n    rating.append(columnas[2].text.replace('\\n',''))\\n    release.append(columnas[3].text.replace('\\n',''))\\n    director.append(columnas[4].text.replace('\\n',''))\\n\\n    \""
      ]
     },
     "execution_count": 1603,
     "metadata": {},
     "output_type": "execute_result"
    }
   ],
   "source": [
    "'''\n",
    "\n",
    "title=[]\n",
    "rating=[]\n",
    "release=[]\n",
    "director=[]\n",
    "\n",
    "for x in primeras_250:\n",
    "    columnas=x.find_all('td')\n",
    "    title.append(columnas[1].text.replace('\\n',''))\n",
    "    rating.append(columnas[2].text.replace('\\n',''))\n",
    "    release.append(columnas[3].text.replace('\\n',''))\n",
    "    director.append(columnas[4].text.replace('\\n',''))\n",
    "\n",
    "    '''"
   ]
  },
  {
   "cell_type": "markdown",
   "metadata": {},
   "source": [
    "#### Movie name, year and a brief summary of the top 10 random movies (IMDB) as a pandas dataframe."
   ]
  },
  {
   "cell_type": "code",
   "execution_count": 1604,
   "metadata": {},
   "outputs": [],
   "source": [
    "#This is the url you will scrape in this exercise\n",
    "url = 'http://www.imdb.com/chart/top'"
   ]
  },
  {
   "cell_type": "code",
   "execution_count": 1605,
   "metadata": {},
   "outputs": [],
   "source": [
    "#your code"
   ]
  },
  {
   "cell_type": "markdown",
   "metadata": {},
   "source": [
    "#### Find the live weather report (temperature, wind speed, description and weather) of a given city."
   ]
  },
  {
   "cell_type": "code",
   "execution_count": 1606,
   "metadata": {},
   "outputs": [],
   "source": [
    "#https://openweathermap.org/current\n",
    "#city = city=input('Enter the city:')\n",
    "#url = 'http://api.openweathermap.org/data/2.5/weather?'+'q='+city+'&APPID=b35975e18dc93725acb092f7272cc6b8&units=metric'"
   ]
  },
  {
   "cell_type": "code",
   "execution_count": 1607,
   "metadata": {},
   "outputs": [],
   "source": [
    "# your code"
   ]
  },
  {
   "cell_type": "markdown",
   "metadata": {},
   "source": [
    "#### Book name,price and stock availability as a pandas dataframe."
   ]
  },
  {
   "cell_type": "code",
   "execution_count": 1608,
   "metadata": {},
   "outputs": [],
   "source": [
    "# This is the url you will scrape in this exercise. \n",
    "# It is a fictional bookstore created to be scraped. \n",
    "url = 'http://books.toscrape.com/'"
   ]
  },
  {
   "cell_type": "code",
   "execution_count": 1609,
   "metadata": {},
   "outputs": [],
   "source": [
    "#your code"
   ]
  }
 ],
 "metadata": {
  "kernelspec": {
   "display_name": "Python 3",
   "language": "python",
   "name": "python3"
  },
  "language_info": {
   "codemirror_mode": {
    "name": "ipython",
    "version": 3
   },
   "file_extension": ".py",
   "mimetype": "text/x-python",
   "name": "python",
   "nbconvert_exporter": "python",
   "pygments_lexer": "ipython3",
   "version": "3.10.11"
  }
 },
 "nbformat": 4,
 "nbformat_minor": 2
}
