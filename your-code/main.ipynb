{
 "cells": [
  {
   "cell_type": "markdown",
   "metadata": {},
   "source": [
    "# Web Scraping Lab\n",
    "\n",
    "You will find in this notebook some scrapy exercises to practise your scraping skills.\n",
    "\n",
    "**Tips:**\n",
    "\n",
    "- Check the response status code for each request to ensure you have obtained the intended contennt.\n",
    "- Print the response text in each request to understand the kind of info you are getting and its format.\n",
    "- Check for patterns in the response text to extract the data/info requested in each question.\n",
    "- Visit each url and take a look at its source through Chrome DevTools. You'll need to identify the html tags, special class names etc. used for the html content you are expected to extract."
   ]
  },
  {
   "cell_type": "markdown",
   "metadata": {},
   "source": [
    "- [Requests library](http://docs.python-requests.org/en/master/#the-user-guide) documentation \n",
    "- [Beautiful Soup Doc](https://www.crummy.com/software/BeautifulSoup/bs4/doc/)\n",
    "- [Urllib](https://docs.python.org/3/library/urllib.html#module-urllib)\n",
    "- [re lib](https://docs.python.org/3/library/re.html)\n",
    "- [lxml lib](https://lxml.de/)\n",
    "- [Scrapy](https://scrapy.org/)\n",
    "- [List of HTTP status codes](https://en.wikipedia.org/wiki/List_of_HTTP_status_codes)\n",
    "- [HTML basics](http://www.simplehtmlguide.com/cheatsheet.php)\n",
    "- [CSS basics](https://www.cssbasics.com/#page_start)"
   ]
  },
  {
   "cell_type": "markdown",
   "metadata": {},
   "source": [
    "#### Below are the libraries and modules you may need. `requests`,  `BeautifulSoup` and `pandas` are imported for you. If you prefer to use additional libraries feel free to uncomment them."
   ]
  },
  {
   "cell_type": "code",
   "execution_count": 733,
   "metadata": {},
   "outputs": [],
   "source": [
    "import requests\n",
    "from bs4 import BeautifulSoup \n",
    "import pandas as pd\n",
    "# from pprint import pprint\n",
    "# from lxml import html\n",
    "# from lxml.html import fromstring\n",
    "# import urllib.request\n",
    "# from urllib.request import urlopen\n",
    "# import random\n",
    "# import re\n",
    "# import scrapy"
   ]
  },
  {
   "cell_type": "markdown",
   "metadata": {},
   "source": [
    "#### Download, parse (using BeautifulSoup), and print the content from the Trending Developers page from GitHub:"
   ]
  },
  {
   "cell_type": "code",
   "execution_count": 734,
   "metadata": {},
   "outputs": [],
   "source": [
    "# This is the url you will scrape in this exercise\n",
    "url = 'https://github.com/trending/developers'"
   ]
  },
  {
   "cell_type": "code",
   "execution_count": 735,
   "metadata": {},
   "outputs": [],
   "source": [
    "#extraemos el HTML\n",
    "html = requests.get(url).content\n",
    "#parseamos\n",
    "soup = BeautifulSoup(html,'html.parser')\n"
   ]
  },
  {
   "cell_type": "markdown",
   "metadata": {},
   "source": [
    "#### Display the names of the trending developers retrieved in the previous step.\n",
    "\n",
    "Your output should be a Python list of developer names. Each name should not contain any html tag.\n",
    "\n",
    "**Instructions:**\n",
    "\n",
    "1. Find out the html tag and class names used for the developer names. You can achieve this using Chrome DevTools.\n",
    "\n",
    "1. Use BeautifulSoup to extract all the html elements that contain the developer names.\n",
    "\n",
    "1. Use string manipulation techniques to replace whitespaces and linebreaks (i.e. `\\n`) in the *text* of each html element. Use a list to store the clean names.\n",
    "\n",
    "1. Print the list of names.\n",
    "\n",
    "Your output should look like below:\n",
    "\n",
    "```\n",
    "['trimstray (@trimstray)',\n",
    " 'joewalnes (JoeWalnes)',\n",
    " 'charlax (Charles-AxelDein)',\n",
    " 'ForrestKnight (ForrestKnight)',\n",
    " 'revery-ui (revery-ui)',\n",
    " 'alibaba (Alibaba)',\n",
    " 'Microsoft (Microsoft)',\n",
    " 'github (GitHub)',\n",
    " 'facebook (Facebook)',\n",
    " 'boazsegev (Bo)',\n",
    " 'google (Google)',\n",
    " 'cloudfetch',\n",
    " 'sindresorhus (SindreSorhus)',\n",
    " 'tensorflow',\n",
    " 'apache (TheApacheSoftwareFoundation)',\n",
    " 'DevonCrawford (DevonCrawford)',\n",
    " 'ARMmbed (ArmMbed)',\n",
    " 'vuejs (vuejs)',\n",
    " 'fastai (fast.ai)',\n",
    " 'QiShaoXuan (Qi)',\n",
    " 'joelparkerhenderson (JoelParkerHenderson)',\n",
    " 'torvalds (LinusTorvalds)',\n",
    " 'CyC2018',\n",
    " 'komeiji-satori (神楽坂覚々)',\n",
    " 'script-8']\n",
    " ```"
   ]
  },
  {
   "cell_type": "code",
   "execution_count": 736,
   "metadata": {},
   "outputs": [
    {
     "data": {
      "text/plain": [
       "'wader'"
      ]
     },
     "execution_count": 736,
     "metadata": {},
     "output_type": "execute_result"
    }
   ],
   "source": [
    "#intento sacar el primero nombre \n",
    "\n",
    "element = soup.find('h1', {'class': 'h3 lh-condensed'})\n",
    "\n",
    "#con el tag a accedo al nombre y dentro del atributo text se enucentra lo que busco\n",
    "\n",
    "name = element.find('a').text.strip()\n",
    "\n",
    "#nombre de usuario está en href del mismo tag a \n",
    "\n",
    "username = element.find('a')['href'][1:]\n",
    "username\n"
   ]
  },
  {
   "cell_type": "code",
   "execution_count": 737,
   "metadata": {},
   "outputs": [
    {
     "data": {
      "text/plain": [
       "['Mattias Wadman (wader)',\n",
       " 'lllyasviel (lllyasviel)',\n",
       " 'Lianmin Zheng (merrymercy)',\n",
       " 'Jerry Liu (jerryjliu)',\n",
       " 'Henrik Rydgård (hrydgard)',\n",
       " 'Harrison Chase (hwchase17)',\n",
       " 'Fons van der Plas (fonsp)',\n",
       " 'Steven Tey (steven-tey)',\n",
       " 'Andreas Thomas (chronark)',\n",
       " 'pilcrowOnPaper (pilcrowOnPaper)',\n",
       " 'Laurent Mazare (LaurentMazare)',\n",
       " 'yetone (yetone)',\n",
       " 'Tom Payne (twpayne)',\n",
       " 'Raphaël Benitte (plouc)',\n",
       " 'Dillon Nys (dnys1)',\n",
       " 'Will McGugan (willmcgugan)',\n",
       " 'Luca Palmieri (LukeMathWalker)',\n",
       " 'Payton Swick (sirbrillig)',\n",
       " 'Martí Climent (marticliment)',\n",
       " 'dgtlmoon (dgtlmoon)',\n",
       " 'Jelle Zijlstra (JelleZijlstra)',\n",
       " 'J. Nick Koston (bdraco)',\n",
       " 'Nuno Campos (nfcampos)',\n",
       " 'Juliette (jrfnl)',\n",
       " 'Lee Robinson (leerob)']"
      ]
     },
     "execution_count": 737,
     "metadata": {},
     "output_type": "execute_result"
    }
   ],
   "source": [
    "#ahora vamos a por todos así que metemos un find all\n",
    "\n",
    "elements = soup.find_all('h1', {'class': 'h3 lh-condensed'})\n",
    "\n",
    "trendy = []\n",
    "\n",
    "for e in elements:\n",
    "    name = e.find('a').text.strip()\n",
    "    user = e.find('a')['href'][1:]\n",
    "    trendy.append(f'{name} ({user})')\n",
    "\n",
    "elements\n",
    "\n",
    "trendy"
   ]
  },
  {
   "cell_type": "markdown",
   "metadata": {},
   "source": [
    "#### Display the trending Python repositories in GitHub\n",
    "\n",
    "The steps to solve this problem is similar to the previous one except that you need to find out the repository names instead of developer names."
   ]
  },
  {
   "cell_type": "code",
   "execution_count": 738,
   "metadata": {},
   "outputs": [],
   "source": [
    "# This is the url you will scrape in this exercise\n",
    "url = 'https://github.com/trending/python?since=daily'"
   ]
  },
  {
   "cell_type": "code",
   "execution_count": 739,
   "metadata": {},
   "outputs": [],
   "source": [
    "#extraemos el HTML\n",
    "html = requests.get(url).content\n",
    "#parseamos\n",
    "soup = BeautifulSoup(html,'html.parser')"
   ]
  },
  {
   "cell_type": "code",
   "execution_count": 740,
   "metadata": {},
   "outputs": [
    {
     "data": {
      "text/plain": [
       "'mlc-ai/mlc-llm'"
      ]
     },
     "execution_count": 740,
     "metadata": {},
     "output_type": "execute_result"
    }
   ],
   "source": [
    "#intento sacar el primero nombre \n",
    "\n",
    "element = soup.find('h2', {'class': 'h3 lh-condensed'})\n",
    "name = element.find('a').text.strip()\n",
    "clean = name.replace('\\n', '').strip().replace(' ', '')\n",
    "\n",
    "clean"
   ]
  },
  {
   "cell_type": "code",
   "execution_count": 741,
   "metadata": {},
   "outputs": [
    {
     "data": {
      "text/plain": [
       "['mlc-ai/mlc-llm',\n",
       " 'AIGC-Audio/AudioGPT',\n",
       " 'gventuri/pandas-ai',\n",
       " 'xtekky/gpt4free',\n",
       " 'irgolic/AutoPR',\n",
       " 'lamini-ai/lamini',\n",
       " 'deep-floyd/IF',\n",
       " 'deforum-art/deforum-stable-diffusion',\n",
       " 'home-assistant/core',\n",
       " 'cirediatpl/FigmaChain',\n",
       " 'IntelligenzaArtificiale/Free-AUTO-GPT-with-NO-API',\n",
       " 'mlc-ai/web-llm',\n",
       " 'AUTOMATIC1111/stable-diffusion-webui',\n",
       " 'ddPn08/Radiata',\n",
       " 'deforum-art/deforum-for-automatic1111-webui',\n",
       " 'ZrrSkywalker/LLaMA-Adapter',\n",
       " 'yt-dlp/yt-dlp',\n",
       " 'nlpxucan/WizardLM',\n",
       " 'GitHubDaily/ChatGPT-Prompt-Engineering-for-Developers-in-Chinese',\n",
       " 'georgia-tech-db/eva',\n",
       " 'xtekky/chatgpt-clone',\n",
       " 'mahdibland/V2RayAggregator',\n",
       " 'KurtBestor/Hitomi-Downloader',\n",
       " 'jaywalnut310/vits',\n",
       " 'isaiahbjork/Auto-GPT-Crypto-Plugin']"
      ]
     },
     "execution_count": 741,
     "metadata": {},
     "output_type": "execute_result"
    }
   ],
   "source": [
    "#ahora el resto\n",
    "elements = soup.find_all('h2', {'class': 'h3 lh-condensed'})\n",
    "\n",
    "trendy = []\n",
    "\n",
    "for e in elements:\n",
    "    name = e.find('a').text.strip()\n",
    "    clean = name.replace('\\n', '').strip().replace(' ', '')\n",
    "    trendy.append(clean)\n",
    "\n",
    "trendy"
   ]
  },
  {
   "cell_type": "markdown",
   "metadata": {},
   "source": [
    "#### Display all the image links from Walt Disney wikipedia page"
   ]
  },
  {
   "cell_type": "code",
   "execution_count": 742,
   "metadata": {},
   "outputs": [],
   "source": [
    "# This is the url you will scrape in this exercise\n",
    "url = 'https://en.wikipedia.org/wiki/Walt_Disney'"
   ]
  },
  {
   "cell_type": "code",
   "execution_count": 743,
   "metadata": {},
   "outputs": [],
   "source": [
    "#extraemos el HTML\n",
    "html = requests.get(url).content\n",
    "#parseamos\n",
    "soup = BeautifulSoup(html,'html.parser')"
   ]
  },
  {
   "cell_type": "code",
   "execution_count": 744,
   "metadata": {},
   "outputs": [
    {
     "data": {
      "text/plain": [
       "['/static/images/icons/wikipedia.png',\n",
       " '/static/images/mobile/copyright/wikipedia-wordmark-en.svg',\n",
       " '/static/images/mobile/copyright/wikipedia-tagline-en.svg']"
      ]
     },
     "execution_count": 744,
     "metadata": {},
     "output_type": "execute_result"
    }
   ],
   "source": [
    "link = []\n",
    "\n",
    "pics = soup.find_all('img')\n",
    "for pic in pics:\n",
    "    link.append(pic['src'])\n",
    "\n",
    "link[:3]"
   ]
  },
  {
   "cell_type": "markdown",
   "metadata": {},
   "source": [
    "#### Retrieve an arbitary Wikipedia page of \"Python\" and create a list of links on that page"
   ]
  },
  {
   "cell_type": "code",
   "execution_count": 745,
   "metadata": {},
   "outputs": [],
   "source": [
    "# This is the url you will scrape in this exercise\n",
    "url ='https://en.wikipedia.org/wiki/Python' "
   ]
  },
  {
   "cell_type": "code",
   "execution_count": 746,
   "metadata": {},
   "outputs": [],
   "source": [
    "#extraemos el HTML\n",
    "html = requests.get(url).content\n",
    "#parseamos\n",
    "soup = BeautifulSoup(html,'html.parser')"
   ]
  },
  {
   "attachments": {},
   "cell_type": "markdown",
   "metadata": {},
   "source": [
    "Python Mythology"
   ]
  },
  {
   "cell_type": "code",
   "execution_count": 747,
   "metadata": {},
   "outputs": [],
   "source": [
    "url = 'https://en.wikipedia.org/wiki/Python_(mythology)'"
   ]
  },
  {
   "cell_type": "code",
   "execution_count": 748,
   "metadata": {},
   "outputs": [],
   "source": [
    "#extraemos el HTML\n",
    "html = requests.get(url).content\n",
    "#parseamos\n",
    "soup = BeautifulSoup(html,'html.parser')"
   ]
  },
  {
   "attachments": {},
   "cell_type": "markdown",
   "metadata": {},
   "source": [
    "List of links"
   ]
  },
  {
   "cell_type": "code",
   "execution_count": 749,
   "metadata": {},
   "outputs": [
    {
     "data": {
      "text/plain": [
       "['https://donate.wikimedia.org/wiki/Special:FundraiserRedirector?utm_source=donate&utm_medium=sidebar&utm_campaign=C13_en.wikipedia.org&uselang=en',\n",
       " 'https://af.wikipedia.org/wiki/Piton',\n",
       " 'https://az.wikipedia.org/wiki/Pithon']"
      ]
     },
     "execution_count": 749,
     "metadata": {},
     "output_type": "execute_result"
    }
   ],
   "source": [
    "links = []\n",
    "for a in soup.find_all('a', href=True):\n",
    "    links.append(a['href'])\n",
    "\n",
    "result = []\n",
    "\n",
    "for l in links:\n",
    "    if l.startswith('https'):\n",
    "        result.append(l)\n",
    "\n",
    "result[:3]\n",
    "\n"
   ]
  },
  {
   "cell_type": "markdown",
   "metadata": {},
   "source": [
    "#### Number of Titles that have changed in the United States Code since its last release point "
   ]
  },
  {
   "cell_type": "code",
   "execution_count": 750,
   "metadata": {},
   "outputs": [],
   "source": [
    "# This is the url you will scrape in this exercise\n",
    "url = 'http://uscode.house.gov/download/download.shtml'"
   ]
  },
  {
   "cell_type": "code",
   "execution_count": 751,
   "metadata": {},
   "outputs": [],
   "source": [
    "#extraemos el HTML\n",
    "html = requests.get(url).content\n",
    "#parseamos\n",
    "soup = BeautifulSoup(html,'html.parser')"
   ]
  },
  {
   "cell_type": "code",
   "execution_count": 752,
   "metadata": {},
   "outputs": [
    {
     "data": {
      "text/plain": [
       "54"
      ]
     },
     "execution_count": 752,
     "metadata": {},
     "output_type": "execute_result"
    }
   ],
   "source": [
    "us = soup.find_all('div', class_='uscitem')\n",
    "\n",
    "a = []\n",
    "\n",
    "for u in us:\n",
    "    ok = u.text.strip()\n",
    "    if ok.startswith('Title'):\n",
    "        a.append(ok)\n",
    "\n",
    "len(a)"
   ]
  },
  {
   "cell_type": "markdown",
   "metadata": {},
   "source": [
    "#### A Python list with the top ten FBI's Most Wanted names "
   ]
  },
  {
   "cell_type": "code",
   "execution_count": 753,
   "metadata": {},
   "outputs": [],
   "source": [
    "# This is the url you will scrape in this exercise\n",
    "url = 'https://www.fbi.gov/wanted/topten'"
   ]
  },
  {
   "cell_type": "code",
   "execution_count": 754,
   "metadata": {},
   "outputs": [],
   "source": [
    "#extraemos el HTML\n",
    "html = requests.get(url).content\n",
    "#parseamos\n",
    "soup = BeautifulSoup(html,'html.parser')"
   ]
  },
  {
   "cell_type": "code",
   "execution_count": 755,
   "metadata": {},
   "outputs": [
    {
     "data": {
      "text/plain": [
       "['BHADRESHKUMAR CHETANBHAI PATEL',\n",
       " 'WILVER VILLEGAS-PALOMINO',\n",
       " 'ALEJANDRO ROSALES CASTILLO',\n",
       " 'RUJA IGNATOVA',\n",
       " 'ARNOLDO JIMENEZ',\n",
       " 'OMAR ALEXANDER CARDENAS',\n",
       " 'ALEXIS FLORES',\n",
       " 'YULAN ADONAY ARCHAGA CARIAS',\n",
       " 'MICHAEL JAMES PRATT',\n",
       " 'JOSE RODOLFO VILLARREAL-HERNANDEZ']"
      ]
     },
     "execution_count": 755,
     "metadata": {},
     "output_type": "execute_result"
    }
   ],
   "source": [
    "#your code \n",
    "fbi = soup.find_all('h3', class_='title')\n",
    "\n",
    "criminal = []\n",
    "\n",
    "for f in fbi:\n",
    "    criminal.append(f.text.strip())\n",
    "\n",
    "criminal"
   ]
  },
  {
   "cell_type": "markdown",
   "metadata": {},
   "source": [
    "####  20 latest earthquakes info (date, time, latitude, longitude and region name) by the EMSC as a pandas dataframe"
   ]
  },
  {
   "cell_type": "code",
   "execution_count": 1251,
   "metadata": {},
   "outputs": [],
   "source": [
    "# This is the url you will scrape in this exercise\n",
    "url = 'https://www.emsc-csem.org/Earthquake/'"
   ]
  },
  {
   "cell_type": "code",
   "execution_count": 1252,
   "metadata": {},
   "outputs": [],
   "source": [
    "#extraemos el HTML\n",
    "html = requests.get(url).content\n",
    "#parseamos\n",
    "soup = BeautifulSoup(html,'html.parser')"
   ]
  },
  {
   "cell_type": "code",
   "execution_count": 1253,
   "metadata": {},
   "outputs": [],
   "source": [
    "#your code\n",
    "tabla = soup.find_all('table')[3]\n",
    "cuerpo_tabla=tabla.find('tbody')\n",
    "filas=tabla.find_all('tr')[5:25]\n",
    "date_time=[]\n",
    "lat=[]\n",
    "lon=[]\n",
    "region=[]\n",
    "columnas=filas[0].find_all('td')\n",
    "\n",
    "\n",
    "for x in filas:\n",
    "    columnas=x.find_all('td')\n",
    "    date_time.append(columnas[3].find('a').text.replace('\\xa0\\xa0\\xa0', ' '))\n",
    "    lat.append(columnas[4].text.replace('\\xa0','')) \n",
    "    lon.append(columnas[6].text.replace('\\xa0',''))\n",
    "    region.append(columnas[11].text.replace('\\xa0',''))\n",
    "\n",
    "\n"
   ]
  },
  {
   "cell_type": "code",
   "execution_count": 1254,
   "metadata": {},
   "outputs": [],
   "source": [
    "resultado=pd.DataFrame()\n",
    "resultado['Date & Time UTC']=date_time\n",
    "resultado['Latitude degrees']=lat\n",
    "resultado['Longitude degrees']=lon\n",
    "resultado['Region name']=region"
   ]
  },
  {
   "cell_type": "code",
   "execution_count": 1255,
   "metadata": {},
   "outputs": [
    {
     "data": {
      "text/plain": [
       "['CitizenResponse',\n",
       " 'Date & Time UTC',\n",
       " 'Latitude degrees',\n",
       " 'Longitude degrees',\n",
       " 'Depth km',\n",
       " 'Mag  [+]',\n",
       " 'Region name  [+]',\n",
       " 'Last update [-]']"
      ]
     },
     "execution_count": 1255,
     "metadata": {},
     "output_type": "execute_result"
    }
   ],
   "source": [
    "cols = soup.find_all('th', class_='th2')\n",
    "\n",
    "cola = []\n",
    "\n",
    "for c in cols:\n",
    "    cola.append(c.text.strip())\n",
    "\n",
    "cola"
   ]
  },
  {
   "cell_type": "code",
   "execution_count": 1256,
   "metadata": {},
   "outputs": [
    {
     "data": {
      "text/html": [
       "<div>\n",
       "<style scoped>\n",
       "    .dataframe tbody tr th:only-of-type {\n",
       "        vertical-align: middle;\n",
       "    }\n",
       "\n",
       "    .dataframe tbody tr th {\n",
       "        vertical-align: top;\n",
       "    }\n",
       "\n",
       "    .dataframe thead th {\n",
       "        text-align: right;\n",
       "    }\n",
       "</style>\n",
       "<table border=\"1\" class=\"dataframe\">\n",
       "  <thead>\n",
       "    <tr style=\"text-align: right;\">\n",
       "      <th></th>\n",
       "      <th>Date &amp; Time UTC</th>\n",
       "      <th>Latitude degrees</th>\n",
       "      <th>Longitude degrees</th>\n",
       "      <th>Region name</th>\n",
       "    </tr>\n",
       "  </thead>\n",
       "  <tbody>\n",
       "    <tr>\n",
       "      <th>0</th>\n",
       "      <td>2023-05-02 22:10:08.8</td>\n",
       "      <td>40.38</td>\n",
       "      <td>125.01</td>\n",
       "      <td>OFFSHORE NORTHERN CALIFORNIA</td>\n",
       "    </tr>\n",
       "    <tr>\n",
       "      <th>1</th>\n",
       "      <td>2023-05-02 21:36:16.1</td>\n",
       "      <td>46.48</td>\n",
       "      <td>122.44</td>\n",
       "      <td>WASHINGTON</td>\n",
       "    </tr>\n",
       "    <tr>\n",
       "      <th>2</th>\n",
       "      <td>2023-05-02 21:31:00.7</td>\n",
       "      <td>38.36</td>\n",
       "      <td>37.79</td>\n",
       "      <td>CENTRAL TURKEY</td>\n",
       "    </tr>\n",
       "    <tr>\n",
       "      <th>3</th>\n",
       "      <td>2023-05-02 21:24:05.0</td>\n",
       "      <td>33.31</td>\n",
       "      <td>72.00</td>\n",
       "      <td>OFFSHORE VALPARAISO, CHILE</td>\n",
       "    </tr>\n",
       "    <tr>\n",
       "      <th>4</th>\n",
       "      <td>2023-05-02 21:22:02.0</td>\n",
       "      <td>28.11</td>\n",
       "      <td>87.32</td>\n",
       "      <td>WESTERN XIZANG</td>\n",
       "    </tr>\n",
       "    <tr>\n",
       "      <th>5</th>\n",
       "      <td>2023-05-02 21:21:36.2</td>\n",
       "      <td>21.82</td>\n",
       "      <td>68.59</td>\n",
       "      <td>ANTOFAGASTA, CHILE</td>\n",
       "    </tr>\n",
       "    <tr>\n",
       "      <th>6</th>\n",
       "      <td>2023-05-02 21:20:48.2</td>\n",
       "      <td>38.21</td>\n",
       "      <td>38.56</td>\n",
       "      <td>EASTERN TURKEY</td>\n",
       "    </tr>\n",
       "    <tr>\n",
       "      <th>7</th>\n",
       "      <td>2023-05-02 21:20:30.4</td>\n",
       "      <td>55.72</td>\n",
       "      <td>160.83</td>\n",
       "      <td>KAMCHATKA PENINSULA, RUSSIA</td>\n",
       "    </tr>\n",
       "    <tr>\n",
       "      <th>8</th>\n",
       "      <td>2023-05-02 20:56:32.7</td>\n",
       "      <td>37.86</td>\n",
       "      <td>36.32</td>\n",
       "      <td>CENTRAL TURKEY</td>\n",
       "    </tr>\n",
       "    <tr>\n",
       "      <th>9</th>\n",
       "      <td>2023-05-02 20:48:33.9</td>\n",
       "      <td>34.96</td>\n",
       "      <td>24.35</td>\n",
       "      <td>CRETE, GREECE</td>\n",
       "    </tr>\n",
       "    <tr>\n",
       "      <th>10</th>\n",
       "      <td>2023-05-02 20:34:30.0</td>\n",
       "      <td>36.60</td>\n",
       "      <td>141.00</td>\n",
       "      <td>NEAR EAST COAST OF HONSHU, JAPAN</td>\n",
       "    </tr>\n",
       "    <tr>\n",
       "      <th>11</th>\n",
       "      <td>2023-05-02 20:28:39.3</td>\n",
       "      <td>38.07</td>\n",
       "      <td>37.85</td>\n",
       "      <td>CENTRAL TURKEY</td>\n",
       "    </tr>\n",
       "    <tr>\n",
       "      <th>12</th>\n",
       "      <td>2023-05-02 20:22:30.2</td>\n",
       "      <td>44.42</td>\n",
       "      <td>115.19</td>\n",
       "      <td>SOUTHERN IDAHO</td>\n",
       "    </tr>\n",
       "    <tr>\n",
       "      <th>13</th>\n",
       "      <td>2023-05-02 20:20:13.1</td>\n",
       "      <td>47.37</td>\n",
       "      <td>6.92</td>\n",
       "      <td>SWITZERLAND</td>\n",
       "    </tr>\n",
       "    <tr>\n",
       "      <th>14</th>\n",
       "      <td>2023-05-02 20:16:12.1</td>\n",
       "      <td>37.88</td>\n",
       "      <td>36.51</td>\n",
       "      <td>CENTRAL TURKEY</td>\n",
       "    </tr>\n",
       "    <tr>\n",
       "      <th>15</th>\n",
       "      <td>2023-05-02 20:15:39.6</td>\n",
       "      <td>39.19</td>\n",
       "      <td>116.15</td>\n",
       "      <td>NEVADA</td>\n",
       "    </tr>\n",
       "    <tr>\n",
       "      <th>16</th>\n",
       "      <td>2023-05-02 20:15:30.0</td>\n",
       "      <td>13.29</td>\n",
       "      <td>87.80</td>\n",
       "      <td>EL SALVADOR</td>\n",
       "    </tr>\n",
       "    <tr>\n",
       "      <th>17</th>\n",
       "      <td>2023-05-02 20:09:59.3</td>\n",
       "      <td>4.06</td>\n",
       "      <td>142.78</td>\n",
       "      <td>NEW GUINEA, PAPUA NEW GUINEA</td>\n",
       "    </tr>\n",
       "    <tr>\n",
       "      <th>18</th>\n",
       "      <td>2023-05-02 20:04:52.0</td>\n",
       "      <td>8.17</td>\n",
       "      <td>118.03</td>\n",
       "      <td>SUMBAWA REGION, INDONESIA</td>\n",
       "    </tr>\n",
       "    <tr>\n",
       "      <th>19</th>\n",
       "      <td>2023-05-02 19:58:24.0</td>\n",
       "      <td>2.13</td>\n",
       "      <td>120.68</td>\n",
       "      <td>SULAWESI, INDONESIA</td>\n",
       "    </tr>\n",
       "  </tbody>\n",
       "</table>\n",
       "</div>"
      ],
      "text/plain": [
       "          Date & Time UTC Latitude degrees Longitude degrees   \n",
       "0   2023-05-02 22:10:08.8            40.38            125.01  \\\n",
       "1   2023-05-02 21:36:16.1            46.48            122.44   \n",
       "2   2023-05-02 21:31:00.7            38.36             37.79   \n",
       "3   2023-05-02 21:24:05.0            33.31             72.00   \n",
       "4   2023-05-02 21:22:02.0            28.11             87.32   \n",
       "5   2023-05-02 21:21:36.2            21.82             68.59   \n",
       "6   2023-05-02 21:20:48.2            38.21             38.56   \n",
       "7   2023-05-02 21:20:30.4            55.72            160.83   \n",
       "8   2023-05-02 20:56:32.7            37.86             36.32   \n",
       "9   2023-05-02 20:48:33.9            34.96             24.35   \n",
       "10  2023-05-02 20:34:30.0            36.60            141.00   \n",
       "11  2023-05-02 20:28:39.3            38.07             37.85   \n",
       "12  2023-05-02 20:22:30.2            44.42            115.19   \n",
       "13  2023-05-02 20:20:13.1            47.37              6.92   \n",
       "14  2023-05-02 20:16:12.1            37.88             36.51   \n",
       "15  2023-05-02 20:15:39.6            39.19            116.15   \n",
       "16  2023-05-02 20:15:30.0            13.29             87.80   \n",
       "17  2023-05-02 20:09:59.3             4.06            142.78   \n",
       "18  2023-05-02 20:04:52.0             8.17            118.03   \n",
       "19  2023-05-02 19:58:24.0             2.13            120.68   \n",
       "\n",
       "                         Region name  \n",
       "0       OFFSHORE NORTHERN CALIFORNIA  \n",
       "1                         WASHINGTON  \n",
       "2                     CENTRAL TURKEY  \n",
       "3         OFFSHORE VALPARAISO, CHILE  \n",
       "4                     WESTERN XIZANG  \n",
       "5                 ANTOFAGASTA, CHILE  \n",
       "6                     EASTERN TURKEY  \n",
       "7        KAMCHATKA PENINSULA, RUSSIA  \n",
       "8                     CENTRAL TURKEY  \n",
       "9                      CRETE, GREECE  \n",
       "10  NEAR EAST COAST OF HONSHU, JAPAN  \n",
       "11                    CENTRAL TURKEY  \n",
       "12                    SOUTHERN IDAHO  \n",
       "13                       SWITZERLAND  \n",
       "14                    CENTRAL TURKEY  \n",
       "15                            NEVADA  \n",
       "16                       EL SALVADOR  \n",
       "17      NEW GUINEA, PAPUA NEW GUINEA  \n",
       "18         SUMBAWA REGION, INDONESIA  \n",
       "19               SULAWESI, INDONESIA  "
      ]
     },
     "execution_count": 1256,
     "metadata": {},
     "output_type": "execute_result"
    }
   ],
   "source": [
    "resultado"
   ]
  },
  {
   "cell_type": "markdown",
   "metadata": {},
   "source": [
    "#### Display the date, days, title, city, country of next 25 hackathon events as a Pandas dataframe table"
   ]
  },
  {
   "cell_type": "code",
   "execution_count": 1257,
   "metadata": {},
   "outputs": [],
   "source": [
    "# This is the url you will scrape in this exercise\n",
    "url ='https://hackevents.co/hackathons'"
   ]
  },
  {
   "cell_type": "code",
   "execution_count": 1258,
   "metadata": {},
   "outputs": [],
   "source": [
    "#your code"
   ]
  },
  {
   "cell_type": "markdown",
   "metadata": {},
   "source": [
    "#### Count number of tweets by a given Twitter account."
   ]
  },
  {
   "cell_type": "markdown",
   "metadata": {},
   "source": [
    "You will need to include a ***try/except block*** for account names not found. \n",
    "<br>***Hint:*** the program should count the number of tweets for any provided account"
   ]
  },
  {
   "cell_type": "code",
   "execution_count": 1259,
   "metadata": {},
   "outputs": [],
   "source": [
    "# This is the url you will scrape in this exercise \n",
    "# You will need to add the account credentials to this url\n",
    "url = 'https://twitter.com/NASA'"
   ]
  },
  {
   "cell_type": "code",
   "execution_count": 1260,
   "metadata": {},
   "outputs": [],
   "source": [
    "\n",
    "#extraemos el HTML\n",
    "html = requests.get(url).content\n",
    "#parseamos\n",
    "soup = BeautifulSoup(html,'html.parser')"
   ]
  },
  {
   "cell_type": "code",
   "execution_count": 1261,
   "metadata": {},
   "outputs": [
    {
     "data": {
      "text/plain": [
       "['JavaScript',\n",
       " 'is',\n",
       " 'not',\n",
       " 'available.',\n",
       " 'We’ve',\n",
       " 'detected',\n",
       " 'that',\n",
       " 'JavaScript',\n",
       " 'is',\n",
       " 'disabled',\n",
       " 'in',\n",
       " 'this',\n",
       " 'browser.',\n",
       " 'Please',\n",
       " 'enable',\n",
       " 'JavaScript',\n",
       " 'or',\n",
       " 'switch',\n",
       " 'to',\n",
       " 'a',\n",
       " 'supported',\n",
       " 'browser',\n",
       " 'to',\n",
       " 'continue',\n",
       " 'using',\n",
       " 'twitter.com.',\n",
       " 'You',\n",
       " 'can',\n",
       " 'see',\n",
       " 'a',\n",
       " 'list',\n",
       " 'of',\n",
       " 'supported',\n",
       " 'browsers',\n",
       " 'in',\n",
       " 'our',\n",
       " 'Help',\n",
       " 'Center.',\n",
       " 'Help',\n",
       " 'Center',\n",
       " 'Terms',\n",
       " 'of',\n",
       " 'Service',\n",
       " 'Privacy',\n",
       " 'Policy',\n",
       " 'Cookie',\n",
       " 'Policy',\n",
       " 'Imprint',\n",
       " 'Ads',\n",
       " 'info',\n",
       " '©',\n",
       " '2023',\n",
       " 'X',\n",
       " 'Corp.']"
      ]
     },
     "execution_count": 1261,
     "metadata": {},
     "output_type": "execute_result"
    }
   ],
   "source": [
    "tuit = soup.find('div').text.split()\n"
   ]
  },
  {
   "cell_type": "markdown",
   "metadata": {},
   "source": [
    "#### Number of followers of a given twitter account"
   ]
  },
  {
   "cell_type": "markdown",
   "metadata": {},
   "source": [
    "You will need to include a ***try/except block*** in case account/s name not found. \n",
    "<br>***Hint:*** the program should count the followers for any provided account"
   ]
  },
  {
   "cell_type": "code",
   "execution_count": 1262,
   "metadata": {},
   "outputs": [],
   "source": [
    "# This is the url you will scrape in this exercise \n",
    "# You will need to add the account credentials to this url\n",
    "url = 'https://twitter.com/jasantaolalla?lang=es'"
   ]
  },
  {
   "cell_type": "code",
   "execution_count": 1263,
   "metadata": {},
   "outputs": [],
   "source": [
    "#your code\n",
    "#extraemos el HTML\n",
    "html = requests.get(url).content\n",
    "#parseamos\n",
    "soup = BeautifulSoup(html,'html.parser')"
   ]
  },
  {
   "cell_type": "code",
   "execution_count": 1264,
   "metadata": {},
   "outputs": [
    {
     "data": {
      "text/plain": [
       "'Something went wrong, but don’t fret — let’s give it another shot.'"
      ]
     },
     "execution_count": 1264,
     "metadata": {},
     "output_type": "execute_result"
    }
   ],
   "source": [
    "ja = soup.find('span')\n",
    "text = ja.text\n",
    "\n",
    "text"
   ]
  },
  {
   "cell_type": "markdown",
   "metadata": {},
   "source": [
    "#### List all language names and number of related articles in the order they appear in wikipedia.org"
   ]
  },
  {
   "cell_type": "code",
   "execution_count": 1265,
   "metadata": {},
   "outputs": [],
   "source": [
    "# This is the url you will scrape in this exercise\n",
    "url = 'https://www.wikipedia.org/'"
   ]
  },
  {
   "cell_type": "code",
   "execution_count": 1266,
   "metadata": {},
   "outputs": [],
   "source": [
    "#your code\n",
    "#extraemos el HTML\n",
    "html = requests.get(url).content\n",
    "#parseamos\n",
    "soup = BeautifulSoup(html,'html.parser')"
   ]
  },
  {
   "cell_type": "code",
   "execution_count": 1267,
   "metadata": {},
   "outputs": [],
   "source": [
    "central = soup.find_all('div', class_='central-featured')\n",
    "\n",
    "idioma = []\n",
    "\n",
    "for c in central:\n",
    "    idioma.append(c.text.strip())\n",
    "\n",
    "idioma = [i.split('\\n') for i in idioma]\n",
    "\n",
    "#esta opción es chapuzera"
   ]
  },
  {
   "cell_type": "code",
   "execution_count": 1268,
   "metadata": {},
   "outputs": [
    {
     "data": {
      "text/plain": [
       "['English',\n",
       " 'Русский',\n",
       " '日本語',\n",
       " 'Deutsch',\n",
       " 'Español',\n",
       " 'Français',\n",
       " 'Italiano',\n",
       " '中文',\n",
       " 'فارسی',\n",
       " 'Português']"
      ]
     },
     "execution_count": 1268,
     "metadata": {},
     "output_type": "execute_result"
    }
   ],
   "source": [
    "pruebas = soup.find_all('strong')\n",
    "\n",
    "pole = []\n",
    "\n",
    "for p in pruebas:\n",
    "    pole.append(p.text.strip())\n",
    "\n",
    "pole.pop(0)\n",
    "pole.pop()\n",
    "\n",
    "pole"
   ]
  },
  {
   "cell_type": "markdown",
   "metadata": {},
   "source": [
    "#### A list with the different kind of datasets available in data.gov.uk "
   ]
  },
  {
   "cell_type": "code",
   "execution_count": 1269,
   "metadata": {},
   "outputs": [],
   "source": [
    "# This is the url you will scrape in this exercise\n",
    "url = 'https://data.gov.uk/'"
   ]
  },
  {
   "cell_type": "code",
   "execution_count": 1270,
   "metadata": {},
   "outputs": [],
   "source": [
    "#your code \n",
    "#extraemos el HTML\n",
    "html = requests.get(url).content\n",
    "#parseamos\n",
    "soup = BeautifulSoup(html,'html.parser')"
   ]
  },
  {
   "cell_type": "code",
   "execution_count": 1271,
   "metadata": {},
   "outputs": [
    {
     "data": {
      "text/plain": [
       "['Business and economy',\n",
       " 'Crime and justice',\n",
       " 'Defence',\n",
       " 'Education',\n",
       " 'Environment',\n",
       " 'Government',\n",
       " 'Government spending',\n",
       " 'Health',\n",
       " 'Mapping',\n",
       " 'Society',\n",
       " 'Towns and cities',\n",
       " 'Transport',\n",
       " 'Digital service performance',\n",
       " 'Government reference data']"
      ]
     },
     "execution_count": 1271,
     "metadata": {},
     "output_type": "execute_result"
    }
   ],
   "source": [
    "gov = soup.find_all('h3')\n",
    "\n",
    "tit = []\n",
    "\n",
    "for g in gov:\n",
    "    tit.append(g.text.strip())\n",
    "\n",
    "tit"
   ]
  },
  {
   "cell_type": "markdown",
   "metadata": {},
   "source": [
    "#### Top 10 languages by number of native speakers stored in a Pandas Dataframe"
   ]
  },
  {
   "cell_type": "code",
   "execution_count": 1272,
   "metadata": {},
   "outputs": [],
   "source": [
    "# This is the url you will scrape in this exercise\n",
    "url = 'https://en.wikipedia.org/wiki/List_of_languages_by_number_of_native_speakers'"
   ]
  },
  {
   "cell_type": "code",
   "execution_count": 1273,
   "metadata": {},
   "outputs": [],
   "source": [
    "#your code\n",
    "html = requests.get(url).content\n",
    "#parseamos\n",
    "soup = BeautifulSoup(html,'html.parser')\n",
    "tabla = soup.find('table')\n",
    "filas=tabla.find_all('tr')\n",
    "primeras_10=filas[1:10]\n",
    "\n",
    "lenguaje=[]\n",
    "Numero_hablantes=[]\n",
    "Familia_lenguaje=[]\n",
    "Branch=[]\n",
    "columnas=primeras_10[0].find_all('td')\n",
    "columnas[0].text.replace('\\n','')\n",
    "\n",
    "for x in primeras_10:\n",
    "    columnas=x.find_all('td')\n",
    "    lenguaje.append(columnas[0].text.replace('\\n',''))\n",
    "    Numero_hablantes.append(columnas[1].text.replace('\\n',''))\n",
    "    Familia_lenguaje.append(columnas[2].text.replace('\\n',''))\n",
    "    Branch.append(columnas[3].text.replace('\\n',''))\n",
    "\n",
    "resultado=pd.DataFrame()\n",
    "resultado['Lenguaje']=lenguaje\n",
    "resultado['Nº Hablantes']=Numero_hablantes\n",
    "resultado['Fam Lenguaje']=Familia_lenguaje\n",
    "resultado['Branch']=Branch\n",
    "\n"
   ]
  },
  {
   "cell_type": "code",
   "execution_count": 1274,
   "metadata": {},
   "outputs": [
    {
     "data": {
      "text/html": [
       "<div>\n",
       "<style scoped>\n",
       "    .dataframe tbody tr th:only-of-type {\n",
       "        vertical-align: middle;\n",
       "    }\n",
       "\n",
       "    .dataframe tbody tr th {\n",
       "        vertical-align: top;\n",
       "    }\n",
       "\n",
       "    .dataframe thead th {\n",
       "        text-align: right;\n",
       "    }\n",
       "</style>\n",
       "<table border=\"1\" class=\"dataframe\">\n",
       "  <thead>\n",
       "    <tr style=\"text-align: right;\">\n",
       "      <th></th>\n",
       "      <th>Lenguaje</th>\n",
       "      <th>Nº Hablantes</th>\n",
       "      <th>Fam Lenguaje</th>\n",
       "      <th>Branch</th>\n",
       "    </tr>\n",
       "  </thead>\n",
       "  <tbody>\n",
       "    <tr>\n",
       "      <th>0</th>\n",
       "      <td>Mandarin Chinese(incl. Standard Chinese, but e...</td>\n",
       "      <td>939</td>\n",
       "      <td>Sino-Tibetan</td>\n",
       "      <td>Sinitic</td>\n",
       "    </tr>\n",
       "    <tr>\n",
       "      <th>1</th>\n",
       "      <td>Spanish</td>\n",
       "      <td>485</td>\n",
       "      <td>Indo-European</td>\n",
       "      <td>Romance</td>\n",
       "    </tr>\n",
       "    <tr>\n",
       "      <th>2</th>\n",
       "      <td>English</td>\n",
       "      <td>380</td>\n",
       "      <td>Indo-European</td>\n",
       "      <td>Germanic</td>\n",
       "    </tr>\n",
       "    <tr>\n",
       "      <th>3</th>\n",
       "      <td>Hindi(excl. Urdu, and other languages)</td>\n",
       "      <td>345</td>\n",
       "      <td>Indo-European</td>\n",
       "      <td>Indo-Aryan</td>\n",
       "    </tr>\n",
       "    <tr>\n",
       "      <th>4</th>\n",
       "      <td>Portuguese</td>\n",
       "      <td>236</td>\n",
       "      <td>Indo-European</td>\n",
       "      <td>Romance</td>\n",
       "    </tr>\n",
       "    <tr>\n",
       "      <th>5</th>\n",
       "      <td>Bengali</td>\n",
       "      <td>234</td>\n",
       "      <td>Indo-European</td>\n",
       "      <td>Indo-Aryan</td>\n",
       "    </tr>\n",
       "    <tr>\n",
       "      <th>6</th>\n",
       "      <td>Russian</td>\n",
       "      <td>147</td>\n",
       "      <td>Indo-European</td>\n",
       "      <td>Balto-Slavic</td>\n",
       "    </tr>\n",
       "    <tr>\n",
       "      <th>7</th>\n",
       "      <td>Japanese</td>\n",
       "      <td>123</td>\n",
       "      <td>Japonic</td>\n",
       "      <td>Japanese</td>\n",
       "    </tr>\n",
       "    <tr>\n",
       "      <th>8</th>\n",
       "      <td>Yue Chinese(incl. Cantonese)</td>\n",
       "      <td>86.1</td>\n",
       "      <td>Sino-Tibetan</td>\n",
       "      <td>Sinitic</td>\n",
       "    </tr>\n",
       "  </tbody>\n",
       "</table>\n",
       "</div>"
      ],
      "text/plain": [
       "                                            Lenguaje Nº Hablantes   \n",
       "0  Mandarin Chinese(incl. Standard Chinese, but e...          939  \\\n",
       "1                                            Spanish          485   \n",
       "2                                            English          380   \n",
       "3             Hindi(excl. Urdu, and other languages)          345   \n",
       "4                                         Portuguese          236   \n",
       "5                                            Bengali          234   \n",
       "6                                            Russian          147   \n",
       "7                                           Japanese          123   \n",
       "8                       Yue Chinese(incl. Cantonese)         86.1   \n",
       "\n",
       "    Fam Lenguaje        Branch  \n",
       "0   Sino-Tibetan       Sinitic  \n",
       "1  Indo-European       Romance  \n",
       "2  Indo-European      Germanic  \n",
       "3  Indo-European    Indo-Aryan  \n",
       "4  Indo-European       Romance  \n",
       "5  Indo-European    Indo-Aryan  \n",
       "6  Indo-European  Balto-Slavic  \n",
       "7        Japonic      Japanese  \n",
       "8   Sino-Tibetan       Sinitic  "
      ]
     },
     "execution_count": 1274,
     "metadata": {},
     "output_type": "execute_result"
    }
   ],
   "source": [
    "resultado"
   ]
  },
  {
   "cell_type": "markdown",
   "metadata": {},
   "source": [
    "### BONUS QUESTIONS"
   ]
  },
  {
   "cell_type": "markdown",
   "metadata": {},
   "source": [
    "#### Scrape a certain number of tweets of a given Twitter account."
   ]
  },
  {
   "cell_type": "code",
   "execution_count": 1275,
   "metadata": {},
   "outputs": [],
   "source": [
    "# This is the url you will scrape in this exercise \n",
    "# You will need to add the account credentials to this url\n",
    "url = 'https://twitter.com/'"
   ]
  },
  {
   "cell_type": "code",
   "execution_count": 1276,
   "metadata": {},
   "outputs": [],
   "source": [
    "# your code"
   ]
  },
  {
   "cell_type": "markdown",
   "metadata": {},
   "source": [
    "#### IMDB's Top 250 data (movie name, Initial release, director name and stars) as a pandas dataframe"
   ]
  },
  {
   "cell_type": "code",
   "execution_count": 1277,
   "metadata": {},
   "outputs": [],
   "source": [
    "# This is the url you will scrape in this exercise \n",
    "url = 'https://www.imdb.com/chart/top'"
   ]
  },
  {
   "cell_type": "code",
   "execution_count": 1278,
   "metadata": {},
   "outputs": [],
   "source": [
    "# your code"
   ]
  },
  {
   "cell_type": "markdown",
   "metadata": {},
   "source": [
    "#### Movie name, year and a brief summary of the top 10 random movies (IMDB) as a pandas dataframe."
   ]
  },
  {
   "cell_type": "code",
   "execution_count": 1279,
   "metadata": {},
   "outputs": [],
   "source": [
    "#This is the url you will scrape in this exercise\n",
    "url = 'http://www.imdb.com/chart/top'"
   ]
  },
  {
   "cell_type": "code",
   "execution_count": 1280,
   "metadata": {},
   "outputs": [],
   "source": [
    "#your code"
   ]
  },
  {
   "cell_type": "markdown",
   "metadata": {},
   "source": [
    "#### Find the live weather report (temperature, wind speed, description and weather) of a given city."
   ]
  },
  {
   "cell_type": "code",
   "execution_count": 1281,
   "metadata": {},
   "outputs": [
    {
     "ename": "NameError",
     "evalue": "name 'city' is not defined",
     "output_type": "error",
     "traceback": [
      "\u001b[1;31m---------------------------------------------------------------------------\u001b[0m",
      "\u001b[1;31mNameError\u001b[0m                                 Traceback (most recent call last)",
      "Cell \u001b[1;32mIn[1281], line 3\u001b[0m\n\u001b[0;32m      1\u001b[0m \u001b[39m#https://openweathermap.org/current\u001b[39;00m\n\u001b[0;32m      2\u001b[0m \u001b[39m#city = city=input('Enter the city:')\u001b[39;00m\n\u001b[1;32m----> 3\u001b[0m url \u001b[39m=\u001b[39m \u001b[39m'\u001b[39m\u001b[39mhttp://api.openweathermap.org/data/2.5/weather?\u001b[39m\u001b[39m'\u001b[39m\u001b[39m+\u001b[39m\u001b[39m'\u001b[39m\u001b[39mq=\u001b[39m\u001b[39m'\u001b[39m\u001b[39m+\u001b[39mcity\u001b[39m+\u001b[39m\u001b[39m'\u001b[39m\u001b[39m&APPID=b35975e18dc93725acb092f7272cc6b8&units=metric\u001b[39m\u001b[39m'\u001b[39m\n",
      "\u001b[1;31mNameError\u001b[0m: name 'city' is not defined"
     ]
    }
   ],
   "source": [
    "#https://openweathermap.org/current\n",
    "#city = city=input('Enter the city:')\n",
    "#url = 'http://api.openweathermap.org/data/2.5/weather?'+'q='+city+'&APPID=b35975e18dc93725acb092f7272cc6b8&units=metric'"
   ]
  },
  {
   "cell_type": "code",
   "execution_count": null,
   "metadata": {},
   "outputs": [],
   "source": [
    "# your code"
   ]
  },
  {
   "cell_type": "markdown",
   "metadata": {},
   "source": [
    "#### Book name,price and stock availability as a pandas dataframe."
   ]
  },
  {
   "cell_type": "code",
   "execution_count": null,
   "metadata": {},
   "outputs": [],
   "source": [
    "# This is the url you will scrape in this exercise. \n",
    "# It is a fictional bookstore created to be scraped. \n",
    "url = 'http://books.toscrape.com/'"
   ]
  },
  {
   "cell_type": "code",
   "execution_count": null,
   "metadata": {},
   "outputs": [],
   "source": [
    "#your code"
   ]
  }
 ],
 "metadata": {
  "kernelspec": {
   "display_name": "Python 3",
   "language": "python",
   "name": "python3"
  },
  "language_info": {
   "codemirror_mode": {
    "name": "ipython",
    "version": 3
   },
   "file_extension": ".py",
   "mimetype": "text/x-python",
   "name": "python",
   "nbconvert_exporter": "python",
   "pygments_lexer": "ipython3",
   "version": "3.10.11"
  }
 },
 "nbformat": 4,
 "nbformat_minor": 2
}
